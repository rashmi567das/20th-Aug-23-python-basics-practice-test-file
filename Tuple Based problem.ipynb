{
 "cells": [
  {
   "cell_type": "code",
   "execution_count": 1,
   "id": "322434bf-7522-40b1-b400-c20950b4dad7",
   "metadata": {},
   "outputs": [],
   "source": [
    "t = (1, 2, 4, 6, 3, 5)"
   ]
  },
  {
   "cell_type": "code",
   "execution_count": 2,
   "id": "443804a3-5d97-4304-851f-60c305a3c80d",
   "metadata": {},
   "outputs": [
    {
     "data": {
      "text/plain": [
       "(1, 2, 4, 6, 3, 5)"
      ]
     },
     "execution_count": 2,
     "metadata": {},
     "output_type": "execute_result"
    }
   ],
   "source": [
    "t"
   ]
  },
  {
   "cell_type": "code",
   "execution_count": 3,
   "id": "2acfcb18-3efb-4345-bd18-b4e197a02d2b",
   "metadata": {},
   "outputs": [
    {
     "data": {
      "text/plain": [
       "(1, 2, 4, 6, 3, 5)"
      ]
     },
     "execution_count": 3,
     "metadata": {},
     "output_type": "execute_result"
    }
   ],
   "source": [
    "t"
   ]
  },
  {
   "cell_type": "code",
   "execution_count": 4,
   "id": "eee19273-5906-42df-a95e-e4fe50287ebc",
   "metadata": {},
   "outputs": [],
   "source": [
    "third_element = t[2]"
   ]
  },
  {
   "cell_type": "code",
   "execution_count": 5,
   "id": "2cd79331-fea6-4ca8-b7f5-a3f8818c5632",
   "metadata": {},
   "outputs": [
    {
     "data": {
      "text/plain": [
       "4"
      ]
     },
     "execution_count": 5,
     "metadata": {},
     "output_type": "execute_result"
    }
   ],
   "source": [
    "third_element"
   ]
  },
  {
   "cell_type": "code",
   "execution_count": 6,
   "id": "0d3ac412-3556-4d4c-995b-160d5fc98184",
   "metadata": {},
   "outputs": [],
   "source": [
    "t1 =(10, 20, 30, 40, 50)"
   ]
  },
  {
   "cell_type": "code",
   "execution_count": 7,
   "id": "e07533ae-ef69-48b8-973d-379a3acef316",
   "metadata": {},
   "outputs": [],
   "source": [
    "count = 0"
   ]
  },
  {
   "cell_type": "code",
   "execution_count": 17,
   "id": "3a56f59f-9dd2-4498-8781-e76774044965",
   "metadata": {},
   "outputs": [],
   "source": [
    "count += 1"
   ]
  },
  {
   "cell_type": "code",
   "execution_count": 1,
   "id": "f833372c-c351-436d-8ec6-7c2e645c50f1",
   "metadata": {},
   "outputs": [],
   "source": [
    "count = 5"
   ]
  },
  {
   "cell_type": "code",
   "execution_count": 18,
   "id": "a17effcc-020b-445e-bdd7-0f5b04c51e9b",
   "metadata": {},
   "outputs": [
    {
     "name": "stdout",
     "output_type": "stream",
     "text": [
      "The length of the tuple is: 5\n"
     ]
    }
   ],
   "source": [
    "print(\"The length of the tuple is:\",count)"
   ]
  },
  {
   "cell_type": "code",
   "execution_count": 20,
   "id": "f12ee878-9be0-4a8f-b90b-d22c3ec81d13",
   "metadata": {},
   "outputs": [],
   "source": [
    "t2 = (1, 2, 3, 4, 5, 6, 7, 4)"
   ]
  },
  {
   "cell_type": "code",
   "execution_count": 21,
   "id": "bc629bfe-63ef-4e97-9a2d-0f1a0d0e4241",
   "metadata": {},
   "outputs": [],
   "source": [
    "element_to_count = 4"
   ]
  },
  {
   "cell_type": "code",
   "execution_count": 22,
   "id": "70736deb-ab48-43ae-9d9d-f86054550d29",
   "metadata": {},
   "outputs": [],
   "source": [
    "count = 0"
   ]
  },
  {
   "cell_type": "code",
   "execution_count": 23,
   "id": "e961bd7e-fc83-4a0d-9e3d-517d76120675",
   "metadata": {},
   "outputs": [],
   "source": [
    "count += 1"
   ]
  },
  {
   "cell_type": "code",
   "execution_count": 24,
   "id": "c54988fe-b5dc-4d6f-94b8-77ba36065403",
   "metadata": {},
   "outputs": [
    {
     "data": {
      "text/plain": [
       "2"
      ]
     },
     "execution_count": 24,
     "metadata": {},
     "output_type": "execute_result"
    }
   ],
   "source": [
    "t2.count(4)"
   ]
  },
  {
   "cell_type": "code",
   "execution_count": 26,
   "id": "24b304f0-ca99-4bfb-847e-dcd67496c32c",
   "metadata": {},
   "outputs": [
    {
     "name": "stdout",
     "output_type": "stream",
     "text": [
      "The element 4 appears 2 times in the tuple.\n"
     ]
    }
   ],
   "source": [
    "print(\"The element 4 appears 2 times in the tuple.\")"
   ]
  },
  {
   "cell_type": "code",
   "execution_count": 28,
   "id": "e36a07b0-20bb-43ad-9036-88dcd4d188e1",
   "metadata": {},
   "outputs": [
    {
     "data": {
      "text/plain": [
       "(1, 2, 3, 4, 5, 6, 7, 4)"
      ]
     },
     "execution_count": 28,
     "metadata": {},
     "output_type": "execute_result"
    }
   ],
   "source": [
    "t2"
   ]
  },
  {
   "cell_type": "code",
   "execution_count": 30,
   "id": "090aac61-0f3a-45b9-a347-26bad91021db",
   "metadata": {},
   "outputs": [],
   "source": [
    "element_to_find = 4"
   ]
  },
  {
   "cell_type": "code",
   "execution_count": 31,
   "id": "0c9dce88-b1b0-4c22-a31e-1381db2060fc",
   "metadata": {},
   "outputs": [],
   "source": [
    "index = -1"
   ]
  },
  {
   "cell_type": "code",
   "execution_count": 32,
   "id": "9bf9c5c2-26fd-48ed-a743-5433e88ce635",
   "metadata": {},
   "outputs": [],
   "source": [
    "index = 3"
   ]
  },
  {
   "cell_type": "code",
   "execution_count": 33,
   "id": "a2122988-80d9-4611-bcb6-57d044fa9e98",
   "metadata": {},
   "outputs": [
    {
     "data": {
      "text/plain": [
       "3"
      ]
     },
     "execution_count": 33,
     "metadata": {},
     "output_type": "execute_result"
    }
   ],
   "source": [
    "index"
   ]
  },
  {
   "cell_type": "code",
   "execution_count": 34,
   "id": "13d113ca-1613-4de9-bfb7-ef468b0f95a2",
   "metadata": {},
   "outputs": [
    {
     "data": {
      "text/plain": [
       "3"
      ]
     },
     "execution_count": 34,
     "metadata": {},
     "output_type": "execute_result"
    }
   ],
   "source": [
    "t2.index(4)"
   ]
  },
  {
   "cell_type": "code",
   "execution_count": 36,
   "id": "821738ee-61cd-4733-b68c-47e60176a813",
   "metadata": {},
   "outputs": [
    {
     "name": "stdout",
     "output_type": "stream",
     "text": [
      "The first occurrence of 4 is at index 3\n"
     ]
    }
   ],
   "source": [
    "print(\"The first occurrence of 4 is at index 3\")"
   ]
  },
  {
   "cell_type": "code",
   "execution_count": 37,
   "id": "dd097a59-5390-4092-9004-cdbcf78a1d4b",
   "metadata": {},
   "outputs": [],
   "source": [
    "t3 = ('a', 'b', 'c', 'd', 'e')"
   ]
  },
  {
   "cell_type": "code",
   "execution_count": 39,
   "id": "c2d51870-74b1-448d-8eb2-08ab8bb22870",
   "metadata": {},
   "outputs": [],
   "source": [
    "element_to_check = 'c'"
   ]
  },
  {
   "cell_type": "code",
   "execution_count": 40,
   "id": "2718809e-f514-411a-9be8-eb0ea0bfb7bc",
   "metadata": {},
   "outputs": [
    {
     "name": "stdout",
     "output_type": "stream",
     "text": [
      " 'c' exists in the tuple\n"
     ]
    }
   ],
   "source": [
    "print(\" 'c' exists in the tuple\")"
   ]
  },
  {
   "cell_type": "code",
   "execution_count": 41,
   "id": "306f7357-887a-4513-8fab-c5ddd9ac2727",
   "metadata": {},
   "outputs": [],
   "source": [
    "t4 = (10, 20, 30, 40, 50)"
   ]
  },
  {
   "cell_type": "code",
   "execution_count": 42,
   "id": "0dc670a8-0efd-47c9-b430-8a8d538d52f2",
   "metadata": {},
   "outputs": [],
   "source": [
    "l = list(t4)"
   ]
  },
  {
   "cell_type": "code",
   "execution_count": 45,
   "id": "81c6b574-3649-4a35-8b1c-d07089a5eb39",
   "metadata": {},
   "outputs": [
    {
     "data": {
      "text/plain": [
       "(10, 20, 30, 40, 50)"
      ]
     },
     "execution_count": 45,
     "metadata": {},
     "output_type": "execute_result"
    }
   ],
   "source": [
    "t4"
   ]
  },
  {
   "cell_type": "code",
   "execution_count": 46,
   "id": "746810d9-6465-4df8-ac6e-99c26403522b",
   "metadata": {},
   "outputs": [
    {
     "data": {
      "text/plain": [
       "[10, 20, 30, 40, 50]"
      ]
     },
     "execution_count": 46,
     "metadata": {},
     "output_type": "execute_result"
    }
   ],
   "source": [
    "l"
   ]
  },
  {
   "cell_type": "code",
   "execution_count": 47,
   "id": "998cd3d9-4b56-4d24-bde1-be6ab9405734",
   "metadata": {},
   "outputs": [],
   "source": [
    "l1 = [1, 2, 3, 4, 5]"
   ]
  },
  {
   "cell_type": "code",
   "execution_count": 48,
   "id": "4930ea92-760d-4092-a572-6973009811d3",
   "metadata": {},
   "outputs": [],
   "source": [
    "t =tuple(l1)"
   ]
  },
  {
   "cell_type": "code",
   "execution_count": 50,
   "id": "3bfa6f88-068c-4cb7-a976-4e2423097922",
   "metadata": {},
   "outputs": [
    {
     "data": {
      "text/plain": [
       "[1, 2, 3, 4, 5]"
      ]
     },
     "execution_count": 50,
     "metadata": {},
     "output_type": "execute_result"
    }
   ],
   "source": [
    "l1"
   ]
  },
  {
   "cell_type": "code",
   "execution_count": 49,
   "id": "8fe06d37-1b3d-445c-83b2-aaeb4c4985ff",
   "metadata": {},
   "outputs": [
    {
     "data": {
      "text/plain": [
       "(1, 2, 3, 4, 5)"
      ]
     },
     "execution_count": 49,
     "metadata": {},
     "output_type": "execute_result"
    }
   ],
   "source": [
    "t"
   ]
  },
  {
   "cell_type": "code",
   "execution_count": 51,
   "id": "42364e7e-272c-4249-99a8-d322a3e56773",
   "metadata": {},
   "outputs": [],
   "source": [
    "t1 =(10, 20, 30)"
   ]
  },
  {
   "cell_type": "code",
   "execution_count": 52,
   "id": "aca5bfa1-4f0c-45e8-af29-aff142dee0ac",
   "metadata": {},
   "outputs": [
    {
     "data": {
      "text/plain": [
       "(10, 20, 30)"
      ]
     },
     "execution_count": 52,
     "metadata": {},
     "output_type": "execute_result"
    }
   ],
   "source": [
    "t1"
   ]
  },
  {
   "cell_type": "code",
   "execution_count": 53,
   "id": "658bec58-c6ec-41cc-b2ae-6a24f727833b",
   "metadata": {},
   "outputs": [],
   "source": [
    "var1, var2, var3 = t1"
   ]
  },
  {
   "cell_type": "code",
   "execution_count": 54,
   "id": "0bc992b4-8132-4ebf-a13d-6b29d33bab6c",
   "metadata": {},
   "outputs": [
    {
     "data": {
      "text/plain": [
       "10"
      ]
     },
     "execution_count": 54,
     "metadata": {},
     "output_type": "execute_result"
    }
   ],
   "source": [
    "var1"
   ]
  },
  {
   "cell_type": "code",
   "execution_count": 55,
   "id": "a8721f54-a8ec-4b8d-b450-962e75d4153d",
   "metadata": {},
   "outputs": [
    {
     "data": {
      "text/plain": [
       "20"
      ]
     },
     "execution_count": 55,
     "metadata": {},
     "output_type": "execute_result"
    }
   ],
   "source": [
    "var2"
   ]
  },
  {
   "cell_type": "code",
   "execution_count": 56,
   "id": "48be8518-1c62-42dd-9dc5-9b8036a5904e",
   "metadata": {},
   "outputs": [
    {
     "data": {
      "text/plain": [
       "30"
      ]
     },
     "execution_count": 56,
     "metadata": {},
     "output_type": "execute_result"
    }
   ],
   "source": [
    "var3"
   ]
  },
  {
   "cell_type": "code",
   "execution_count": 57,
   "id": "753fdcb2-99bb-4653-be18-434fa777f98e",
   "metadata": {},
   "outputs": [],
   "source": [
    "even_numbers_list = [2, 4, 6, 8, 10]"
   ]
  },
  {
   "cell_type": "code",
   "execution_count": 58,
   "id": "8e556fba-0204-4fff-9a34-e520eb521027",
   "metadata": {},
   "outputs": [],
   "source": [
    "even_numbers_tuple = tuple(even_numbers_list)"
   ]
  },
  {
   "cell_type": "code",
   "execution_count": 59,
   "id": "2b40568d-497d-4b89-8f64-229771387828",
   "metadata": {},
   "outputs": [
    {
     "data": {
      "text/plain": [
       "(2, 4, 6, 8, 10)"
      ]
     },
     "execution_count": 59,
     "metadata": {},
     "output_type": "execute_result"
    }
   ],
   "source": [
    "even_numbers_tuple"
   ]
  },
  {
   "cell_type": "code",
   "execution_count": 60,
   "id": "c16d16c7-b2a7-4220-bc1f-682255678bb4",
   "metadata": {},
   "outputs": [],
   "source": [
    "odd_numbers_list = [1, 3, 5, 7, 9]"
   ]
  },
  {
   "cell_type": "code",
   "execution_count": 61,
   "id": "130e8c7a-680c-4218-8210-0f04f507ccae",
   "metadata": {},
   "outputs": [],
   "source": [
    "odd_numbers_tuple = tuple(odd_numbers_list)"
   ]
  },
  {
   "cell_type": "code",
   "execution_count": 62,
   "id": "aaa5bb77-f47b-44c8-ba6f-4a2e7b5f6c62",
   "metadata": {},
   "outputs": [
    {
     "data": {
      "text/plain": [
       "(1, 3, 5, 7, 9)"
      ]
     },
     "execution_count": 62,
     "metadata": {},
     "output_type": "execute_result"
    }
   ],
   "source": [
    "odd_numbers_tuple"
   ]
  },
  {
   "cell_type": "code",
   "execution_count": 63,
   "id": "3d6f1042-ca89-4a6b-b7fc-f4297fc90260",
   "metadata": {},
   "outputs": [],
   "source": [
    "t1 = (1, 2, 3, 4, 5, 6)"
   ]
  },
  {
   "cell_type": "code",
   "execution_count": 64,
   "id": "4cb199ba-03c6-49d9-a995-dfbfe22c343d",
   "metadata": {},
   "outputs": [],
   "source": [
    "t2 = (4, 5, 2, 3, 1)"
   ]
  },
  {
   "cell_type": "code",
   "execution_count": 65,
   "id": "3b8c91bf-00fa-41aa-8375-33c714564fd8",
   "metadata": {},
   "outputs": [],
   "source": [
    "concatenated_tuple = t1 + t2"
   ]
  },
  {
   "cell_type": "code",
   "execution_count": 66,
   "id": "e755d2b9-a3cd-45c9-8b5d-0f4a6950b4b7",
   "metadata": {},
   "outputs": [
    {
     "data": {
      "text/plain": [
       "(1, 2, 3, 4, 5, 6, 4, 5, 2, 3, 1)"
      ]
     },
     "execution_count": 66,
     "metadata": {},
     "output_type": "execute_result"
    }
   ],
   "source": [
    "concatenated_tuple"
   ]
  },
  {
   "cell_type": "code",
   "execution_count": 67,
   "id": "8cd97083-9855-46da-82cd-669c2afb0eb7",
   "metadata": {},
   "outputs": [
    {
     "data": {
      "text/plain": [
       "(1, 2, 3, 4, 5, 6)"
      ]
     },
     "execution_count": 67,
     "metadata": {},
     "output_type": "execute_result"
    }
   ],
   "source": [
    "t1"
   ]
  },
  {
   "cell_type": "code",
   "execution_count": 68,
   "id": "080c2ce1-40f2-4ebb-b0f2-b29c1695be05",
   "metadata": {},
   "outputs": [],
   "source": [
    "repeated_tuple = t1*3"
   ]
  },
  {
   "cell_type": "code",
   "execution_count": 69,
   "id": "bec7ab76-647c-4392-8da0-ef6e70c62cba",
   "metadata": {},
   "outputs": [
    {
     "data": {
      "text/plain": [
       "(1, 2, 3, 4, 5, 6, 1, 2, 3, 4, 5, 6, 1, 2, 3, 4, 5, 6)"
      ]
     },
     "execution_count": 69,
     "metadata": {},
     "output_type": "execute_result"
    }
   ],
   "source": [
    "repeated_tuple"
   ]
  },
  {
   "cell_type": "code",
   "execution_count": 70,
   "id": "8b194844-ca72-414a-a764-c14940992274",
   "metadata": {},
   "outputs": [],
   "source": [
    "t = ()"
   ]
  },
  {
   "cell_type": "code",
   "execution_count": 71,
   "id": "e9738bc7-6b29-4a94-aa3b-4a96faf1469f",
   "metadata": {},
   "outputs": [
    {
     "data": {
      "text/plain": [
       "()"
      ]
     },
     "execution_count": 71,
     "metadata": {},
     "output_type": "execute_result"
    }
   ],
   "source": [
    "t"
   ]
  },
  {
   "cell_type": "code",
   "execution_count": 72,
   "id": "c3cbfb72-c946-40cb-a996-2130f5203ec7",
   "metadata": {},
   "outputs": [],
   "source": [
    "t1 = (1, 2, 3)"
   ]
  },
  {
   "cell_type": "code",
   "execution_count": 73,
   "id": "6a4f5779-a9ab-4d2e-bc3d-6aa9d82f66d1",
   "metadata": {},
   "outputs": [
    {
     "data": {
      "text/plain": [
       "(1, 2, 3)"
      ]
     },
     "execution_count": 73,
     "metadata": {},
     "output_type": "execute_result"
    }
   ],
   "source": [
    "t1"
   ]
  },
  {
   "cell_type": "code",
   "execution_count": 74,
   "id": "28c36648-6f6c-4842-9387-3e653d047634",
   "metadata": {},
   "outputs": [
    {
     "name": "stdout",
     "output_type": "stream",
     "text": [
      " t is empty\n"
     ]
    }
   ],
   "source": [
    "print(\" t is empty\")"
   ]
  },
  {
   "cell_type": "code",
   "execution_count": 75,
   "id": "59dd5e79-6487-4b6b-ad94-96bddc39dd25",
   "metadata": {},
   "outputs": [
    {
     "name": "stdout",
     "output_type": "stream",
     "text": [
      " t1 is not empty\n"
     ]
    }
   ],
   "source": [
    "print(\" t1 is not empty\")"
   ]
  },
  {
   "cell_type": "code",
   "execution_count": 76,
   "id": "88ef5b15-d5a7-48fc-b8e4-22e39a90745a",
   "metadata": {},
   "outputs": [],
   "source": [
    "nested_tuple = ((1, 2, 40), ('x', 'y', 'z'), (True, False))"
   ]
  },
  {
   "cell_type": "code",
   "execution_count": 77,
   "id": "02bbbe5f-a6c0-44bd-b11d-d8724d86fad3",
   "metadata": {},
   "outputs": [
    {
     "data": {
      "text/plain": [
       "((1, 2, 40), ('x', 'y', 'z'), (True, False))"
      ]
     },
     "execution_count": 77,
     "metadata": {},
     "output_type": "execute_result"
    }
   ],
   "source": [
    "nested_tuple"
   ]
  },
  {
   "cell_type": "code",
   "execution_count": 1,
   "id": "492b4c99-5598-4034-bf18-295780094d70",
   "metadata": {},
   "outputs": [],
   "source": [
    "t = ((1, 3, 5), (5, 6, 7), (True, False))"
   ]
  },
  {
   "cell_type": "code",
   "execution_count": 2,
   "id": "fd8c58db-deb8-4583-8236-03b9c8ed8df4",
   "metadata": {},
   "outputs": [
    {
     "data": {
      "text/plain": [
       "((1, 3, 5), (5, 6, 7), (True, False))"
      ]
     },
     "execution_count": 2,
     "metadata": {},
     "output_type": "execute_result"
    }
   ],
   "source": [
    "t"
   ]
  },
  {
   "cell_type": "code",
   "execution_count": 3,
   "id": "6d85a031-058f-4a70-8e6d-8d3228b623bc",
   "metadata": {},
   "outputs": [],
   "source": [
    "first_element = t[0]"
   ]
  },
  {
   "cell_type": "code",
   "execution_count": 4,
   "id": "0f65a810-6c2c-41cf-957d-fefee147c2e2",
   "metadata": {},
   "outputs": [
    {
     "data": {
      "text/plain": [
       "(1, 3, 5)"
      ]
     },
     "execution_count": 4,
     "metadata": {},
     "output_type": "execute_result"
    }
   ],
   "source": [
    "first_element"
   ]
  },
  {
   "cell_type": "code",
   "execution_count": 5,
   "id": "a243d0da-3815-4941-bcd8-774719a678d3",
   "metadata": {},
   "outputs": [],
   "source": [
    "t1 = (12)"
   ]
  },
  {
   "cell_type": "code",
   "execution_count": 6,
   "id": "75a1c979-0314-417d-8086-b9f498cc0448",
   "metadata": {},
   "outputs": [
    {
     "data": {
      "text/plain": [
       "12"
      ]
     },
     "execution_count": 6,
     "metadata": {},
     "output_type": "execute_result"
    }
   ],
   "source": [
    "t1"
   ]
  },
  {
   "cell_type": "code",
   "execution_count": 24,
   "id": "29ec0779-83ff-4870-ba23-2f9615df1f80",
   "metadata": {},
   "outputs": [],
   "source": [
    "tuple1 = (1, 2, 3)"
   ]
  },
  {
   "cell_type": "code",
   "execution_count": 25,
   "id": "3530b457-4f75-4e9d-9aea-a707a9a45c37",
   "metadata": {},
   "outputs": [],
   "source": [
    "tuple2 = (1, 2, 4)"
   ]
  },
  {
   "cell_type": "code",
   "execution_count": 26,
   "id": "02af2fd4-6225-4b71-83a1-8af23c3a1549",
   "metadata": {},
   "outputs": [
    {
     "name": "stdout",
     "output_type": "stream",
     "text": [
      "tuple1 != tuple2: True\n"
     ]
    }
   ],
   "source": [
    "print(\"tuple1 != tuple2:\", tuple1 != tuple2)"
   ]
  },
  {
   "cell_type": "code",
   "execution_count": 27,
   "id": "d428364e-a495-4a13-b002-05dd74511e19",
   "metadata": {},
   "outputs": [
    {
     "name": "stdout",
     "output_type": "stream",
     "text": [
      "tuple1 == tuple2: False\n"
     ]
    }
   ],
   "source": [
    "print(\"tuple1 == tuple2:\", tuple1 ==tuple2)"
   ]
  },
  {
   "cell_type": "code",
   "execution_count": 28,
   "id": "3748d281-4e7d-4591-87eb-f5683fd9ad63",
   "metadata": {},
   "outputs": [
    {
     "name": "stdout",
     "output_type": "stream",
     "text": [
      "tuple1 < tuple2: True\n"
     ]
    }
   ],
   "source": [
    "print(\"tuple1 < tuple2:\", tuple1 < tuple2)"
   ]
  },
  {
   "cell_type": "code",
   "execution_count": 30,
   "id": "d8acc77a-1f09-4bff-b718-b32e043d70b6",
   "metadata": {},
   "outputs": [
    {
     "name": "stdout",
     "output_type": "stream",
     "text": [
      "tuple1 <= tuple2: True\n"
     ]
    }
   ],
   "source": [
    "print(\"tuple1 <= tuple2:\", tuple1 <= tuple2)"
   ]
  },
  {
   "cell_type": "code",
   "execution_count": 31,
   "id": "62831cad-7c4d-41d5-bf08-fcd6c1ee9673",
   "metadata": {},
   "outputs": [
    {
     "name": "stdout",
     "output_type": "stream",
     "text": [
      "tuple1 > tuple2: False\n"
     ]
    }
   ],
   "source": [
    "print(\"tuple1 > tuple2:\", tuple1 > tuple2)"
   ]
  },
  {
   "cell_type": "code",
   "execution_count": 32,
   "id": "5cf3addc-8ab1-4b6b-9aa3-d54d17c242f1",
   "metadata": {},
   "outputs": [
    {
     "name": "stdout",
     "output_type": "stream",
     "text": [
      "tuple1 >= tuple2: False\n"
     ]
    }
   ],
   "source": [
    "print(\"tuple1 >= tuple2:\", tuple1 >= tuple2)"
   ]
  },
  {
   "cell_type": "code",
   "execution_count": 33,
   "id": "d55ebb73-d5a3-433d-8457-1080280a3935",
   "metadata": {},
   "outputs": [],
   "source": [
    "t = (3, 5, 7, 9)"
   ]
  },
  {
   "cell_type": "code",
   "execution_count": 34,
   "id": "7a7389c9-baec-4334-a15b-ece0cd352010",
   "metadata": {},
   "outputs": [
    {
     "data": {
      "text/plain": [
       "(3, 5, 7, 9)"
      ]
     },
     "execution_count": 34,
     "metadata": {},
     "output_type": "execute_result"
    }
   ],
   "source": [
    "t"
   ]
  },
  {
   "cell_type": "code",
   "execution_count": 35,
   "id": "e3a58be8-457f-48e8-9483-29dad95fec19",
   "metadata": {},
   "outputs": [],
   "source": [
    "del(t)"
   ]
  },
  {
   "cell_type": "code",
   "execution_count": 36,
   "id": "4a5227d4-bbec-4c84-90cd-1938b547fed0",
   "metadata": {},
   "outputs": [
    {
     "ename": "NameError",
     "evalue": "name 't' is not defined",
     "output_type": "error",
     "traceback": [
      "\u001b[0;31m---------------------------------------------------------------------------\u001b[0m",
      "\u001b[0;31mNameError\u001b[0m                                 Traceback (most recent call last)",
      "Cell \u001b[0;32mIn[36], line 1\u001b[0m\n\u001b[0;32m----> 1\u001b[0m \u001b[43mt\u001b[49m\n",
      "\u001b[0;31mNameError\u001b[0m: name 't' is not defined"
     ]
    }
   ],
   "source": [
    "t"
   ]
  },
  {
   "cell_type": "code",
   "execution_count": 37,
   "id": "2ec31ab1-9808-432b-ab5b-b712f421d601",
   "metadata": {},
   "outputs": [],
   "source": [
    "t1 = (1, 2, 3, 4, 5, 6, 7, 8, 9, 10)"
   ]
  },
  {
   "cell_type": "code",
   "execution_count": 38,
   "id": "05103cfd-8bce-4329-af2f-00038ded378d",
   "metadata": {},
   "outputs": [],
   "source": [
    "sliced_t1 = t1[2:6]"
   ]
  },
  {
   "cell_type": "code",
   "execution_count": 39,
   "id": "656c4b98-9989-4a57-887f-dde252bf42f3",
   "metadata": {},
   "outputs": [
    {
     "data": {
      "text/plain": [
       "(3, 4, 5, 6)"
      ]
     },
     "execution_count": 39,
     "metadata": {},
     "output_type": "execute_result"
    }
   ],
   "source": [
    "sliced_t1"
   ]
  },
  {
   "cell_type": "code",
   "execution_count": 40,
   "id": "d9339b4c-2d4a-4e12-b44c-9f985ad86d1e",
   "metadata": {},
   "outputs": [],
   "source": [
    "sliced_t1 = t1[2:8]"
   ]
  },
  {
   "cell_type": "code",
   "execution_count": 41,
   "id": "ec6c21dc-7c52-47a6-9ef1-0b3e56f0403b",
   "metadata": {},
   "outputs": [
    {
     "data": {
      "text/plain": [
       "(3, 4, 5, 6, 7, 8)"
      ]
     },
     "execution_count": 41,
     "metadata": {},
     "output_type": "execute_result"
    }
   ],
   "source": [
    "sliced_t1"
   ]
  },
  {
   "cell_type": "code",
   "execution_count": 43,
   "id": "02e28843-e100-4d6d-8a20-b49fd1649be3",
   "metadata": {},
   "outputs": [],
   "source": [
    "t2 = (10, 5, 30, 45, 50, 55)"
   ]
  },
  {
   "cell_type": "code",
   "execution_count": 44,
   "id": "c870e24a-391f-4f85-90f9-aaef02084698",
   "metadata": {},
   "outputs": [
    {
     "data": {
      "text/plain": [
       "(10, 5, 30, 45, 50, 55)"
      ]
     },
     "execution_count": 44,
     "metadata": {},
     "output_type": "execute_result"
    }
   ],
   "source": [
    "t2"
   ]
  },
  {
   "cell_type": "code",
   "execution_count": 45,
   "id": "fc9ec3e5-2da9-493e-b616-8bb99ecde1c5",
   "metadata": {},
   "outputs": [],
   "source": [
    "max_value = max(t2)"
   ]
  },
  {
   "cell_type": "code",
   "execution_count": 46,
   "id": "46601058-58d3-4b79-b03c-93aa2c193ad6",
   "metadata": {},
   "outputs": [
    {
     "data": {
      "text/plain": [
       "55"
      ]
     },
     "execution_count": 46,
     "metadata": {},
     "output_type": "execute_result"
    }
   ],
   "source": [
    "max_value"
   ]
  },
  {
   "cell_type": "code",
   "execution_count": 47,
   "id": "4359e8b3-7e47-4888-aeef-f5ca894e85e3",
   "metadata": {},
   "outputs": [
    {
     "data": {
      "text/plain": [
       "(10, 5, 30, 45, 50, 55)"
      ]
     },
     "execution_count": 47,
     "metadata": {},
     "output_type": "execute_result"
    }
   ],
   "source": [
    "t2"
   ]
  },
  {
   "cell_type": "code",
   "execution_count": 48,
   "id": "af3194e9-0d13-47be-aa98-746e9d9166c1",
   "metadata": {},
   "outputs": [],
   "source": [
    "min_value = min(t2)"
   ]
  },
  {
   "cell_type": "code",
   "execution_count": 49,
   "id": "d622325b-42f1-4bec-ac53-8b1c916ae760",
   "metadata": {},
   "outputs": [
    {
     "data": {
      "text/plain": [
       "5"
      ]
     },
     "execution_count": 49,
     "metadata": {},
     "output_type": "execute_result"
    }
   ],
   "source": [
    "min_value"
   ]
  },
  {
   "cell_type": "code",
   "execution_count": 50,
   "id": "97c07acc-8c24-4876-9c60-365137fe5e2c",
   "metadata": {},
   "outputs": [],
   "source": [
    "s = \"Pwskills\""
   ]
  },
  {
   "cell_type": "code",
   "execution_count": 51,
   "id": "fd85528b-736e-411d-ae62-9b1293303e33",
   "metadata": {},
   "outputs": [
    {
     "data": {
      "text/plain": [
       "'Pwskills'"
      ]
     },
     "execution_count": 51,
     "metadata": {},
     "output_type": "execute_result"
    }
   ],
   "source": [
    "s"
   ]
  },
  {
   "cell_type": "code",
   "execution_count": 52,
   "id": "28785a19-111d-470d-a62c-16c8f0d882d1",
   "metadata": {},
   "outputs": [],
   "source": [
    "tuple_character = tuple(s)"
   ]
  },
  {
   "cell_type": "code",
   "execution_count": 53,
   "id": "ab075947-f7c1-40da-b58c-414d9480bef1",
   "metadata": {},
   "outputs": [
    {
     "data": {
      "text/plain": [
       "('P', 'w', 's', 'k', 'i', 'l', 'l', 's')"
      ]
     },
     "execution_count": 53,
     "metadata": {},
     "output_type": "execute_result"
    }
   ],
   "source": [
    "tuple_character"
   ]
  },
  {
   "cell_type": "code",
   "execution_count": 54,
   "id": "9783cfc3-81a1-4ab4-8357-1415160db4ea",
   "metadata": {},
   "outputs": [
    {
     "data": {
      "text/plain": [
       "('P', 'w', 's', 'k', 'i', 'l', 'l', 's')"
      ]
     },
     "execution_count": 54,
     "metadata": {},
     "output_type": "execute_result"
    }
   ],
   "source": [
    "tuple_character"
   ]
  },
  {
   "cell_type": "code",
   "execution_count": 58,
   "id": "0d40f0a4-f8ed-4f4b-8003-a82e4a7ab725",
   "metadata": {},
   "outputs": [],
   "source": [
    "string_from_tuple =''. join(tuple_character)"
   ]
  },
  {
   "cell_type": "code",
   "execution_count": 59,
   "id": "cc8bd5a8-bab1-47b1-a618-391260508c8a",
   "metadata": {},
   "outputs": [
    {
     "data": {
      "text/plain": [
       "'Pwskills'"
      ]
     },
     "execution_count": 59,
     "metadata": {},
     "output_type": "execute_result"
    }
   ],
   "source": [
    "string_from_tuple"
   ]
  },
  {
   "cell_type": "code",
   "execution_count": 60,
   "id": "3957b8ff-8405-4aba-b665-9eaf3cd8f1c1",
   "metadata": {},
   "outputs": [],
   "source": [
    "mix_tuple = (3, \"pwskills\", 34.65, True)"
   ]
  },
  {
   "cell_type": "code",
   "execution_count": 61,
   "id": "d7af51a5-4e77-43df-8b80-d72ca796fd47",
   "metadata": {},
   "outputs": [
    {
     "data": {
      "text/plain": [
       "(3, 'pwskills', 34.65, True)"
      ]
     },
     "execution_count": 61,
     "metadata": {},
     "output_type": "execute_result"
    }
   ],
   "source": [
    "mix_tuple"
   ]
  },
  {
   "cell_type": "code",
   "execution_count": 78,
   "id": "8e8554d6-d911-4026-a921-872a9b9745a3",
   "metadata": {},
   "outputs": [],
   "source": [
    "tuple1 = (1, 2, 3)"
   ]
  },
  {
   "cell_type": "code",
   "execution_count": 79,
   "id": "dd7c5a5a-4412-43b2-959a-891111a11dde",
   "metadata": {},
   "outputs": [],
   "source": [
    "tuple2 = (1, 2, 3)"
   ]
  },
  {
   "cell_type": "code",
   "execution_count": 80,
   "id": "e665340a-9a64-44de-92b2-5d001b507e42",
   "metadata": {},
   "outputs": [],
   "source": [
    "tuple3 = (4, 5, 6)"
   ]
  },
  {
   "cell_type": "code",
   "execution_count": 81,
   "id": "fce1b0ca-2552-49b5-8eb0-12137f2d37f4",
   "metadata": {},
   "outputs": [],
   "source": [
    "are_identical1 = tuple1 == tuple2"
   ]
  },
  {
   "cell_type": "code",
   "execution_count": 82,
   "id": "dad922de-6e92-4b7f-b751-d3b60c8749bf",
   "metadata": {},
   "outputs": [],
   "source": [
    "are_identical2 = tuple1 == tuple3"
   ]
  },
  {
   "cell_type": "code",
   "execution_count": 83,
   "id": "ba3f35e2-4f32-47d2-98be-3e7e115757c3",
   "metadata": {},
   "outputs": [
    {
     "name": "stdout",
     "output_type": "stream",
     "text": [
      "tuple1 and tuple2 are identical: True\n"
     ]
    }
   ],
   "source": [
    "print(\"tuple1 and tuple2 are identical:\", are_identical1)"
   ]
  },
  {
   "cell_type": "code",
   "execution_count": 84,
   "id": "5a4c1fd9-fb10-44bb-8c02-ec52f9917d7b",
   "metadata": {},
   "outputs": [
    {
     "name": "stdout",
     "output_type": "stream",
     "text": [
      "tuple1 and tuple3 are identical: False\n"
     ]
    }
   ],
   "source": [
    "print(\"tuple1 and tuple3 are identical:\", are_identical2)"
   ]
  },
  {
   "cell_type": "code",
   "execution_count": 85,
   "id": "2d15dd0f-cafe-47df-a52a-7902121b7e35",
   "metadata": {},
   "outputs": [],
   "source": [
    "t = (5, 6, 3, 1, 4)"
   ]
  },
  {
   "cell_type": "code",
   "execution_count": 86,
   "id": "81df69df-d7d5-47f8-8877-e336b54170c8",
   "metadata": {},
   "outputs": [
    {
     "data": {
      "text/plain": [
       "(5, 6, 3, 1, 4)"
      ]
     },
     "execution_count": 86,
     "metadata": {},
     "output_type": "execute_result"
    }
   ],
   "source": [
    "t"
   ]
  },
  {
   "cell_type": "code",
   "execution_count": 88,
   "id": "503f990c-689b-44d6-8ac1-e8775a3e79ea",
   "metadata": {},
   "outputs": [],
   "source": [
    "sorted_tuple = tuple(sorted(t))"
   ]
  },
  {
   "cell_type": "code",
   "execution_count": 89,
   "id": "aeb1a344-f950-495b-ab71-38b64ffd72f9",
   "metadata": {},
   "outputs": [
    {
     "data": {
      "text/plain": [
       "(1, 3, 4, 5, 6)"
      ]
     },
     "execution_count": 89,
     "metadata": {},
     "output_type": "execute_result"
    }
   ],
   "source": [
    "sorted_tuple"
   ]
  },
  {
   "cell_type": "code",
   "execution_count": 6,
   "id": "184882fc-0d2e-4bba-aee1-d9d6d08d8dc4",
   "metadata": {},
   "outputs": [],
   "source": [
    "tuple_of_integers = (1,2,3,4,5)"
   ]
  },
  {
   "cell_type": "code",
   "execution_count": 18,
   "id": "29614a88-561d-4d4b-8709-a2de53b571f6",
   "metadata": {},
   "outputs": [],
   "source": [
    "tuple_of_string = tuple(str(1))"
   ]
  },
  {
   "cell_type": "code",
   "execution_count": 19,
   "id": "bec8e597-7f08-4fa5-a7d7-ae55beda08c9",
   "metadata": {},
   "outputs": [
    {
     "data": {
      "text/plain": [
       "('1',)"
      ]
     },
     "execution_count": 19,
     "metadata": {},
     "output_type": "execute_result"
    }
   ],
   "source": [
    "tuple_of_string"
   ]
  },
  {
   "cell_type": "code",
   "execution_count": 20,
   "id": "3e827f8d-e405-44f7-a1d4-f6fe81658460",
   "metadata": {},
   "outputs": [],
   "source": [
    "tuple_of_string = tuple(str(2))"
   ]
  },
  {
   "cell_type": "code",
   "execution_count": 21,
   "id": "b40bd37b-bd05-4fa7-927b-1ee37a703679",
   "metadata": {},
   "outputs": [
    {
     "data": {
      "text/plain": [
       "('2',)"
      ]
     },
     "execution_count": 21,
     "metadata": {},
     "output_type": "execute_result"
    }
   ],
   "source": [
    "tuple_of_string"
   ]
  },
  {
   "cell_type": "code",
   "execution_count": 22,
   "id": "6baddbdc-d8a0-4d78-8c07-ba95b7b4d90f",
   "metadata": {},
   "outputs": [],
   "source": [
    "tuple_of_string = tuple(str(4))"
   ]
  },
  {
   "cell_type": "code",
   "execution_count": 23,
   "id": "8c5b68ee-1eac-49ce-8a87-d5f9f18feb48",
   "metadata": {},
   "outputs": [
    {
     "data": {
      "text/plain": [
       "('4',)"
      ]
     },
     "execution_count": 23,
     "metadata": {},
     "output_type": "execute_result"
    }
   ],
   "source": [
    "tuple_of_string"
   ]
  },
  {
   "cell_type": "code",
   "execution_count": 24,
   "id": "8ca7c661-f46e-4fbd-a36e-0cd7ada2ed7a",
   "metadata": {},
   "outputs": [],
   "source": [
    "tuple_of_string = tuple(str(5))"
   ]
  },
  {
   "cell_type": "code",
   "execution_count": 25,
   "id": "9897d66d-106a-40fa-8cd6-f0a671b0c830",
   "metadata": {},
   "outputs": [
    {
     "data": {
      "text/plain": [
       "('5',)"
      ]
     },
     "execution_count": 25,
     "metadata": {},
     "output_type": "execute_result"
    }
   ],
   "source": [
    "tuple_of_string"
   ]
  },
  {
   "cell_type": "code",
   "execution_count": 28,
   "id": "05d252b9-c2a0-4197-826e-4fd166901746",
   "metadata": {},
   "outputs": [],
   "source": [
    "tuple_of_strings = ('1', '2', '3', '4', '5')"
   ]
  },
  {
   "cell_type": "code",
   "execution_count": 29,
   "id": "f9146c19-947c-4839-ad5d-ada12fec9f5f",
   "metadata": {},
   "outputs": [
    {
     "data": {
      "text/plain": [
       "('1', '2', '3', '4', '5')"
      ]
     },
     "execution_count": 29,
     "metadata": {},
     "output_type": "execute_result"
    }
   ],
   "source": [
    "tuple_of_strings"
   ]
  },
  {
   "cell_type": "code",
   "execution_count": 140,
   "id": "0543e155-42e8-488a-b15a-05c2d71131f9",
   "metadata": {},
   "outputs": [],
   "source": [
    "t = ('10', '20', '30', '40', '50')"
   ]
  },
  {
   "cell_type": "code",
   "execution_count": 141,
   "id": "e402b4bb-e1c3-466c-9bfb-83568855fe4f",
   "metadata": {},
   "outputs": [
    {
     "data": {
      "text/plain": [
       "('10', '20', '30', '40', '50')"
      ]
     },
     "execution_count": 141,
     "metadata": {},
     "output_type": "execute_result"
    }
   ],
   "source": [
    "t"
   ]
  },
  {
   "cell_type": "code",
   "execution_count": 31,
   "id": "73fcec40-cbac-4323-a770-cc4d5075c5ca",
   "metadata": {},
   "outputs": [],
   "source": [
    "integer = int('10')"
   ]
  },
  {
   "cell_type": "code",
   "execution_count": 32,
   "id": "0c06b57d-5ca0-4e4c-b092-04f636204060",
   "metadata": {},
   "outputs": [
    {
     "data": {
      "text/plain": [
       "10"
      ]
     },
     "execution_count": 32,
     "metadata": {},
     "output_type": "execute_result"
    }
   ],
   "source": [
    "integer"
   ]
  },
  {
   "cell_type": "code",
   "execution_count": 35,
   "id": "5f72b270-e40e-4609-87ac-f729a8272524",
   "metadata": {},
   "outputs": [],
   "source": [
    "integer = int('20')"
   ]
  },
  {
   "cell_type": "code",
   "execution_count": 36,
   "id": "eb411e38-292c-4166-9e30-89bc5efe3aeb",
   "metadata": {},
   "outputs": [
    {
     "data": {
      "text/plain": [
       "20"
      ]
     },
     "execution_count": 36,
     "metadata": {},
     "output_type": "execute_result"
    }
   ],
   "source": [
    "integer"
   ]
  },
  {
   "cell_type": "code",
   "execution_count": 37,
   "id": "0c6fdc88-e4d8-4f71-bc48-e2724829d916",
   "metadata": {},
   "outputs": [],
   "source": [
    "integer = int('30')"
   ]
  },
  {
   "cell_type": "code",
   "execution_count": 38,
   "id": "1852f794-2b56-4694-80f4-5912c4f0298b",
   "metadata": {},
   "outputs": [
    {
     "data": {
      "text/plain": [
       "30"
      ]
     },
     "execution_count": 38,
     "metadata": {},
     "output_type": "execute_result"
    }
   ],
   "source": [
    "integer"
   ]
  },
  {
   "cell_type": "code",
   "execution_count": 39,
   "id": "73e82f88-40eb-4fed-9d5f-b9195bc284ee",
   "metadata": {},
   "outputs": [],
   "source": [
    "integer = int('40')"
   ]
  },
  {
   "cell_type": "code",
   "execution_count": 40,
   "id": "53c1f97a-00e6-4059-b772-5fe350074a42",
   "metadata": {},
   "outputs": [
    {
     "data": {
      "text/plain": [
       "40"
      ]
     },
     "execution_count": 40,
     "metadata": {},
     "output_type": "execute_result"
    }
   ],
   "source": [
    "integer"
   ]
  },
  {
   "cell_type": "code",
   "execution_count": 1,
   "id": "ebf64ce2-831f-4de0-b53f-7fae90baec8b",
   "metadata": {},
   "outputs": [],
   "source": [
    "integer = int('50')"
   ]
  },
  {
   "cell_type": "code",
   "execution_count": 2,
   "id": "1eee1fa0-1756-43c6-b91e-969a707ba8bf",
   "metadata": {},
   "outputs": [
    {
     "data": {
      "text/plain": [
       "50"
      ]
     },
     "execution_count": 2,
     "metadata": {},
     "output_type": "execute_result"
    }
   ],
   "source": [
    "integer"
   ]
  },
  {
   "cell_type": "code",
   "execution_count": 3,
   "id": "f133689e-ab2b-4b95-9fc5-0b9bc1761ad0",
   "metadata": {},
   "outputs": [],
   "source": [
    "integers = [10, 20, 30, 40, 50]"
   ]
  },
  {
   "cell_type": "code",
   "execution_count": 4,
   "id": "0d7a230b-584b-4015-99f8-56a5510f7700",
   "metadata": {},
   "outputs": [],
   "source": [
    "tuple_of_integers = tuple(integers)"
   ]
  },
  {
   "cell_type": "code",
   "execution_count": 5,
   "id": "6863ee8e-6a5b-4ed5-8422-8c52134f71ce",
   "metadata": {},
   "outputs": [
    {
     "data": {
      "text/plain": [
       "(10, 20, 30, 40, 50)"
      ]
     },
     "execution_count": 5,
     "metadata": {},
     "output_type": "execute_result"
    }
   ],
   "source": [
    "tuple_of_integers"
   ]
  },
  {
   "cell_type": "code",
   "execution_count": 145,
   "id": "ca948202-c9ac-412c-b510-3b0de23dde30",
   "metadata": {},
   "outputs": [],
   "source": [
    "t1 = (1, 2, 3)"
   ]
  },
  {
   "cell_type": "code",
   "execution_count": 147,
   "id": "f3fb8190-fe2d-4ecc-99a0-ec962b18d51a",
   "metadata": {},
   "outputs": [],
   "source": [
    "t2 = (4, 5, 6)"
   ]
  },
  {
   "cell_type": "code",
   "execution_count": 148,
   "id": "9991fbce-7982-4a39-9416-d9c34e24357b",
   "metadata": {},
   "outputs": [],
   "source": [
    "merged_tuple = t1 + t2"
   ]
  },
  {
   "cell_type": "code",
   "execution_count": 149,
   "id": "d821fa5b-0742-4699-b4c9-f2920d6658d3",
   "metadata": {},
   "outputs": [
    {
     "data": {
      "text/plain": [
       "(1, 2, 3, 4, 5, 6)"
      ]
     },
     "execution_count": 149,
     "metadata": {},
     "output_type": "execute_result"
    }
   ],
   "source": [
    "merged_tuple"
   ]
  },
  {
   "cell_type": "code",
   "execution_count": 150,
   "id": "2d3b43ac-0e34-436e-9b7d-bbef3eeb51a3",
   "metadata": {},
   "outputs": [],
   "source": [
    "nested_tuple = ((1, 2), (3, 4, 5), (6, (7, 8)))"
   ]
  },
  {
   "cell_type": "code",
   "execution_count": 153,
   "id": "5627d77c-1751-4d94-8fcf-5cd6cb11b63a",
   "metadata": {},
   "outputs": [],
   "source": [
    "flatten_tuple = []"
   ]
  },
  {
   "cell_type": "code",
   "execution_count": null,
   "id": "6c5b0f4d-ac3e-4a3f-a7af-ea08fa5b7a41",
   "metadata": {},
   "outputs": [],
   "source": [
    "flattened_tuple = tuple(flatten_tuple(nested_tuple))"
   ]
  },
  {
   "cell_type": "code",
   "execution_count": 7,
   "id": "590f5d02-cfb0-4a02-97d4-3f59ab470104",
   "metadata": {},
   "outputs": [],
   "source": [
    "prime_numbers_list = (2, 3, 5, 7, 11)"
   ]
  },
  {
   "cell_type": "code",
   "execution_count": 8,
   "id": "b342be8d-0c64-481b-8477-83e78d553951",
   "metadata": {},
   "outputs": [],
   "source": [
    "prime_numbers_tuple = tuple(prime_numbers_list)"
   ]
  },
  {
   "cell_type": "code",
   "execution_count": 9,
   "id": "91701898-5cab-4b55-8c21-185b2a7d5503",
   "metadata": {},
   "outputs": [
    {
     "data": {
      "text/plain": [
       "(2, 3, 5, 7, 11)"
      ]
     },
     "execution_count": 9,
     "metadata": {},
     "output_type": "execute_result"
    }
   ],
   "source": [
    "prime_numbers_tuple"
   ]
  },
  {
   "cell_type": "code",
   "execution_count": 162,
   "id": "a5ba981c-f9e9-4f80-bf97-2460da9c5d1a",
   "metadata": {},
   "outputs": [],
   "source": [
    "t = (3, 4, 5, 4, 3)"
   ]
  },
  {
   "cell_type": "code",
   "execution_count": 163,
   "id": "4d78dde6-b322-460b-bdb4-3ee947b6a3f5",
   "metadata": {},
   "outputs": [],
   "source": [
    "t1 = (1, 2, 3, 4, 5)"
   ]
  },
  {
   "cell_type": "code",
   "execution_count": 164,
   "id": "2a344e8e-1884-4a7f-b242-07130ed3098b",
   "metadata": {},
   "outputs": [
    {
     "data": {
      "text/plain": [
       "(3, 4, 5, 4, 3)"
      ]
     },
     "execution_count": 164,
     "metadata": {},
     "output_type": "execute_result"
    }
   ],
   "source": [
    "t"
   ]
  },
  {
   "cell_type": "code",
   "execution_count": 165,
   "id": "b7407ba6-8e73-4cb7-a442-ff87a96b0046",
   "metadata": {},
   "outputs": [
    {
     "data": {
      "text/plain": [
       "(3, 4, 5, 4, 3)"
      ]
     },
     "execution_count": 165,
     "metadata": {},
     "output_type": "execute_result"
    }
   ],
   "source": [
    "t[::-1]"
   ]
  },
  {
   "cell_type": "code",
   "execution_count": 166,
   "id": "17776074-4cc7-43e4-9ed6-e2f56d977e27",
   "metadata": {},
   "outputs": [
    {
     "data": {
      "text/plain": [
       "(1, 2, 3, 4, 5)"
      ]
     },
     "execution_count": 166,
     "metadata": {},
     "output_type": "execute_result"
    }
   ],
   "source": [
    "t1"
   ]
  },
  {
   "cell_type": "code",
   "execution_count": 167,
   "id": "a60c8e7b-626d-4122-8a1c-9294f52ed96b",
   "metadata": {},
   "outputs": [
    {
     "data": {
      "text/plain": [
       "(5, 4, 3, 2, 1)"
      ]
     },
     "execution_count": 167,
     "metadata": {},
     "output_type": "execute_result"
    }
   ],
   "source": [
    "t1[::-1]"
   ]
  },
  {
   "cell_type": "code",
   "execution_count": 168,
   "id": "1981d878-073d-4244-86e8-c33cbf19b541",
   "metadata": {},
   "outputs": [
    {
     "name": "stdout",
     "output_type": "stream",
     "text": [
      "t is a polindrome\n"
     ]
    }
   ],
   "source": [
    "print(\"t is a polindrome\")"
   ]
  },
  {
   "cell_type": "code",
   "execution_count": 170,
   "id": "a5e1fef4-e3fc-46ff-9555-42e5640ac4e0",
   "metadata": {},
   "outputs": [
    {
     "name": "stdout",
     "output_type": "stream",
     "text": [
      "t1 is a non polindrome\n"
     ]
    }
   ],
   "source": [
    "print(\"t1 is a non polindrome\")"
   ]
  },
  {
   "cell_type": "code",
   "execution_count": 171,
   "id": "6397061c-abbe-4dd3-973e-d633bcd7a85d",
   "metadata": {},
   "outputs": [],
   "source": [
    "t = (1, 2, 3, 4, 5)"
   ]
  },
  {
   "cell_type": "code",
   "execution_count": 173,
   "id": "c56b3a72-07eb-4834-bb73-1bccc35b7610",
   "metadata": {},
   "outputs": [],
   "source": [
    "squares_t = (1**2, 2**2, 3**2, 4**2, 5**2)"
   ]
  },
  {
   "cell_type": "code",
   "execution_count": 174,
   "id": "99273e14-37ca-451f-a9df-3a3a4cff67b3",
   "metadata": {},
   "outputs": [
    {
     "data": {
      "text/plain": [
       "(1, 4, 9, 16, 25)"
      ]
     },
     "execution_count": 174,
     "metadata": {},
     "output_type": "execute_result"
    }
   ],
   "source": [
    "squares_t"
   ]
  },
  {
   "cell_type": "code",
   "execution_count": 175,
   "id": "cc3e817f-8c6c-4fdd-a3c8-9cab685bb23b",
   "metadata": {},
   "outputs": [],
   "source": [
    "t1 = (1, 2, 3, 4, 5, 6, 7, 8, 9, 10)"
   ]
  },
  {
   "cell_type": "code",
   "execution_count": 185,
   "id": "478648c1-a07c-4460-a901-96286f6966f0",
   "metadata": {},
   "outputs": [
    {
     "data": {
      "text/plain": [
       "True"
      ]
     },
     "execution_count": 185,
     "metadata": {},
     "output_type": "execute_result"
    }
   ],
   "source": [
    "1%2 != 0"
   ]
  },
  {
   "cell_type": "code",
   "execution_count": 186,
   "id": "8033a297-f66b-45ed-bbe2-8f4938b5982e",
   "metadata": {},
   "outputs": [
    {
     "data": {
      "text/plain": [
       "False"
      ]
     },
     "execution_count": 186,
     "metadata": {},
     "output_type": "execute_result"
    }
   ],
   "source": [
    "2%2 != 0"
   ]
  },
  {
   "cell_type": "code",
   "execution_count": 187,
   "id": "d26b71b8-a651-4e84-8e02-0a96e1ae0239",
   "metadata": {},
   "outputs": [
    {
     "data": {
      "text/plain": [
       "True"
      ]
     },
     "execution_count": 187,
     "metadata": {},
     "output_type": "execute_result"
    }
   ],
   "source": [
    "3%2 != 0"
   ]
  },
  {
   "cell_type": "code",
   "execution_count": 188,
   "id": "922416cd-6d03-4feb-813b-45d4a55e4f40",
   "metadata": {},
   "outputs": [
    {
     "data": {
      "text/plain": [
       "False"
      ]
     },
     "execution_count": 188,
     "metadata": {},
     "output_type": "execute_result"
    }
   ],
   "source": [
    "4%2 != 0"
   ]
  },
  {
   "cell_type": "code",
   "execution_count": 189,
   "id": "e4db0be6-cfa1-49ee-8307-1e6a6aecc438",
   "metadata": {},
   "outputs": [
    {
     "data": {
      "text/plain": [
       "True"
      ]
     },
     "execution_count": 189,
     "metadata": {},
     "output_type": "execute_result"
    }
   ],
   "source": [
    "5%2 != 0"
   ]
  },
  {
   "cell_type": "code",
   "execution_count": 190,
   "id": "bd709970-c31c-49bf-bc17-c5f6c691590a",
   "metadata": {},
   "outputs": [
    {
     "data": {
      "text/plain": [
       "False"
      ]
     },
     "execution_count": 190,
     "metadata": {},
     "output_type": "execute_result"
    }
   ],
   "source": [
    "6%2 != 0"
   ]
  },
  {
   "cell_type": "code",
   "execution_count": 191,
   "id": "83f82c23-e3f2-4b23-9100-09923ca45db1",
   "metadata": {},
   "outputs": [
    {
     "data": {
      "text/plain": [
       "True"
      ]
     },
     "execution_count": 191,
     "metadata": {},
     "output_type": "execute_result"
    }
   ],
   "source": [
    "7%2 != 0"
   ]
  },
  {
   "cell_type": "code",
   "execution_count": 192,
   "id": "37a4f494-4f12-4f97-80e0-4e959e15594a",
   "metadata": {},
   "outputs": [
    {
     "data": {
      "text/plain": [
       "False"
      ]
     },
     "execution_count": 192,
     "metadata": {},
     "output_type": "execute_result"
    }
   ],
   "source": [
    "8%2 != 0"
   ]
  },
  {
   "cell_type": "code",
   "execution_count": 193,
   "id": "abb94c15-e93f-4906-83ff-8658f45a34a5",
   "metadata": {},
   "outputs": [
    {
     "data": {
      "text/plain": [
       "True"
      ]
     },
     "execution_count": 193,
     "metadata": {},
     "output_type": "execute_result"
    }
   ],
   "source": [
    "9%2 != 0"
   ]
  },
  {
   "cell_type": "code",
   "execution_count": 194,
   "id": "ec75dfc5-0ef2-4057-a180-4340dc6488b7",
   "metadata": {},
   "outputs": [
    {
     "data": {
      "text/plain": [
       "False"
      ]
     },
     "execution_count": 194,
     "metadata": {},
     "output_type": "execute_result"
    }
   ],
   "source": [
    "10%2 != 0"
   ]
  },
  {
   "cell_type": "code",
   "execution_count": 197,
   "id": "167edd6e-ce7b-4e6c-ae31-150d610650ee",
   "metadata": {},
   "outputs": [],
   "source": [
    "filtered_tuple = (1, 3, 5, 7, 9)"
   ]
  },
  {
   "cell_type": "code",
   "execution_count": 198,
   "id": "9dbd5e45-fd3a-49e3-a639-7576550891cf",
   "metadata": {},
   "outputs": [
    {
     "data": {
      "text/plain": [
       "(1, 3, 5, 7, 9)"
      ]
     },
     "execution_count": 198,
     "metadata": {},
     "output_type": "execute_result"
    }
   ],
   "source": [
    "filtered_tuple"
   ]
  },
  {
   "cell_type": "code",
   "execution_count": 199,
   "id": "b59226f8-a296-4f90-af9c-c116cdaaa1de",
   "metadata": {},
   "outputs": [],
   "source": [
    "t = (5, 6, 7, 8, 9, 1)"
   ]
  },
  {
   "cell_type": "code",
   "execution_count": 200,
   "id": "107562cc-6abc-4607-ba54-55175da37d36",
   "metadata": {},
   "outputs": [
    {
     "data": {
      "text/plain": [
       "(5, 6, 7, 8, 9, 1)"
      ]
     },
     "execution_count": 200,
     "metadata": {},
     "output_type": "execute_result"
    }
   ],
   "source": [
    "t"
   ]
  },
  {
   "cell_type": "code",
   "execution_count": 201,
   "id": "0601fee8-4d01-4fcc-aef2-fe19b00397af",
   "metadata": {},
   "outputs": [],
   "source": [
    "doubled_tuple = (5*2, 6*2, 7*2, 8*2, 9*2, 1*2)"
   ]
  },
  {
   "cell_type": "code",
   "execution_count": 202,
   "id": "9a9103d2-acda-4269-8688-ea182aa7e1cf",
   "metadata": {},
   "outputs": [
    {
     "data": {
      "text/plain": [
       "(10, 12, 14, 16, 18, 2)"
      ]
     },
     "execution_count": 202,
     "metadata": {},
     "output_type": "execute_result"
    }
   ],
   "source": [
    "doubled_tuple"
   ]
  },
  {
   "cell_type": "code",
   "execution_count": 10,
   "id": "23a31c42-7ca1-45a5-90a6-7da1d76b3e77",
   "metadata": {},
   "outputs": [],
   "source": [
    "random_tuple = (96, 86,64, 54, 96, 1, 88, 85, 43)"
   ]
  },
  {
   "cell_type": "code",
   "execution_count": 11,
   "id": "a54cb262-65e1-4a0f-8b87-52022fe7a1c0",
   "metadata": {},
   "outputs": [
    {
     "data": {
      "text/plain": [
       "(96, 86, 64, 54, 96, 1, 88, 85, 43)"
      ]
     },
     "execution_count": 11,
     "metadata": {},
     "output_type": "execute_result"
    }
   ],
   "source": [
    "random_tuple"
   ]
  },
  {
   "cell_type": "code",
   "execution_count": 12,
   "id": "2021abb5-9c26-4fa7-9820-64c65916adb5",
   "metadata": {},
   "outputs": [],
   "source": [
    "sorted_tuple = (1, 2, 3, 4, 5)"
   ]
  },
  {
   "cell_type": "code",
   "execution_count": 13,
   "id": "be653c46-d19c-4e03-b59d-1790e2032d09",
   "metadata": {},
   "outputs": [],
   "source": [
    "unsorted_tuple = (5, 3, 1, 4, 2)"
   ]
  },
  {
   "cell_type": "code",
   "execution_count": 20,
   "id": "f45a500c-bc41-4b3c-acdb-49f249579558",
   "metadata": {},
   "outputs": [
    {
     "name": "stdout",
     "output_type": "stream",
     "text": [
      "sorted tuple is sorted\n"
     ]
    }
   ],
   "source": [
    "print(\"sorted_tuple is sorted\")"
   ]
  },
  {
   "cell_type": "code",
   "execution_count": 7,
   "id": "f6dff483-4d8e-4c6b-8d6a-644a96b11a3f",
   "metadata": {},
   "outputs": [
    {
     "name": "stdout",
     "output_type": "stream",
     "text": [
      "unsorted_tuple is not sorted\n"
     ]
    }
   ],
   "source": [
    "print(\"unsorted_tuple is not sorted\")"
   ]
  },
  {
   "cell_type": "code",
   "execution_count": 8,
   "id": "a206ff84-924a-4b7d-bc2c-38ad0edce7e8",
   "metadata": {},
   "outputs": [
    {
     "name": "stdin",
     "output_type": "stream",
     "text": [
      " pwskills\n"
     ]
    }
   ],
   "source": [
    "input_str = input()"
   ]
  },
  {
   "cell_type": "code",
   "execution_count": 9,
   "id": "68d912fc-c0e8-4660-9d40-73e18cceaa53",
   "metadata": {},
   "outputs": [
    {
     "data": {
      "text/plain": [
       "'pwskills'"
      ]
     },
     "execution_count": 9,
     "metadata": {},
     "output_type": "execute_result"
    }
   ],
   "source": [
    "input_str"
   ]
  },
  {
   "cell_type": "code",
   "execution_count": 15,
   "id": "1bc80272-b21a-4944-906a-1b484d285c1c",
   "metadata": {},
   "outputs": [
    {
     "name": "stdin",
     "output_type": "stream",
     "text": [
      " pwskills\n"
     ]
    }
   ],
   "source": [
    "input_list = list(input())"
   ]
  },
  {
   "cell_type": "code",
   "execution_count": 16,
   "id": "6ba581df-33f2-4094-8297-a72b99ecb99a",
   "metadata": {},
   "outputs": [
    {
     "data": {
      "text/plain": [
       "['p', 'w', 's', 'k', 'i', 'l', 'l', 's']"
      ]
     },
     "execution_count": 16,
     "metadata": {},
     "output_type": "execute_result"
    }
   ],
   "source": [
    "input_list"
   ]
  },
  {
   "cell_type": "code",
   "execution_count": 17,
   "id": "9890c27a-da5b-4480-9281-53972e7f9650",
   "metadata": {},
   "outputs": [],
   "source": [
    "user_tuple = tuple(input_list)"
   ]
  },
  {
   "cell_type": "code",
   "execution_count": 18,
   "id": "658c372c-2b86-468f-80f7-b07f4623c580",
   "metadata": {},
   "outputs": [
    {
     "data": {
      "text/plain": [
       "('p', 'w', 's', 'k', 'i', 'l', 'l', 's')"
      ]
     },
     "execution_count": 18,
     "metadata": {},
     "output_type": "execute_result"
    }
   ],
   "source": [
    "user_tuple"
   ]
  },
  {
   "cell_type": "code",
   "execution_count": 19,
   "id": "a03a8c6f-283d-4377-a7d3-0bcaccc4bd40",
   "metadata": {},
   "outputs": [],
   "source": [
    "my_tuple = (1, 2, 3, 4, 5)"
   ]
  },
  {
   "cell_type": "code",
   "execution_count": 20,
   "id": "1192c82a-b823-40d4-b47c-3ac0632c553f",
   "metadata": {},
   "outputs": [],
   "source": [
    "index1 = 1"
   ]
  },
  {
   "cell_type": "code",
   "execution_count": 21,
   "id": "a0fcc3aa-4a4d-48a8-a2d4-9a8e5376c57b",
   "metadata": {},
   "outputs": [],
   "source": [
    "index2 = 3"
   ]
  },
  {
   "cell_type": "code",
   "execution_count": 28,
   "id": "313941cd-6e35-45e2-af23-2ad4af3a4d91",
   "metadata": {},
   "outputs": [],
   "source": [
    "swapped_tuple = (1, 4, 3, 2, 5)"
   ]
  },
  {
   "cell_type": "code",
   "execution_count": 29,
   "id": "83dfdb7e-489c-4909-8479-930215fa1a4f",
   "metadata": {},
   "outputs": [
    {
     "data": {
      "text/plain": [
       "(1, 4, 3, 2, 5)"
      ]
     },
     "execution_count": 29,
     "metadata": {},
     "output_type": "execute_result"
    }
   ],
   "source": [
    "swapped_tuple"
   ]
  },
  {
   "cell_type": "code",
   "execution_count": 30,
   "id": "b5475979-94be-4a3c-a3ea-c880c2284d1e",
   "metadata": {},
   "outputs": [],
   "source": [
    "tuple = (1, 2, 3, 4, 5)"
   ]
  },
  {
   "cell_type": "code",
   "execution_count": 31,
   "id": "32ddeb82-2322-428b-9c1f-97abdb40a998",
   "metadata": {},
   "outputs": [],
   "source": [
    "reverse_tuple = tuple[::-1]"
   ]
  },
  {
   "cell_type": "code",
   "execution_count": 32,
   "id": "6803eb33-d701-4a22-985f-0d5959c642bb",
   "metadata": {},
   "outputs": [
    {
     "data": {
      "text/plain": [
       "(5, 4, 3, 2, 1)"
      ]
     },
     "execution_count": 32,
     "metadata": {},
     "output_type": "execute_result"
    }
   ],
   "source": [
    "reverse_tuple"
   ]
  },
  {
   "cell_type": "code",
   "execution_count": 33,
   "id": "6699b82a-19cd-4620-89cb-eaa87a18d776",
   "metadata": {},
   "outputs": [],
   "source": [
    "n = 5"
   ]
  },
  {
   "cell_type": "code",
   "execution_count": 37,
   "id": "2d43f349-bef4-41f2-93fe-fb52f5336015",
   "metadata": {},
   "outputs": [],
   "source": [
    "power_of_2 = (2 ** 0, 2 ** 1, 2 ** 2, 2 ** 3, 2 ** 4)"
   ]
  },
  {
   "cell_type": "code",
   "execution_count": 38,
   "id": "c332f0ef-12fc-42ad-8fa2-b6a84893bbde",
   "metadata": {},
   "outputs": [
    {
     "data": {
      "text/plain": [
       "(1, 2, 4, 8, 16)"
      ]
     },
     "execution_count": 38,
     "metadata": {},
     "output_type": "execute_result"
    }
   ],
   "source": [
    "power_of_2"
   ]
  },
  {
   "cell_type": "code",
   "execution_count": 41,
   "id": "56d4f604-7d70-4736-9f1d-313a4468a957",
   "metadata": {},
   "outputs": [],
   "source": [
    "string_tuple = (\"apple\", \"banana\", \"grape\", \"kiwi\", \"watermelon\")"
   ]
  },
  {
   "cell_type": "code",
   "execution_count": 42,
   "id": "b172a199-1467-47bf-a956-0e59a2421e9e",
   "metadata": {},
   "outputs": [],
   "source": [
    "longest_string = max(string_tuple, key=len)"
   ]
  },
  {
   "cell_type": "code",
   "execution_count": 43,
   "id": "834bc4c9-9ead-4a69-aeae-68df321814d7",
   "metadata": {},
   "outputs": [
    {
     "data": {
      "text/plain": [
       "'watermelon'"
      ]
     },
     "execution_count": 43,
     "metadata": {},
     "output_type": "execute_result"
    }
   ],
   "source": [
    "longest_string"
   ]
  },
  {
   "cell_type": "code",
   "execution_count": 44,
   "id": "3cf9b434-7123-4f85-8c2d-aba49320f827",
   "metadata": {},
   "outputs": [
    {
     "data": {
      "text/plain": [
       "('apple', 'banana', 'grape', 'kiwi', 'watermelon')"
      ]
     },
     "execution_count": 44,
     "metadata": {},
     "output_type": "execute_result"
    }
   ],
   "source": [
    "string_tuple"
   ]
  },
  {
   "cell_type": "code",
   "execution_count": 45,
   "id": "679a8dce-6b7a-4a12-9005-94c596244bc1",
   "metadata": {},
   "outputs": [],
   "source": [
    "shortest_string = min(string_tuple, key=len)"
   ]
  },
  {
   "cell_type": "code",
   "execution_count": 46,
   "id": "2cf246ef-d8fe-4a54-84f6-57b926e50569",
   "metadata": {},
   "outputs": [
    {
     "data": {
      "text/plain": [
       "'kiwi'"
      ]
     },
     "execution_count": 46,
     "metadata": {},
     "output_type": "execute_result"
    }
   ],
   "source": [
    "shortest_string"
   ]
  },
  {
   "cell_type": "code",
   "execution_count": 8,
   "id": "62cc447c-de9b-432a-8128-925fb0304066",
   "metadata": {},
   "outputs": [],
   "source": [
    "n = 5"
   ]
  },
  {
   "cell_type": "code",
   "execution_count": 48,
   "id": "94903cca-5644-48f7-b886-7d776d09ad26",
   "metadata": {},
   "outputs": [
    {
     "data": {
      "text/plain": [
       "1"
      ]
     },
     "execution_count": 48,
     "metadata": {},
     "output_type": "execute_result"
    }
   ],
   "source": [
    "1 * (1 + 1)//2"
   ]
  },
  {
   "cell_type": "code",
   "execution_count": 49,
   "id": "6d846f97-c9ad-46ad-b9a9-2985c6d61e30",
   "metadata": {},
   "outputs": [
    {
     "data": {
      "text/plain": [
       "3"
      ]
     },
     "execution_count": 49,
     "metadata": {},
     "output_type": "execute_result"
    }
   ],
   "source": [
    "2 * (2 + 1)//2"
   ]
  },
  {
   "cell_type": "code",
   "execution_count": 50,
   "id": "65aa86ff-bd2e-49e1-8188-e217d24e1876",
   "metadata": {},
   "outputs": [
    {
     "data": {
      "text/plain": [
       "6"
      ]
     },
     "execution_count": 50,
     "metadata": {},
     "output_type": "execute_result"
    }
   ],
   "source": [
    "3 * (3 + 1)//2"
   ]
  },
  {
   "cell_type": "code",
   "execution_count": 51,
   "id": "69fbd367-e9da-4201-8ece-9b09e6ca8464",
   "metadata": {},
   "outputs": [
    {
     "data": {
      "text/plain": [
       "10"
      ]
     },
     "execution_count": 51,
     "metadata": {},
     "output_type": "execute_result"
    }
   ],
   "source": [
    "4 *(4 + 1)//2"
   ]
  },
  {
   "cell_type": "code",
   "execution_count": 52,
   "id": "380d3a25-026a-4fb3-80cd-dbe71ce6900f",
   "metadata": {},
   "outputs": [
    {
     "data": {
      "text/plain": [
       "15"
      ]
     },
     "execution_count": 52,
     "metadata": {},
     "output_type": "execute_result"
    }
   ],
   "source": [
    "5 * (5 + 1)//2"
   ]
  },
  {
   "cell_type": "code",
   "execution_count": 2,
   "id": "b2903ca3-5828-47da-a98d-15ce956acfb9",
   "metadata": {},
   "outputs": [],
   "source": [
    "triangular_numbers = (1, 3, 6, 10, 15)"
   ]
  },
  {
   "cell_type": "code",
   "execution_count": 3,
   "id": "31bb2951-4885-43c1-a413-ce25b14f60f5",
   "metadata": {},
   "outputs": [],
   "source": [
    "triangular_numbers_tuple = tuple(triangular_numbers)"
   ]
  },
  {
   "cell_type": "code",
   "execution_count": 4,
   "id": "53d86bd6-ed84-4276-b879-165f87fe4bad",
   "metadata": {},
   "outputs": [
    {
     "data": {
      "text/plain": [
       "(1, 3, 6, 10, 15)"
      ]
     },
     "execution_count": 4,
     "metadata": {},
     "output_type": "execute_result"
    }
   ],
   "source": [
    "triangular_numbers_tuple"
   ]
  },
  {
   "cell_type": "code",
   "execution_count": 9,
   "id": "05071050-a3b2-430a-af37-1ccf07cc585f",
   "metadata": {},
   "outputs": [
    {
     "name": "stdout",
     "output_type": "stream",
     "text": [
      "Tuple of the first 5 triangular numbers: (1, 3, 6, 10, 15)\n"
     ]
    }
   ],
   "source": [
    "print(\"Tuple of the first\", n, \"triangular numbers:\", triangular_numbers_tuple)"
   ]
  },
  {
   "cell_type": "code",
   "execution_count": 10,
   "id": "4b5c6cd0-ebdd-4e26-933b-c8bfd6bb7c94",
   "metadata": {},
   "outputs": [],
   "source": [
    "main_tuple = (1, 2, 3, 4, 5, 6, 7, 8, 9)"
   ]
  },
  {
   "cell_type": "code",
   "execution_count": 14,
   "id": "2b8afa18-ac3b-4ee8-a3ba-c5c7763f50f9",
   "metadata": {},
   "outputs": [],
   "source": [
    "contain_subsequence = sub_tuple"
   ]
  },
  {
   "cell_type": "code",
   "execution_count": 16,
   "id": "d6a24c7f-daf7-497d-9459-c93d405e7109",
   "metadata": {},
   "outputs": [],
   "source": [
    "n = 10"
   ]
  },
  {
   "cell_type": "code",
   "execution_count": 24,
   "id": "641e6c76-c6e9-44ac-bed6-b3f1b47d5f6d",
   "metadata": {},
   "outputs": [
    {
     "data": {
      "text/plain": [
       "(1, 0, 1, 0, 1, 0, 1, 0, 1, 0)"
      ]
     },
     "execution_count": 24,
     "metadata": {},
     "output_type": "execute_result"
    }
   ],
   "source": [
    "(1 % 2, 2 % 2, 3 % 2, 4 % 2, 5 % 2, 6 % 2, 7 % 2, 8 % 2, 9 % 2, 10 % 2)"
   ]
  },
  {
   "cell_type": "code",
   "execution_count": 25,
   "id": "07e405d1-efde-4540-983a-509cff999821",
   "metadata": {},
   "outputs": [],
   "source": [
    "alternating_tuple = (1, 0, 1, 0, 1, 0, 1, 0, 1, 0)"
   ]
  },
  {
   "cell_type": "code",
   "execution_count": 26,
   "id": "4935a1dc-b71e-4c8e-bcaf-82a3f3c2e611",
   "metadata": {},
   "outputs": [
    {
     "data": {
      "text/plain": [
       "(1, 0, 1, 0, 1, 0, 1, 0, 1, 0)"
      ]
     },
     "execution_count": 26,
     "metadata": {},
     "output_type": "execute_result"
    }
   ],
   "source": [
    "alternating_tuple"
   ]
  }
 ],
 "metadata": {
  "kernelspec": {
   "display_name": "Python 3 (ipykernel)",
   "language": "python",
   "name": "python3"
  },
  "language_info": {
   "codemirror_mode": {
    "name": "ipython",
    "version": 3
   },
   "file_extension": ".py",
   "mimetype": "text/x-python",
   "name": "python",
   "nbconvert_exporter": "python",
   "pygments_lexer": "ipython3",
   "version": "3.10.8"
  }
 },
 "nbformat": 4,
 "nbformat_minor": 5
}
