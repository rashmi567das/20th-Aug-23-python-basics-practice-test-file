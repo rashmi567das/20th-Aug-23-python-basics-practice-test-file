{
 "cells": [
  {
   "cell_type": "code",
   "execution_count": 1,
   "id": "9df60f04-ce0b-448f-b7d3-607d4ca89435",
   "metadata": {},
   "outputs": [],
   "source": [
    "input_str = \"Hello, world!\""
   ]
  },
  {
   "cell_type": "code",
   "execution_count": 2,
   "id": "d5fa302c-80bd-431f-aa3d-419385abeb55",
   "metadata": {},
   "outputs": [],
   "source": [
    "reversed_str = input_str[::-1]"
   ]
  },
  {
   "cell_type": "code",
   "execution_count": 3,
   "id": "2ae47e75-e3e5-4cfc-89ae-7f829843df2c",
   "metadata": {},
   "outputs": [
    {
     "data": {
      "text/plain": [
       "'!dlrow ,olleH'"
      ]
     },
     "execution_count": 3,
     "metadata": {},
     "output_type": "execute_result"
    }
   ],
   "source": [
    "reversed_str"
   ]
  },
  {
   "cell_type": "code",
   "execution_count": 10,
   "id": "d8aea2d5-eb65-43b2-b8c8-301e94c3c49d",
   "metadata": {},
   "outputs": [],
   "source": [
    "s = \"level\""
   ]
  },
  {
   "cell_type": "code",
   "execution_count": 11,
   "id": "4f0d1b92-c634-43d9-aec2-fa438a2b3ade",
   "metadata": {},
   "outputs": [
    {
     "data": {
      "text/plain": [
       "'level'"
      ]
     },
     "execution_count": 11,
     "metadata": {},
     "output_type": "execute_result"
    }
   ],
   "source": [
    "s[::-1]"
   ]
  },
  {
   "cell_type": "code",
   "execution_count": 21,
   "id": "7060c013-f57d-45c5-9c38-798e7bde1ad5",
   "metadata": {},
   "outputs": [
    {
     "name": "stdin",
     "output_type": "stream",
     "text": [
      " rashmi\n"
     ]
    }
   ],
   "source": [
    "input_string = input()"
   ]
  },
  {
   "cell_type": "code",
   "execution_count": 22,
   "id": "c754757f-b5b5-4b16-bce7-2dddef4918ab",
   "metadata": {},
   "outputs": [
    {
     "data": {
      "text/plain": [
       "'rashmi'"
      ]
     },
     "execution_count": 22,
     "metadata": {},
     "output_type": "execute_result"
    }
   ],
   "source": [
    "input_string"
   ]
  },
  {
   "cell_type": "code",
   "execution_count": 23,
   "id": "2730c191-c4cc-49ce-af44-66c73cdfca07",
   "metadata": {},
   "outputs": [],
   "source": [
    "upercase_string = input_string.upper()"
   ]
  },
  {
   "cell_type": "code",
   "execution_count": 24,
   "id": "efc30df7-ffb9-44b8-842a-6efc95edc067",
   "metadata": {},
   "outputs": [
    {
     "data": {
      "text/plain": [
       "'RASHMI'"
      ]
     },
     "execution_count": 24,
     "metadata": {},
     "output_type": "execute_result"
    }
   ],
   "source": [
    "upercase_string"
   ]
  },
  {
   "cell_type": "code",
   "execution_count": 25,
   "id": "69db7ce3-6ff5-44ee-8c32-90b9d09387b8",
   "metadata": {},
   "outputs": [
    {
     "name": "stdin",
     "output_type": "stream",
     "text": [
      " PWSKILLS\n"
     ]
    }
   ],
   "source": [
    "input_str = input()"
   ]
  },
  {
   "cell_type": "code",
   "execution_count": 26,
   "id": "fc40b1ce-cc55-4d1d-b8d1-411ff74058a9",
   "metadata": {},
   "outputs": [
    {
     "data": {
      "text/plain": [
       "'PWSKILLS'"
      ]
     },
     "execution_count": 26,
     "metadata": {},
     "output_type": "execute_result"
    }
   ],
   "source": [
    "input_str"
   ]
  },
  {
   "cell_type": "code",
   "execution_count": 27,
   "id": "3033c315-db03-4715-967d-ed28cca1eee2",
   "metadata": {},
   "outputs": [],
   "source": [
    "lower_str = input_str.lower()"
   ]
  },
  {
   "cell_type": "code",
   "execution_count": 28,
   "id": "160e90da-d5bc-48bc-83df-7c0f4ee8205b",
   "metadata": {},
   "outputs": [
    {
     "data": {
      "text/plain": [
       "'pwskills'"
      ]
     },
     "execution_count": 28,
     "metadata": {},
     "output_type": "execute_result"
    }
   ],
   "source": [
    "lower_str"
   ]
  },
  {
   "cell_type": "code",
   "execution_count": 29,
   "id": "5eb1ebe9-88f4-43fc-8dd6-acc2d4607d03",
   "metadata": {},
   "outputs": [],
   "source": [
    "string = \"Hello, how are you\""
   ]
  },
  {
   "cell_type": "code",
   "execution_count": 30,
   "id": "d96dbc47-4755-47a8-a6cd-a03bccb0016a",
   "metadata": {},
   "outputs": [],
   "source": [
    "vowel_count = 0"
   ]
  },
  {
   "cell_type": "code",
   "execution_count": 37,
   "id": "ce5ec80b-1e97-4557-98e6-83e9ce733d6d",
   "metadata": {},
   "outputs": [],
   "source": [
    "vowels = {'e', 'o', 'o', 'a', 'e', 'o', 'u'}"
   ]
  },
  {
   "cell_type": "code",
   "execution_count": 38,
   "id": "9cf56c91-05e1-4429-8c5f-6dbdb4cb24e9",
   "metadata": {},
   "outputs": [],
   "source": [
    "vowel_count += 1"
   ]
  },
  {
   "cell_type": "code",
   "execution_count": 39,
   "id": "cd45208e-eefd-4ae0-83ab-042a65b623cc",
   "metadata": {},
   "outputs": [],
   "source": [
    "vowel_count = 7"
   ]
  },
  {
   "cell_type": "code",
   "execution_count": 41,
   "id": "3469fdf6-aadd-49b3-9b5e-adb210d60db1",
   "metadata": {},
   "outputs": [
    {
     "data": {
      "text/plain": [
       "7"
      ]
     },
     "execution_count": 41,
     "metadata": {},
     "output_type": "execute_result"
    }
   ],
   "source": [
    "vowel_count"
   ]
  },
  {
   "cell_type": "code",
   "execution_count": 47,
   "id": "3a6cbc01-6b98-4368-ba2e-bfd88afe96de",
   "metadata": {},
   "outputs": [
    {
     "name": "stdin",
     "output_type": "stream",
     "text": [
      " python\n"
     ]
    }
   ],
   "source": [
    "s = input()"
   ]
  },
  {
   "cell_type": "code",
   "execution_count": 48,
   "id": "39edefd1-07e9-4797-a0aa-7c4d17ace80e",
   "metadata": {},
   "outputs": [],
   "source": [
    "consonant_count = 0"
   ]
  },
  {
   "cell_type": "code",
   "execution_count": 49,
   "id": "2dbb15dc-f48e-44af-b26c-d950650ed8e1",
   "metadata": {},
   "outputs": [],
   "source": [
    "consonants = {'p', 'y', 't', 'h', 'n'}"
   ]
  },
  {
   "cell_type": "code",
   "execution_count": 50,
   "id": "0426dada-4cdf-4fdf-a43b-ee70e3d3d8f0",
   "metadata": {},
   "outputs": [],
   "source": [
    "consonant_count += 1"
   ]
  },
  {
   "cell_type": "code",
   "execution_count": 51,
   "id": "8a9bd881-72f4-4201-bb60-5f462b6f2a3b",
   "metadata": {},
   "outputs": [],
   "source": [
    "consonant_count = 5"
   ]
  },
  {
   "cell_type": "code",
   "execution_count": 52,
   "id": "faf3952c-2e3b-4a07-a41d-32d80f2229e8",
   "metadata": {},
   "outputs": [
    {
     "data": {
      "text/plain": [
       "5"
      ]
     },
     "execution_count": 52,
     "metadata": {},
     "output_type": "execute_result"
    }
   ],
   "source": [
    "consonant_count"
   ]
  },
  {
   "cell_type": "code",
   "execution_count": 53,
   "id": "26310e15-f9de-4240-9fd6-196c2225eefd",
   "metadata": {},
   "outputs": [
    {
     "name": "stdout",
     "output_type": "stream",
     "text": [
      "Number of consonant: 5\n"
     ]
    }
   ],
   "source": [
    "print(\"Number of consonant:\", consonant_count)"
   ]
  },
  {
   "cell_type": "code",
   "execution_count": 4,
   "id": "39443ea4-a851-43e3-a4b1-f730cf930bf5",
   "metadata": {},
   "outputs": [],
   "source": [
    "s = \"Hello  world!  how's it going?\""
   ]
  },
  {
   "cell_type": "code",
   "execution_count": 5,
   "id": "3287647c-4e51-4c82-8f57-5d78660129e7",
   "metadata": {},
   "outputs": [
    {
     "data": {
      "text/plain": [
       "\"Hello  world!  how's it going?\""
      ]
     },
     "execution_count": 5,
     "metadata": {},
     "output_type": "execute_result"
    }
   ],
   "source": [
    "s"
   ]
  },
  {
   "cell_type": "code",
   "execution_count": 13,
   "id": "e5a4ca2e-75bf-4870-9551-497e75081f98",
   "metadata": {},
   "outputs": [],
   "source": [
    "count = 0"
   ]
  },
  {
   "cell_type": "code",
   "execution_count": 14,
   "id": "aa945c3c-2d27-458e-a70c-7dc68e0921b6",
   "metadata": {},
   "outputs": [],
   "source": [
    "input_string = \"pwskills\""
   ]
  },
  {
   "cell_type": "code",
   "execution_count": 15,
   "id": "44835fbb-84c6-4866-98cc-9a8736a89400",
   "metadata": {},
   "outputs": [],
   "source": [
    "count += 1"
   ]
  },
  {
   "cell_type": "code",
   "execution_count": 17,
   "id": "e17a6869-4a8d-4a1a-9a27-600fabb147a2",
   "metadata": {},
   "outputs": [],
   "source": [
    "count = 8"
   ]
  },
  {
   "cell_type": "code",
   "execution_count": 18,
   "id": "b0c71158-b223-47aa-bb59-352862fe4639",
   "metadata": {},
   "outputs": [
    {
     "name": "stdout",
     "output_type": "stream",
     "text": [
      "The length of the string: 8\n"
     ]
    }
   ],
   "source": [
    "print(\"The length of the string:\", count)"
   ]
  },
  {
   "cell_type": "code",
   "execution_count": 19,
   "id": "4f9c933e-0921-42b6-a3bc-87d6ffe525e1",
   "metadata": {},
   "outputs": [
    {
     "name": "stdin",
     "output_type": "stream",
     "text": [
      " this is my first python class\n"
     ]
    }
   ],
   "source": [
    "s1 = input()"
   ]
  },
  {
   "cell_type": "code",
   "execution_count": 20,
   "id": "07f59ed5-073c-4523-ba4c-e2363db2ee06",
   "metadata": {},
   "outputs": [
    {
     "data": {
      "text/plain": [
       "'this is my first python class'"
      ]
     },
     "execution_count": 20,
     "metadata": {},
     "output_type": "execute_result"
    }
   ],
   "source": [
    "s1"
   ]
  },
  {
   "cell_type": "code",
   "execution_count": 21,
   "id": "d08b3eb7-372f-49a1-89ca-308c7318bbfc",
   "metadata": {},
   "outputs": [
    {
     "name": "stdin",
     "output_type": "stream",
     "text": [
      " data science\n"
     ]
    }
   ],
   "source": [
    "specific_word = input()"
   ]
  },
  {
   "cell_type": "code",
   "execution_count": 22,
   "id": "4be01558-ce3b-4150-889d-e67462d239a0",
   "metadata": {},
   "outputs": [
    {
     "data": {
      "text/plain": [
       "'data science'"
      ]
     },
     "execution_count": 22,
     "metadata": {},
     "output_type": "execute_result"
    }
   ],
   "source": [
    "specific_word"
   ]
  },
  {
   "cell_type": "code",
   "execution_count": 24,
   "id": "803921ac-51f5-49af-ab2b-f3c63c5670c0",
   "metadata": {},
   "outputs": [
    {
     "name": "stdout",
     "output_type": "stream",
     "text": [
      "s1 does not contain the word  ' data science'.\n"
     ]
    }
   ],
   "source": [
    "if specific_word in s1:\n",
    "    print(f\"s1 contains the word  ' {specific_word}'.\")\n",
    "else:\n",
    "    print(f\"s1 does not contain the word  ' {specific_word}'.\")"
   ]
  },
  {
   "cell_type": "code",
   "execution_count": 25,
   "id": "97c9aec1-6724-4f17-bdb2-c0b11900acf6",
   "metadata": {},
   "outputs": [
    {
     "name": "stdin",
     "output_type": "stream",
     "text": [
      " my name is rashmi das\n"
     ]
    }
   ],
   "source": [
    "s2 = input()"
   ]
  },
  {
   "cell_type": "code",
   "execution_count": 26,
   "id": "36e0265a-54c3-4b5a-b248-6e5c2d51bdb3",
   "metadata": {},
   "outputs": [
    {
     "name": "stdin",
     "output_type": "stream",
     "text": [
      " rashmi\n"
     ]
    }
   ],
   "source": [
    "old_word = input()"
   ]
  },
  {
   "cell_type": "code",
   "execution_count": 27,
   "id": "c8f98e55-bb65-465c-9315-822e927e0216",
   "metadata": {},
   "outputs": [
    {
     "name": "stdin",
     "output_type": "stream",
     "text": [
      " rainy\n"
     ]
    }
   ],
   "source": [
    "new_word = input()"
   ]
  },
  {
   "cell_type": "code",
   "execution_count": 28,
   "id": "b9919997-cd24-4d8c-9620-9206dd9979cf",
   "metadata": {},
   "outputs": [
    {
     "data": {
      "text/plain": [
       "'my name is rashmi das'"
      ]
     },
     "execution_count": 28,
     "metadata": {},
     "output_type": "execute_result"
    }
   ],
   "source": [
    "s2"
   ]
  },
  {
   "cell_type": "code",
   "execution_count": 30,
   "id": "d7504c08-a886-4a6c-bbcb-dd386f822d87",
   "metadata": {},
   "outputs": [
    {
     "data": {
      "text/plain": [
       "'rashmi'"
      ]
     },
     "execution_count": 30,
     "metadata": {},
     "output_type": "execute_result"
    }
   ],
   "source": [
    "old_word"
   ]
  },
  {
   "cell_type": "code",
   "execution_count": 32,
   "id": "c3760498-6f3a-45f7-a388-db3381b5bc1c",
   "metadata": {},
   "outputs": [],
   "source": [
    "modified_string = s2.replace(old_word, new_word)"
   ]
  },
  {
   "cell_type": "code",
   "execution_count": 33,
   "id": "a6656e48-0440-456f-bffd-c33940ab51c3",
   "metadata": {},
   "outputs": [
    {
     "data": {
      "text/plain": [
       "'my name is rainy das'"
      ]
     },
     "execution_count": 33,
     "metadata": {},
     "output_type": "execute_result"
    }
   ],
   "source": [
    "modified_string"
   ]
  },
  {
   "cell_type": "code",
   "execution_count": 34,
   "id": "2f824476-3383-4af3-aaa5-6e93640f414d",
   "metadata": {},
   "outputs": [],
   "source": [
    "s3 = \"This is a sample sentence. This sentence contains the word 'sample' multiple items.\""
   ]
  },
  {
   "cell_type": "code",
   "execution_count": 35,
   "id": "81b44309-6c3a-4b51-9222-54c8278c8499",
   "metadata": {},
   "outputs": [],
   "source": [
    "target_word = \"sample\""
   ]
  },
  {
   "cell_type": "code",
   "execution_count": 37,
   "id": "30ca3da4-647a-49be-a6c7-14e3a2a349b9",
   "metadata": {},
   "outputs": [
    {
     "data": {
      "text/plain": [
       "2"
      ]
     },
     "execution_count": 37,
     "metadata": {},
     "output_type": "execute_result"
    }
   ],
   "source": [
    "s3.count(\"sample\")"
   ]
  },
  {
   "cell_type": "code",
   "execution_count": 18,
   "id": "482675a5-0d98-492f-94f4-79f7849f57f0",
   "metadata": {},
   "outputs": [],
   "source": [
    "s4 = \"pwskills\""
   ]
  },
  {
   "cell_type": "code",
   "execution_count": 19,
   "id": "3539f80f-12de-423e-8c82-7308101c07b2",
   "metadata": {},
   "outputs": [],
   "source": [
    "index = s4.find(\"s\")"
   ]
  },
  {
   "cell_type": "code",
   "execution_count": 20,
   "id": "25cf2787-dd3a-4290-b1ff-5afa2c359062",
   "metadata": {},
   "outputs": [
    {
     "data": {
      "text/plain": [
       "2"
      ]
     },
     "execution_count": 20,
     "metadata": {},
     "output_type": "execute_result"
    }
   ],
   "source": [
    "index"
   ]
  },
  {
   "cell_type": "code",
   "execution_count": 21,
   "id": "bd9a0420-f87c-4fb1-991a-a63c787dec6c",
   "metadata": {},
   "outputs": [
    {
     "name": "stdout",
     "output_type": "stream",
     "text": [
      "index of the first occurrence: 2\n"
     ]
    }
   ],
   "source": [
    "print(\"index of the first occurrence:\", index)"
   ]
  },
  {
   "cell_type": "code",
   "execution_count": 10,
   "id": "f165653f-9910-4f60-bdd0-a0894627aa5e",
   "metadata": {},
   "outputs": [
    {
     "data": {
      "text/plain": [
       "'pwskills'"
      ]
     },
     "execution_count": 10,
     "metadata": {},
     "output_type": "execute_result"
    }
   ],
   "source": [
    "s4"
   ]
  },
  {
   "cell_type": "code",
   "execution_count": 12,
   "id": "0a8b9686-e0e9-4641-92e4-5bafdd2c725f",
   "metadata": {},
   "outputs": [],
   "source": [
    "index = s4.rfind('s')"
   ]
  },
  {
   "cell_type": "code",
   "execution_count": 13,
   "id": "3a4bf4ca-2191-411a-aa77-536709125b6c",
   "metadata": {},
   "outputs": [
    {
     "data": {
      "text/plain": [
       "7"
      ]
     },
     "execution_count": 13,
     "metadata": {},
     "output_type": "execute_result"
    }
   ],
   "source": [
    "index"
   ]
  },
  {
   "cell_type": "code",
   "execution_count": 15,
   "id": "fc122d93-9d8e-4a96-9d49-412ed98ab260",
   "metadata": {},
   "outputs": [
    {
     "name": "stdout",
     "output_type": "stream",
     "text": [
      "index of the last occurrence: 7\n"
     ]
    }
   ],
   "source": [
    "print(\"index of the last occurrence:\", index)"
   ]
  },
  {
   "cell_type": "code",
   "execution_count": 23,
   "id": "8cd1b83f-29d8-47f0-9c7d-841f8637ad1d",
   "metadata": {},
   "outputs": [],
   "source": [
    "s = \"this is my first python class\""
   ]
  },
  {
   "cell_type": "code",
   "execution_count": 24,
   "id": "69fc25ea-d385-4da7-9c35-d413e2174446",
   "metadata": {},
   "outputs": [
    {
     "data": {
      "text/plain": [
       "'this is my first python class'"
      ]
     },
     "execution_count": 24,
     "metadata": {},
     "output_type": "execute_result"
    }
   ],
   "source": [
    "s"
   ]
  },
  {
   "cell_type": "code",
   "execution_count": 25,
   "id": "50ae1560-a084-4f5d-8012-780d981512c0",
   "metadata": {},
   "outputs": [
    {
     "data": {
      "text/plain": [
       "['this', 'is', 'my', 'first', 'python', 'class']"
      ]
     },
     "execution_count": 25,
     "metadata": {},
     "output_type": "execute_result"
    }
   ],
   "source": [
    "s.split()"
   ]
  },
  {
   "cell_type": "code",
   "execution_count": 27,
   "id": "02a21ca7-e976-4228-8656-8e57eb06b94f",
   "metadata": {},
   "outputs": [],
   "source": [
    "words_list = [\"This\", \"is\", \"an\", \"example\", \"sentence.\"]"
   ]
  },
  {
   "cell_type": "code",
   "execution_count": 28,
   "id": "08c05189-5b2c-4889-a886-8c3a446bf2c9",
   "metadata": {},
   "outputs": [],
   "source": [
    "joined_string = ' '.join(words_list)"
   ]
  },
  {
   "cell_type": "code",
   "execution_count": 29,
   "id": "6f29ad93-dd76-4cd9-955b-2ba4c7cf560c",
   "metadata": {},
   "outputs": [
    {
     "data": {
      "text/plain": [
       "'This is an example sentence.'"
      ]
     },
     "execution_count": 29,
     "metadata": {},
     "output_type": "execute_result"
    }
   ],
   "source": [
    "joined_string"
   ]
  },
  {
   "cell_type": "code",
   "execution_count": 30,
   "id": "84ec7933-6e5c-4fa7-9ffc-3fe909aa9110",
   "metadata": {},
   "outputs": [],
   "source": [
    "s1 = \"This is an example sentence.\""
   ]
  },
  {
   "cell_type": "code",
   "execution_count": 31,
   "id": "7410a20f-2c53-48c2-a455-4befe7474baf",
   "metadata": {},
   "outputs": [],
   "source": [
    "underscore_separated = s1.replace(\" \", \"_\")"
   ]
  },
  {
   "cell_type": "code",
   "execution_count": 32,
   "id": "ec964acf-a437-4654-9f63-dec6430db91a",
   "metadata": {},
   "outputs": [
    {
     "data": {
      "text/plain": [
       "'This_is_an_example_sentence.'"
      ]
     },
     "execution_count": 32,
     "metadata": {},
     "output_type": "execute_result"
    }
   ],
   "source": [
    "underscore_separated"
   ]
  },
  {
   "cell_type": "code",
   "execution_count": 33,
   "id": "39913d02-89c2-4421-84ed-cbfa31815ec3",
   "metadata": {},
   "outputs": [],
   "source": [
    "s2 =\"Hello, World!\""
   ]
  },
  {
   "cell_type": "code",
   "execution_count": 37,
   "id": "6a15355b-80e6-4c23-ab49-980167dddfc6",
   "metadata": {},
   "outputs": [],
   "source": [
    "prefix = \"Hello\""
   ]
  },
  {
   "cell_type": "code",
   "execution_count": 35,
   "id": "e0834ea5-a290-480b-a0ae-a21474881e0f",
   "metadata": {},
   "outputs": [],
   "source": [
    "is_start = s2.startswith(prefix)"
   ]
  },
  {
   "cell_type": "code",
   "execution_count": 36,
   "id": "7ec94812-bfa1-4702-85c8-c2d6c200df53",
   "metadata": {},
   "outputs": [
    {
     "data": {
      "text/plain": [
       "True"
      ]
     },
     "execution_count": 36,
     "metadata": {},
     "output_type": "execute_result"
    }
   ],
   "source": [
    "is_start"
   ]
  },
  {
   "cell_type": "code",
   "execution_count": 38,
   "id": "07aa2815-a92c-4262-a1c1-85937c2be551",
   "metadata": {},
   "outputs": [
    {
     "name": "stdout",
     "output_type": "stream",
     "text": [
      "s2 starts with the prefix.\n"
     ]
    }
   ],
   "source": [
    "print(\"s2 starts with the prefix.\")"
   ]
  },
  {
   "cell_type": "code",
   "execution_count": 39,
   "id": "f5f94f25-c2bf-4a4c-899c-c091ce335204",
   "metadata": {},
   "outputs": [
    {
     "data": {
      "text/plain": [
       "'Hello, World!'"
      ]
     },
     "execution_count": 39,
     "metadata": {},
     "output_type": "execute_result"
    }
   ],
   "source": [
    "s2"
   ]
  },
  {
   "cell_type": "code",
   "execution_count": 40,
   "id": "35542bdb-2966-4b68-841f-50b2d1903ac5",
   "metadata": {},
   "outputs": [],
   "source": [
    "suffix = \"World!\""
   ]
  },
  {
   "cell_type": "code",
   "execution_count": 41,
   "id": "85642906-7fe5-4629-907f-baf84bfa1978",
   "metadata": {},
   "outputs": [],
   "source": [
    "is_end = s2.endswith(suffix)"
   ]
  },
  {
   "cell_type": "code",
   "execution_count": 43,
   "id": "3bbb8543-0877-4d7a-95b2-e34313e3039c",
   "metadata": {},
   "outputs": [
    {
     "data": {
      "text/plain": [
       "True"
      ]
     },
     "execution_count": 43,
     "metadata": {},
     "output_type": "execute_result"
    }
   ],
   "source": [
    "is_end"
   ]
  },
  {
   "cell_type": "code",
   "execution_count": 44,
   "id": "2d98c1b9-59a2-42c5-ade1-6597652d0aba",
   "metadata": {},
   "outputs": [
    {
     "name": "stdout",
     "output_type": "stream",
     "text": [
      "s2 ends with the suffix.\n"
     ]
    }
   ],
   "source": [
    "print(\"s2 ends with the suffix.\")"
   ]
  },
  {
   "cell_type": "code",
   "execution_count": 45,
   "id": "8b93bbf8-1541-4a2b-ad00-d4f60abaecba",
   "metadata": {},
   "outputs": [],
   "source": [
    "s3 = \"hello world\""
   ]
  },
  {
   "cell_type": "code",
   "execution_count": 46,
   "id": "3222cdf8-b808-4a8d-8407-b3d8778c84fa",
   "metadata": {},
   "outputs": [
    {
     "data": {
      "text/plain": [
       "'Hello World'"
      ]
     },
     "execution_count": 46,
     "metadata": {},
     "output_type": "execute_result"
    }
   ],
   "source": [
    "s3.title()"
   ]
  },
  {
   "cell_type": "code",
   "execution_count": 48,
   "id": "bfab14fc-73b6-4992-8aa5-2f0b5e0826c4",
   "metadata": {},
   "outputs": [],
   "source": [
    "s4 = \"The course starts on sunday\""
   ]
  },
  {
   "cell_type": "code",
   "execution_count": 52,
   "id": "0342871a-bcfe-4b32-b648-ac539d620bc4",
   "metadata": {},
   "outputs": [],
   "source": [
    "words = s4.split()"
   ]
  },
  {
   "cell_type": "code",
   "execution_count": 53,
   "id": "9ed933c1-329b-45df-b991-0c396f9a8810",
   "metadata": {},
   "outputs": [
    {
     "data": {
      "text/plain": [
       "['The', 'course', 'starts', 'on', 'sunday']"
      ]
     },
     "execution_count": 53,
     "metadata": {},
     "output_type": "execute_result"
    }
   ],
   "source": [
    "words"
   ]
  },
  {
   "cell_type": "code",
   "execution_count": 50,
   "id": "12817f18-91df-4775-b301-e3a8581baf84",
   "metadata": {},
   "outputs": [],
   "source": [
    "longest_word = \" \""
   ]
  },
  {
   "cell_type": "code",
   "execution_count": 51,
   "id": "4e4547f4-9746-4321-98c1-1cdc395ff99a",
   "metadata": {},
   "outputs": [],
   "source": [
    "max_length = 0"
   ]
  },
  {
   "cell_type": "code",
   "execution_count": 56,
   "id": "b00e27d6-205e-4167-9eb1-387ddec5a061",
   "metadata": {},
   "outputs": [],
   "source": [
    "for word in words:\n",
    "    if len(word) > max_length:\n",
    "        max_length = len(word)\n",
    "        longest_word = word"
   ]
  },
  {
   "cell_type": "code",
   "execution_count": 58,
   "id": "e2bbb5b1-2af2-4939-a5bc-8970f86b64bf",
   "metadata": {},
   "outputs": [
    {
     "data": {
      "text/plain": [
       "'course'"
      ]
     },
     "execution_count": 58,
     "metadata": {},
     "output_type": "execute_result"
    }
   ],
   "source": [
    "longest_word"
   ]
  },
  {
   "cell_type": "code",
   "execution_count": 5,
   "id": "79cb23f6-4150-4bec-b514-61a61967385e",
   "metadata": {},
   "outputs": [],
   "source": [
    "s = \"this is my first python class\""
   ]
  },
  {
   "cell_type": "code",
   "execution_count": 6,
   "id": "cb800344-e339-4c3c-832b-67d9832a9c7b",
   "metadata": {},
   "outputs": [
    {
     "data": {
      "text/plain": [
       "'this is my first python class'"
      ]
     },
     "execution_count": 6,
     "metadata": {},
     "output_type": "execute_result"
    }
   ],
   "source": [
    "s"
   ]
  },
  {
   "cell_type": "code",
   "execution_count": 7,
   "id": "a17968bf-903b-413b-9603-0aa55fa7d999",
   "metadata": {},
   "outputs": [],
   "source": [
    "words = s.split()"
   ]
  },
  {
   "cell_type": "code",
   "execution_count": 8,
   "id": "0844886d-86d5-47de-8a6f-9e765a15187b",
   "metadata": {},
   "outputs": [
    {
     "data": {
      "text/plain": [
       "['this', 'is', 'my', 'first', 'python', 'class']"
      ]
     },
     "execution_count": 8,
     "metadata": {},
     "output_type": "execute_result"
    }
   ],
   "source": [
    "words"
   ]
  },
  {
   "cell_type": "code",
   "execution_count": 9,
   "id": "f660ebe1-37e7-4b59-aa3d-5895c828583b",
   "metadata": {},
   "outputs": [],
   "source": [
    "shortest_word = None"
   ]
  },
  {
   "cell_type": "code",
   "execution_count": 16,
   "id": "65f7d5c2-6e62-44b6-a2aa-bb70ca9e8765",
   "metadata": {},
   "outputs": [],
   "source": [
    "min_length = float('inf')"
   ]
  },
  {
   "cell_type": "code",
   "execution_count": 17,
   "id": "c1436a8d-652e-4d23-b4ff-a357f99ae4c0",
   "metadata": {},
   "outputs": [],
   "source": [
    "for word in words:\n",
    "    if len(word) < min_length:\n",
    "        min_length = len(word)\n",
    "        shortest_word = word"
   ]
  },
  {
   "cell_type": "code",
   "execution_count": 18,
   "id": "e33b72b1-9861-4110-99f4-1c7781671e5b",
   "metadata": {},
   "outputs": [
    {
     "data": {
      "text/plain": [
       "'is'"
      ]
     },
     "execution_count": 18,
     "metadata": {},
     "output_type": "execute_result"
    }
   ],
   "source": [
    "shortest_word"
   ]
  },
  {
   "cell_type": "code",
   "execution_count": 19,
   "id": "1547ff3b-0571-4955-8637-744073a9dded",
   "metadata": {},
   "outputs": [],
   "source": [
    "s1 = \"This is my first python class\""
   ]
  },
  {
   "cell_type": "code",
   "execution_count": 20,
   "id": "92933ed3-8b06-4b0d-86b7-cca8bae52482",
   "metadata": {},
   "outputs": [
    {
     "data": {
      "text/plain": [
       "'This is my first python class'"
      ]
     },
     "execution_count": 20,
     "metadata": {},
     "output_type": "execute_result"
    }
   ],
   "source": [
    "s1"
   ]
  },
  {
   "cell_type": "code",
   "execution_count": 23,
   "id": "359a8556-4982-46f2-ad9a-c2cb4c4da3a7",
   "metadata": {},
   "outputs": [],
   "source": [
    "l1 = s1.split()"
   ]
  },
  {
   "cell_type": "code",
   "execution_count": 25,
   "id": "809d376f-db0c-4467-9fd9-7f8c32a274dd",
   "metadata": {},
   "outputs": [
    {
     "data": {
      "text/plain": [
       "['This', 'is', 'my', 'first', 'python', 'class']"
      ]
     },
     "execution_count": 25,
     "metadata": {},
     "output_type": "execute_result"
    }
   ],
   "source": [
    "l1"
   ]
  },
  {
   "cell_type": "code",
   "execution_count": 26,
   "id": "1d36850d-a135-42fa-92d3-78cfd5ab4d7a",
   "metadata": {},
   "outputs": [
    {
     "data": {
      "text/plain": [
       "['class', 'python', 'first', 'my', 'is', 'This']"
      ]
     },
     "execution_count": 26,
     "metadata": {},
     "output_type": "execute_result"
    }
   ],
   "source": [
    "l1[::-1]"
   ]
  },
  {
   "cell_type": "code",
   "execution_count": 27,
   "id": "a781ca96-84b9-4857-b049-ea278e89af9a",
   "metadata": {},
   "outputs": [],
   "source": [
    "s2 = \"Hello123\""
   ]
  },
  {
   "cell_type": "code",
   "execution_count": 28,
   "id": "e6f827b8-7e0a-4d99-8a36-42eacdd5dbb4",
   "metadata": {},
   "outputs": [
    {
     "data": {
      "text/plain": [
       "'Hello123'"
      ]
     },
     "execution_count": 28,
     "metadata": {},
     "output_type": "execute_result"
    }
   ],
   "source": [
    "s2"
   ]
  },
  {
   "cell_type": "code",
   "execution_count": 29,
   "id": "9486110a-87ac-4560-bc46-88edb6c77b0e",
   "metadata": {},
   "outputs": [
    {
     "data": {
      "text/plain": [
       "True"
      ]
     },
     "execution_count": 29,
     "metadata": {},
     "output_type": "execute_result"
    }
   ],
   "source": [
    "s2.isalnum()"
   ]
  },
  {
   "cell_type": "code",
   "execution_count": 30,
   "id": "15351f47-c3c8-4097-8cd0-79f5f9355b2d",
   "metadata": {},
   "outputs": [
    {
     "name": "stdout",
     "output_type": "stream",
     "text": [
      "s2 is alphanumeric\n"
     ]
    }
   ],
   "source": [
    "print(\"s2 is alphanumeric\")"
   ]
  },
  {
   "cell_type": "code",
   "execution_count": 31,
   "id": "4d8a1d87-76d5-4891-b568-36570e081616",
   "metadata": {},
   "outputs": [],
   "source": [
    "s3 = \"Hello123World456\""
   ]
  },
  {
   "cell_type": "code",
   "execution_count": 32,
   "id": "14800b08-d354-44c0-a3a8-5e6b63cf8835",
   "metadata": {},
   "outputs": [
    {
     "data": {
      "text/plain": [
       "'Hello123World456'"
      ]
     },
     "execution_count": 32,
     "metadata": {},
     "output_type": "execute_result"
    }
   ],
   "source": [
    "s3"
   ]
  },
  {
   "cell_type": "code",
   "execution_count": 35,
   "id": "941f793e-46e7-4aa3-b809-0874ad030a3e",
   "metadata": {},
   "outputs": [],
   "source": [
    "digits = \" \""
   ]
  },
  {
   "cell_type": "code",
   "execution_count": 36,
   "id": "4b6fd235-0ee9-4258-9ca2-0b592f62cb74",
   "metadata": {},
   "outputs": [],
   "source": [
    "for char  in s3:\n",
    "    if char.isdigit():\n",
    "        digits += char"
   ]
  },
  {
   "cell_type": "code",
   "execution_count": 37,
   "id": "27240468-dd8f-4426-85d7-e7223542b678",
   "metadata": {},
   "outputs": [
    {
     "data": {
      "text/plain": [
       "' 123456'"
      ]
     },
     "execution_count": 37,
     "metadata": {},
     "output_type": "execute_result"
    }
   ],
   "source": [
    "digits"
   ]
  },
  {
   "cell_type": "code",
   "execution_count": 38,
   "id": "9ce30975-4c2a-4cd3-8283-83fd04feb67d",
   "metadata": {},
   "outputs": [
    {
     "data": {
      "text/plain": [
       "'Hello123World456'"
      ]
     },
     "execution_count": 38,
     "metadata": {},
     "output_type": "execute_result"
    }
   ],
   "source": [
    "s3"
   ]
  },
  {
   "cell_type": "code",
   "execution_count": 39,
   "id": "9454b993-6661-4e80-84cf-9a6eeb2020cf",
   "metadata": {},
   "outputs": [],
   "source": [
    "alphabets = ' '"
   ]
  },
  {
   "cell_type": "code",
   "execution_count": 40,
   "id": "f28c686f-4f66-43db-a5f7-40dfa50262b3",
   "metadata": {},
   "outputs": [],
   "source": [
    "for char in s3:\n",
    "    if char.isalpha():\n",
    "        alphabets += char"
   ]
  },
  {
   "cell_type": "code",
   "execution_count": 41,
   "id": "0d4f81a6-7cd3-4f2f-b06c-7b4199edf6b0",
   "metadata": {},
   "outputs": [
    {
     "data": {
      "text/plain": [
       "' HelloWorld'"
      ]
     },
     "execution_count": 41,
     "metadata": {},
     "output_type": "execute_result"
    }
   ],
   "source": [
    "alphabets"
   ]
  },
  {
   "cell_type": "code",
   "execution_count": 43,
   "id": "9b610411-2ab5-49b8-81c9-285f99e694cc",
   "metadata": {},
   "outputs": [],
   "source": [
    "s = \"Hello  World!\""
   ]
  },
  {
   "cell_type": "code",
   "execution_count": 57,
   "id": "e00d7df9-7a49-4085-bdbb-1c165fc921fd",
   "metadata": {},
   "outputs": [],
   "source": [
    "uppercase_count = 2"
   ]
  },
  {
   "cell_type": "code",
   "execution_count": 58,
   "id": "27da3e24-1864-4204-adc4-f5cf3dd2ab25",
   "metadata": {},
   "outputs": [],
   "source": [
    "for char in s:\n",
    "    if char.isupper():\n",
    "        uppercase_count"
   ]
  },
  {
   "cell_type": "code",
   "execution_count": 59,
   "id": "83853faf-f16d-4768-85dc-45e08c39c570",
   "metadata": {},
   "outputs": [
    {
     "data": {
      "text/plain": [
       "2"
      ]
     },
     "execution_count": 59,
     "metadata": {},
     "output_type": "execute_result"
    }
   ],
   "source": [
    "uppercase_count"
   ]
  },
  {
   "cell_type": "code",
   "execution_count": 60,
   "id": "088d037d-cecf-4c51-8149-beb54bf73374",
   "metadata": {},
   "outputs": [
    {
     "data": {
      "text/plain": [
       "'Hello  World!'"
      ]
     },
     "execution_count": 60,
     "metadata": {},
     "output_type": "execute_result"
    }
   ],
   "source": [
    "s"
   ]
  },
  {
   "cell_type": "code",
   "execution_count": 64,
   "id": "d45c259f-a1ee-4205-ad22-29c8f2415b68",
   "metadata": {},
   "outputs": [],
   "source": [
    "lowercase_count = 8"
   ]
  },
  {
   "cell_type": "code",
   "execution_count": 65,
   "id": "a410f8dc-4361-4118-a126-dbffc87cd242",
   "metadata": {},
   "outputs": [],
   "source": [
    "for char in s:\n",
    "    if char.islower():\n",
    "        lowercase_count\n",
    "    "
   ]
  },
  {
   "cell_type": "code",
   "execution_count": 66,
   "id": "95f219c9-c9c9-4061-ae12-29e7dfa1b481",
   "metadata": {},
   "outputs": [
    {
     "data": {
      "text/plain": [
       "8"
      ]
     },
     "execution_count": 66,
     "metadata": {},
     "output_type": "execute_result"
    }
   ],
   "source": [
    "lowercase_count"
   ]
  },
  {
   "cell_type": "code",
   "execution_count": 67,
   "id": "6149807c-9059-489e-9396-b3e42926ec0b",
   "metadata": {},
   "outputs": [],
   "source": [
    "s1 = \"HelloWORLD\""
   ]
  },
  {
   "cell_type": "code",
   "execution_count": 69,
   "id": "93fd4bd5-5268-4071-8caf-02777d77d59b",
   "metadata": {},
   "outputs": [],
   "source": [
    "swapped_string = s1.swapcase()"
   ]
  },
  {
   "cell_type": "code",
   "execution_count": 70,
   "id": "07f0192d-2651-4c40-9fb6-a94178c49720",
   "metadata": {},
   "outputs": [
    {
     "data": {
      "text/plain": [
       "'hELLOworld'"
      ]
     },
     "execution_count": 70,
     "metadata": {},
     "output_type": "execute_result"
    }
   ],
   "source": [
    "swapped_string"
   ]
  },
  {
   "cell_type": "code",
   "execution_count": 72,
   "id": "d5dc4de1-22c5-4b2f-ae81-e795e4ff64bc",
   "metadata": {},
   "outputs": [],
   "source": [
    "s2 = \"Hello World, welcome to the world of programming.\""
   ]
  },
  {
   "cell_type": "code",
   "execution_count": 73,
   "id": "fa7ba3bb-bc2f-4bf8-905a-e1cf82fbefe4",
   "metadata": {},
   "outputs": [
    {
     "data": {
      "text/plain": [
       "'Hello World, welcome to the world of programming.'"
      ]
     },
     "execution_count": 73,
     "metadata": {},
     "output_type": "execute_result"
    }
   ],
   "source": [
    "s2"
   ]
  },
  {
   "cell_type": "code",
   "execution_count": 75,
   "id": "24751da9-5470-4471-9f0a-358814fc5fe8",
   "metadata": {},
   "outputs": [],
   "source": [
    "word_to_remove = \"world\""
   ]
  },
  {
   "cell_type": "code",
   "execution_count": 77,
   "id": "be76fa11-3b45-44d2-a7c6-efc594af7180",
   "metadata": {},
   "outputs": [],
   "source": [
    "words = s2.split()"
   ]
  },
  {
   "cell_type": "code",
   "execution_count": 78,
   "id": "013ebfc1-e180-4c65-a642-b7a3702a0f31",
   "metadata": {},
   "outputs": [
    {
     "data": {
      "text/plain": [
       "['Hello', 'World,', 'welcome', 'to', 'the', 'world', 'of', 'programming.']"
      ]
     },
     "execution_count": 78,
     "metadata": {},
     "output_type": "execute_result"
    }
   ],
   "source": [
    "words"
   ]
  },
  {
   "cell_type": "code",
   "execution_count": 81,
   "id": "80f0632d-5fd5-40db-8c69-90571ef55575",
   "metadata": {},
   "outputs": [],
   "source": [
    "filtered_words = ['Hello', 'welcome', 'to', 'the', 'world', 'of', 'programming.']"
   ]
  },
  {
   "cell_type": "code",
   "execution_count": 82,
   "id": "1f2e205f-9a1b-40a8-b004-bed1e2ea7cda",
   "metadata": {},
   "outputs": [],
   "source": [
    " for word in words:\n",
    "    if word != word_to_remove:\n",
    "        filtered_words"
   ]
  },
  {
   "cell_type": "code",
   "execution_count": 83,
   "id": "39d6f30b-5209-4520-a061-2be20b3cc085",
   "metadata": {},
   "outputs": [
    {
     "data": {
      "text/plain": [
       "['Hello', 'welcome', 'to', 'the', 'world', 'of', 'programming.']"
      ]
     },
     "execution_count": 83,
     "metadata": {},
     "output_type": "execute_result"
    }
   ],
   "source": [
    "filtered_words"
   ]
  },
  {
   "cell_type": "code",
   "execution_count": 84,
   "id": "c96acebd-f037-4915-bce3-2822adefc5d4",
   "metadata": {},
   "outputs": [],
   "source": [
    "modified_string = ' '.join(filtered_words)"
   ]
  },
  {
   "cell_type": "code",
   "execution_count": 85,
   "id": "12d2815e-8486-420b-9cdf-c4af2805acfa",
   "metadata": {},
   "outputs": [
    {
     "data": {
      "text/plain": [
       "'Hello welcome to the world of programming.'"
      ]
     },
     "execution_count": 85,
     "metadata": {},
     "output_type": "execute_result"
    }
   ],
   "source": [
    "modified_string"
   ]
  },
  {
   "cell_type": "code",
   "execution_count": 86,
   "id": "34edc5c9-745f-4c7c-b745-abeab9b854bc",
   "metadata": {},
   "outputs": [],
   "source": [
    "email1 = \"rashmi@email.com\""
   ]
  },
  {
   "cell_type": "code",
   "execution_count": 87,
   "id": "ce2074f7-8344-4703-a9e4-bd95cf7ecfcc",
   "metadata": {},
   "outputs": [],
   "source": [
    "email2 = \"invalid-email\""
   ]
  },
  {
   "cell_type": "code",
   "execution_count": 89,
   "id": "826857b4-db3f-45e0-86d1-fe3adce6b777",
   "metadata": {},
   "outputs": [
    {
     "name": "stdout",
     "output_type": "stream",
     "text": [
      "email1 is_valid_email: rashmi@email.com\n"
     ]
    }
   ],
   "source": [
    "print(\"email1 is_valid_email:\", email1)"
   ]
  },
  {
   "cell_type": "code",
   "execution_count": 90,
   "id": "ec62457a-7933-4768-b778-59c04c3a25f8",
   "metadata": {},
   "outputs": [
    {
     "name": "stdout",
     "output_type": "stream",
     "text": [
      "email2 is_valid_email: invalid-email\n"
     ]
    }
   ],
   "source": [
    "print(\"email2 is_valid_email:\", email2)"
   ]
  },
  {
   "cell_type": "code",
   "execution_count": 91,
   "id": "31377e1a-7fa2-4c86-9680-af4dbf5235f9",
   "metadata": {},
   "outputs": [
    {
     "data": {
      "text/plain": [
       "'rashmi@email.com'"
      ]
     },
     "execution_count": 91,
     "metadata": {},
     "output_type": "execute_result"
    }
   ],
   "source": [
    "email1"
   ]
  },
  {
   "cell_type": "code",
   "execution_count": 94,
   "id": "0ba95ffa-48bc-4f30-bd4d-28bf0d787308",
   "metadata": {},
   "outputs": [],
   "source": [
    "username = email1.split('@')"
   ]
  },
  {
   "cell_type": "code",
   "execution_count": 95,
   "id": "7ea2880e-57ba-4a7b-86ac-def57c7446cf",
   "metadata": {},
   "outputs": [
    {
     "data": {
      "text/plain": [
       "['rashmi', 'email.com']"
      ]
     },
     "execution_count": 95,
     "metadata": {},
     "output_type": "execute_result"
    }
   ],
   "source": [
    "username"
   ]
  },
  {
   "cell_type": "code",
   "execution_count": 96,
   "id": "1046417e-03fe-412a-987f-8b0254798ee4",
   "metadata": {},
   "outputs": [
    {
     "data": {
      "text/plain": [
       "'rashmi@email.com'"
      ]
     },
     "execution_count": 96,
     "metadata": {},
     "output_type": "execute_result"
    }
   ],
   "source": [
    "email1"
   ]
  },
  {
   "cell_type": "code",
   "execution_count": 99,
   "id": "7c7b484f-2223-436e-9335-432ef4bc9ba0",
   "metadata": {},
   "outputs": [],
   "source": [
    "domain = email1.split('@')[1]"
   ]
  },
  {
   "cell_type": "code",
   "execution_count": 100,
   "id": "4ce7d353-9a97-4957-a7de-d67346dd724d",
   "metadata": {},
   "outputs": [
    {
     "data": {
      "text/plain": [
       "'email.com'"
      ]
     },
     "execution_count": 100,
     "metadata": {},
     "output_type": "execute_result"
    }
   ],
   "source": [
    "domain"
   ]
  },
  {
   "cell_type": "code",
   "execution_count": 101,
   "id": "42c82656-abcd-41bc-afd1-0d2573a121b9",
   "metadata": {},
   "outputs": [],
   "source": [
    "s = \"Hello     World!   how are you?\""
   ]
  },
  {
   "cell_type": "code",
   "execution_count": 102,
   "id": "34fecd7d-13f5-4893-b9f5-34f9bfa53a87",
   "metadata": {},
   "outputs": [
    {
     "data": {
      "text/plain": [
       "'Hello     World!   how are you?'"
      ]
     },
     "execution_count": 102,
     "metadata": {},
     "output_type": "execute_result"
    }
   ],
   "source": [
    "s"
   ]
  },
  {
   "cell_type": "code",
   "execution_count": 103,
   "id": "ed9e0c47-79ce-4b4e-9f43-34d2e2308131",
   "metadata": {},
   "outputs": [],
   "source": [
    "cleaned_string = ' '.join(s.split())"
   ]
  },
  {
   "cell_type": "code",
   "execution_count": 104,
   "id": "fded2d30-8c28-4dc2-85af-78d9e275efb2",
   "metadata": {},
   "outputs": [
    {
     "data": {
      "text/plain": [
       "'Hello World! how are you?'"
      ]
     },
     "execution_count": 104,
     "metadata": {},
     "output_type": "execute_result"
    }
   ],
   "source": [
    "cleaned_string"
   ]
  },
  {
   "cell_type": "code",
   "execution_count": 105,
   "id": "cc8908d6-8d87-4402-9dcf-20bdcbcde136",
   "metadata": {},
   "outputs": [],
   "source": [
    "url1 = \"https://www.example.com\""
   ]
  },
  {
   "cell_type": "code",
   "execution_count": 106,
   "id": "fa589d74-3556-4e38-a8f2-1c28a5ff548e",
   "metadata": {},
   "outputs": [],
   "source": [
    "url2 = \"https;\\\\www.example.com\""
   ]
  },
  {
   "cell_type": "code",
   "execution_count": 107,
   "id": "4993161e-f287-4725-b421-b1cf029a7ff0",
   "metadata": {},
   "outputs": [
    {
     "name": "stdout",
     "output_type": "stream",
     "text": [
      "url1 is_valid_url: https://www.example.com\n"
     ]
    }
   ],
   "source": [
    "print(\"url1 is_valid_url:\", url1)"
   ]
  },
  {
   "cell_type": "code",
   "execution_count": 108,
   "id": "556b4783-5b53-458e-b830-bfc6dd7e91de",
   "metadata": {},
   "outputs": [
    {
     "name": "stdout",
     "output_type": "stream",
     "text": [
      "url2 is_invalid_url: https;\\www.example.com\n"
     ]
    }
   ],
   "source": [
    "print(\"url2 is_invalid_url:\", url2)"
   ]
  },
  {
   "cell_type": "code",
   "execution_count": 123,
   "id": "c75baf32-f6f4-4fd9-b38b-6ed7db7eddb6",
   "metadata": {},
   "outputs": [],
   "source": [
    "url1 = \"https://www.example.com\""
   ]
  },
  {
   "cell_type": "code",
   "execution_count": 124,
   "id": "03c7a1a1-c738-4d87-8abe-f5eedf64ea87",
   "metadata": {},
   "outputs": [],
   "source": [
    "url2 = \"http://google.com\""
   ]
  },
  {
   "cell_type": "code",
   "execution_count": 125,
   "id": "a42801f9-5f09-473c-b2d7-3ab15206ccdd",
   "metadata": {},
   "outputs": [],
   "source": [
    "url3 = \"ftp://ftp.example.com\""
   ]
  },
  {
   "cell_type": "code",
   "execution_count": 126,
   "id": "1a48e62f-cae1-497a-8be4-25bb9dbfc5d3",
   "metadata": {},
   "outputs": [],
   "source": [
    "protocol1 = extract_protocol(url1)"
   ]
  },
  {
   "cell_type": "code",
   "execution_count": 127,
   "id": "f6d701bb-1699-4c04-8e6c-eff58aefd502",
   "metadata": {},
   "outputs": [],
   "source": [
    "protocol2 = extract_protocol(url2)"
   ]
  },
  {
   "cell_type": "code",
   "execution_count": 128,
   "id": "7209af5e-4069-46ea-8bdd-ce66276b47fe",
   "metadata": {},
   "outputs": [],
   "source": [
    "protocol3 = extract_protocol(url3)"
   ]
  },
  {
   "cell_type": "code",
   "execution_count": 129,
   "id": "4a21e3e0-41dd-4c3f-9dcf-7cbb39759acc",
   "metadata": {},
   "outputs": [
    {
     "name": "stdout",
     "output_type": "stream",
     "text": [
      "protocol1: None\n"
     ]
    }
   ],
   "source": [
    "print(\"protocol1:\", protocol1)"
   ]
  },
  {
   "cell_type": "code",
   "execution_count": 130,
   "id": "7ef3bfaf-de6c-4d01-be6a-882435f93756",
   "metadata": {},
   "outputs": [
    {
     "name": "stdout",
     "output_type": "stream",
     "text": [
      "protocol2: None\n"
     ]
    }
   ],
   "source": [
    "print(\"protocol2:\", protocol2)"
   ]
  },
  {
   "cell_type": "code",
   "execution_count": 131,
   "id": "9977c28e-50a5-40ff-bb18-815ef8b296f6",
   "metadata": {},
   "outputs": [
    {
     "name": "stdout",
     "output_type": "stream",
     "text": [
      "protocol2: None\n"
     ]
    }
   ],
   "source": [
    "print(\"protocol2:\", protocol3)"
   ]
  },
  {
   "cell_type": "code",
   "execution_count": 132,
   "id": "12020fb8-bbde-4e0b-bf61-712af20dbc9f",
   "metadata": {},
   "outputs": [],
   "source": [
    "s = \"hello world\""
   ]
  },
  {
   "cell_type": "code",
   "execution_count": 133,
   "id": "6bc92885-2415-4178-b07f-9f0616380168",
   "metadata": {},
   "outputs": [],
   "source": [
    "frequency = {}"
   ]
  },
  {
   "cell_type": "code",
   "execution_count": 147,
   "id": "79c964f0-5809-40b0-8753-177dd6a9de91",
   "metadata": {},
   "outputs": [],
   "source": [
    "def character_frequency(s):\n",
    "    frequency ={}\n",
    "    \n",
    "    for char in s:\n",
    "        if char in frequency:\n",
    "            frequency[char] += 1\n",
    "    else:\n",
    "        frequency[char] = 1"
   ]
  },
  {
   "cell_type": "code",
   "execution_count": 148,
   "id": "b4ceb463-e366-40cc-ae1e-9cbc247ced65",
   "metadata": {},
   "outputs": [
    {
     "data": {
      "text/plain": [
       "1"
      ]
     },
     "execution_count": 148,
     "metadata": {},
     "output_type": "execute_result"
    }
   ],
   "source": [
    "frequency"
   ]
  },
  {
   "cell_type": "code",
   "execution_count": 149,
   "id": "0d81ebd2-edab-4cd6-812f-530717511116",
   "metadata": {},
   "outputs": [
    {
     "data": {
      "text/plain": [
       "'hello world'"
      ]
     },
     "execution_count": 149,
     "metadata": {},
     "output_type": "execute_result"
    }
   ],
   "source": [
    "s"
   ]
  },
  {
   "cell_type": "code",
   "execution_count": 151,
   "id": "5d702b18-6433-4f9b-b4f9-43c22029c361",
   "metadata": {},
   "outputs": [
    {
     "ename": "AttributeError",
     "evalue": "'str' object has no attribute 'punctuations'",
     "output_type": "error",
     "traceback": [
      "\u001b[0;31m---------------------------------------------------------------------------\u001b[0m",
      "\u001b[0;31mAttributeError\u001b[0m                            Traceback (most recent call last)",
      "Cell \u001b[0;32mIn[151], line 1\u001b[0m\n\u001b[0;32m----> 1\u001b[0m translator \u001b[38;5;241m=\u001b[39m s\u001b[38;5;241m.\u001b[39mmaketrans(\u001b[38;5;124m\"\u001b[39m\u001b[38;5;124m \u001b[39m\u001b[38;5;124m\"\u001b[39m, \u001b[38;5;124m\"\u001b[39m\u001b[38;5;124m \u001b[39m\u001b[38;5;124m\"\u001b[39m, \u001b[43ms\u001b[49m\u001b[38;5;241;43m.\u001b[39;49m\u001b[43mpunctuations\u001b[49m)\n",
      "\u001b[0;31mAttributeError\u001b[0m: 'str' object has no attribute 'punctuations'"
     ]
    }
   ],
   "source": [
    "translator = s.maketrans(\" \", \" \", s.punctuations)"
   ]
  },
  {
   "cell_type": "code",
   "execution_count": 152,
   "id": "a0b3048d-3234-4585-b49b-77b930e8c6c9",
   "metadata": {},
   "outputs": [],
   "source": [
    "s1 = \"12345\""
   ]
  },
  {
   "cell_type": "code",
   "execution_count": 153,
   "id": "d7dd60d5-d0d4-4a7a-8221-37d3e3079b53",
   "metadata": {},
   "outputs": [
    {
     "data": {
      "text/plain": [
       "True"
      ]
     },
     "execution_count": 153,
     "metadata": {},
     "output_type": "execute_result"
    }
   ],
   "source": [
    "s1.isdigit()"
   ]
  },
  {
   "cell_type": "code",
   "execution_count": 154,
   "id": "f32913cb-8a82-4f07-814d-1ed3815948c7",
   "metadata": {},
   "outputs": [],
   "source": [
    "s2 = \"hello123\""
   ]
  },
  {
   "cell_type": "code",
   "execution_count": 155,
   "id": "c5dfd055-d344-460b-ba05-bc3c2b4cf064",
   "metadata": {},
   "outputs": [
    {
     "data": {
      "text/plain": [
       "False"
      ]
     },
     "execution_count": 155,
     "metadata": {},
     "output_type": "execute_result"
    }
   ],
   "source": [
    "s2.isdigit()"
   ]
  },
  {
   "cell_type": "code",
   "execution_count": 156,
   "id": "c46adba1-0ba0-4541-8a5b-3ef8175fcdfe",
   "metadata": {},
   "outputs": [],
   "source": [
    "s = \"hello world!\""
   ]
  },
  {
   "cell_type": "code",
   "execution_count": 157,
   "id": "9b267c7d-4797-491b-8488-1b8b0b63f199",
   "metadata": {},
   "outputs": [
    {
     "data": {
      "text/plain": [
       "False"
      ]
     },
     "execution_count": 157,
     "metadata": {},
     "output_type": "execute_result"
    }
   ],
   "source": [
    "s.isalpha()"
   ]
  },
  {
   "cell_type": "code",
   "execution_count": 158,
   "id": "1699b0a1-d173-4b0f-8c80-f79dbc2eaab9",
   "metadata": {},
   "outputs": [],
   "source": [
    "s1 = \"hello\""
   ]
  },
  {
   "cell_type": "code",
   "execution_count": 159,
   "id": "1cb067a1-00a6-4709-8b92-8a882ae988eb",
   "metadata": {},
   "outputs": [
    {
     "data": {
      "text/plain": [
       "True"
      ]
     },
     "execution_count": 159,
     "metadata": {},
     "output_type": "execute_result"
    }
   ],
   "source": [
    "s1.isalpha()"
   ]
  },
  {
   "cell_type": "code",
   "execution_count": 160,
   "id": "27e31ada-6b57-44b5-bfe3-dd128d4c1424",
   "metadata": {},
   "outputs": [],
   "source": [
    "s2 = \"Hello world\""
   ]
  },
  {
   "cell_type": "code",
   "execution_count": 161,
   "id": "9272edcc-6e9a-4e83-8239-55b96ebb629e",
   "metadata": {},
   "outputs": [],
   "source": [
    "char_list = list(s2)"
   ]
  },
  {
   "cell_type": "code",
   "execution_count": 162,
   "id": "eb7b2283-7a15-4935-bc02-d0734645a513",
   "metadata": {},
   "outputs": [
    {
     "data": {
      "text/plain": [
       "['H', 'e', 'l', 'l', 'o', ' ', 'w', 'o', 'r', 'l', 'd']"
      ]
     },
     "execution_count": 162,
     "metadata": {},
     "output_type": "execute_result"
    }
   ],
   "source": [
    "char_list"
   ]
  },
  {
   "cell_type": "code",
   "execution_count": 163,
   "id": "2522fabd-d543-4177-9778-da1952dbe615",
   "metadata": {},
   "outputs": [],
   "source": [
    "s1 = \"listen\""
   ]
  },
  {
   "cell_type": "code",
   "execution_count": 164,
   "id": "7dfefdea-fcc6-4b87-a76c-793251453110",
   "metadata": {},
   "outputs": [],
   "source": [
    "s2 = \"silent\""
   ]
  },
  {
   "cell_type": "code",
   "execution_count": 168,
   "id": "dde5a534-459f-41eb-83c6-dafa334f041c",
   "metadata": {},
   "outputs": [],
   "source": [
    "def are_anagrams(s1, s2):\n",
    "    s1 = s1.replace(\" \", \" \").lower()\n",
    "    s2 = s2.replace(\" \", \" \").lower()"
   ]
  },
  {
   "cell_type": "code",
   "execution_count": 169,
   "id": "ad0652e5-6d18-444a-aad1-3c2c2c1f26fc",
   "metadata": {},
   "outputs": [
    {
     "data": {
      "text/plain": [
       "'listen'"
      ]
     },
     "execution_count": 169,
     "metadata": {},
     "output_type": "execute_result"
    }
   ],
   "source": [
    "s1"
   ]
  },
  {
   "cell_type": "code",
   "execution_count": 170,
   "id": "f931e1fe-53a5-4e3f-8511-57c4f9dccff8",
   "metadata": {},
   "outputs": [
    {
     "data": {
      "text/plain": [
       "'silent'"
      ]
     },
     "execution_count": 170,
     "metadata": {},
     "output_type": "execute_result"
    }
   ],
   "source": [
    "s2"
   ]
  },
  {
   "cell_type": "code",
   "execution_count": 171,
   "id": "72f52097-a699-4051-ab66-cba8d1222b0e",
   "metadata": {},
   "outputs": [
    {
     "data": {
      "text/plain": [
       "True"
      ]
     },
     "execution_count": 171,
     "metadata": {},
     "output_type": "execute_result"
    }
   ],
   "source": [
    "sorted(s1) == sorted(s2)"
   ]
  },
  {
   "cell_type": "code",
   "execution_count": 172,
   "id": "0eab8c40-e716-4097-8d39-94a98bb0bac6",
   "metadata": {},
   "outputs": [],
   "source": [
    "s = \"hello world, hello there! how's the world?\""
   ]
  },
  {
   "cell_type": "code",
   "execution_count": 173,
   "id": "ece75bbb-31bf-4d25-9113-049d76c8589f",
   "metadata": {},
   "outputs": [],
   "source": [
    "most_common = ('hello', 'world')"
   ]
  },
  {
   "cell_type": "code",
   "execution_count": 174,
   "id": "53e6fe68-f230-4caf-a356-6fb537a5b34a",
   "metadata": {},
   "outputs": [
    {
     "name": "stdout",
     "output_type": "stream",
     "text": [
      "most frequent word: ('hello', 'world')\n"
     ]
    }
   ],
   "source": [
    "print(\"most frequent word:\", most_common)"
   ]
  },
  {
   "cell_type": "code",
   "execution_count": 175,
   "id": "af392689-9957-489a-8b7e-72e62fc9c978",
   "metadata": {},
   "outputs": [
    {
     "data": {
      "text/plain": [
       "\"hello world, hello there! how's the world?\""
      ]
     },
     "execution_count": 175,
     "metadata": {},
     "output_type": "execute_result"
    }
   ],
   "source": [
    "s"
   ]
  },
  {
   "cell_type": "code",
   "execution_count": 176,
   "id": "633deee7-6c46-48be-882c-1a53cf5f1bc9",
   "metadata": {},
   "outputs": [],
   "source": [
    "unique_word_set = {'there', \"how's\", 'the', 'hello', 'world'}"
   ]
  },
  {
   "cell_type": "code",
   "execution_count": 177,
   "id": "c8dc6b59-e5d7-45a9-8345-986f83c288b2",
   "metadata": {},
   "outputs": [
    {
     "name": "stdout",
     "output_type": "stream",
     "text": [
      "unique words: {'there', 'hello', 'the', \"how's\", 'world'}\n"
     ]
    }
   ],
   "source": [
    "print(\"unique words:\",unique_word_set)"
   ]
  },
  {
   "cell_type": "code",
   "execution_count": 1,
   "id": "c170a5e3-9933-47c6-9587-33ad46d535bf",
   "metadata": {},
   "outputs": [],
   "source": [
    "word1 = \"hello\""
   ]
  },
  {
   "cell_type": "code",
   "execution_count": 2,
   "id": "51419c62-1ad1-489a-a499-809140ea85b1",
   "metadata": {},
   "outputs": [],
   "source": [
    "word2 = \"banana\""
   ]
  },
  {
   "cell_type": "code",
   "execution_count": 3,
   "id": "08c21f25-df08-4836-93fa-43dd74ec60c8",
   "metadata": {},
   "outputs": [],
   "source": [
    "word3 = \"syllable\""
   ]
  },
  {
   "cell_type": "code",
   "execution_count": 8,
   "id": "0bb6f8e2-9f90-4391-9442-cd9b15a95d24",
   "metadata": {},
   "outputs": [],
   "source": [
    "syllables1 = ('e', 'o')"
   ]
  },
  {
   "cell_type": "code",
   "execution_count": 9,
   "id": "5fed0046-13eb-47e4-9507-64aa7341b146",
   "metadata": {},
   "outputs": [],
   "source": [
    "syllables2 = ('a', 'a', 'a')"
   ]
  },
  {
   "cell_type": "code",
   "execution_count": 10,
   "id": "2bfadbc1-bee8-4af7-b263-da23434d0d94",
   "metadata": {},
   "outputs": [],
   "source": [
    "syllables3 = ('y', 'a', 'e')"
   ]
  },
  {
   "cell_type": "code",
   "execution_count": 11,
   "id": "f15d2bee-4c0b-4c19-9aac-5dec243358da",
   "metadata": {},
   "outputs": [
    {
     "data": {
      "text/plain": [
       "2"
      ]
     },
     "execution_count": 11,
     "metadata": {},
     "output_type": "execute_result"
    }
   ],
   "source": [
    "len(syllables1)"
   ]
  },
  {
   "cell_type": "code",
   "execution_count": 12,
   "id": "359fbc58-bf07-4760-bfac-e04668541190",
   "metadata": {},
   "outputs": [
    {
     "data": {
      "text/plain": [
       "3"
      ]
     },
     "execution_count": 12,
     "metadata": {},
     "output_type": "execute_result"
    }
   ],
   "source": [
    "len(syllables2)"
   ]
  },
  {
   "cell_type": "code",
   "execution_count": 13,
   "id": "6949c6c6-7d1e-4cad-8034-47b26f15f299",
   "metadata": {},
   "outputs": [
    {
     "data": {
      "text/plain": [
       "3"
      ]
     },
     "execution_count": 13,
     "metadata": {},
     "output_type": "execute_result"
    }
   ],
   "source": [
    "len(syllables3)"
   ]
  },
  {
   "cell_type": "code",
   "execution_count": 16,
   "id": "d1db2efe-aa8a-49df-aebf-78f7e21cb160",
   "metadata": {},
   "outputs": [
    {
     "name": "stdout",
     "output_type": "stream",
     "text": [
      "'hello' has 2 syllables.\n"
     ]
    }
   ],
   "source": [
    "print(f\"'{word1}' has {len(syllables1)} syllables.\")"
   ]
  },
  {
   "cell_type": "code",
   "execution_count": 18,
   "id": "bb3451a3-b2a0-4549-bb55-f266913f04d3",
   "metadata": {},
   "outputs": [
    {
     "name": "stdout",
     "output_type": "stream",
     "text": [
      "'banana' has 3 syllables.\n"
     ]
    }
   ],
   "source": [
    "print(f\"'{word2}' has {len(syllables2)} syllables.\")"
   ]
  },
  {
   "cell_type": "code",
   "execution_count": 19,
   "id": "f587525a-f36d-4fae-ab6f-5cce52cdfb30",
   "metadata": {},
   "outputs": [
    {
     "name": "stdout",
     "output_type": "stream",
     "text": [
      "'syllable' has 3 syllables.\n"
     ]
    }
   ],
   "source": [
    "print(f\"'{word3}' has {len(syllables3)} syllables.\")"
   ]
  },
  {
   "cell_type": "code",
   "execution_count": 20,
   "id": "70b4f369-db9c-422e-b3fc-c6bc995bb2d2",
   "metadata": {},
   "outputs": [],
   "source": [
    "s1 = \"Hello, world!\""
   ]
  },
  {
   "cell_type": "code",
   "execution_count": 21,
   "id": "bd5299a5-b951-4f8f-a2d4-b49d11d91c4e",
   "metadata": {},
   "outputs": [],
   "source": [
    "s2 = \"This is a test.\""
   ]
  },
  {
   "cell_type": "code",
   "execution_count": 22,
   "id": "12098c7d-87bd-4a0c-8f06-0ebf426d665d",
   "metadata": {},
   "outputs": [],
   "source": [
    "s3 = \"special@characters\""
   ]
  },
  {
   "cell_type": "code",
   "execution_count": 28,
   "id": "55d798d3-cadb-48a9-9083-4c346f0d8c66",
   "metadata": {},
   "outputs": [],
   "source": [
    "pattern = (r'[!@#$%^&*()_+{}\\[\\]:;<>,.?~\\\\/]')"
   ]
  },
  {
   "cell_type": "code",
   "execution_count": 33,
   "id": "239e79cb-1895-4fb9-be7f-1795d229ad1a",
   "metadata": {},
   "outputs": [],
   "source": [
    "result1 = (\"contains_special_characters(s1)\")"
   ]
  },
  {
   "cell_type": "code",
   "execution_count": 34,
   "id": "87d47984-27d6-4b84-8863-f2c1dfda9bd3",
   "metadata": {},
   "outputs": [
    {
     "name": "stdout",
     "output_type": "stream",
     "text": [
      " 's1' containsspecial chracters: contains_special_characters(s1)\n"
     ]
    }
   ],
   "source": [
    "print(f\" 's1' containsspecial chracters:\", result1)"
   ]
  },
  {
   "cell_type": "code",
   "execution_count": 41,
   "id": "a2bfabf3-9f5e-41c3-aceb-a9e01bab9baa",
   "metadata": {},
   "outputs": [],
   "source": [
    "s1 = \"this is an example sentence to test the function.\""
   ]
  },
  {
   "cell_type": "code",
   "execution_count": 42,
   "id": "bd3e2827-9fed-4924-b042-6250b7f125a3",
   "metadata": {},
   "outputs": [
    {
     "data": {
      "text/plain": [
       "'this is an example sentence to test the function.'"
      ]
     },
     "execution_count": 42,
     "metadata": {},
     "output_type": "execute_result"
    }
   ],
   "source": [
    "s1"
   ]
  },
  {
   "cell_type": "code",
   "execution_count": 43,
   "id": "1d2e5874-c0c1-47d7-8d42-a2bc03a3defb",
   "metadata": {},
   "outputs": [],
   "source": [
    "words = s1.split()"
   ]
  },
  {
   "cell_type": "code",
   "execution_count": 44,
   "id": "051facb5-8463-4c95-a473-13cb82dfaf57",
   "metadata": {},
   "outputs": [
    {
     "data": {
      "text/plain": [
       "['this', 'is', 'an', 'example', 'sentence', 'to', 'test', 'the', 'function.']"
      ]
     },
     "execution_count": 44,
     "metadata": {},
     "output_type": "execute_result"
    }
   ],
   "source": [
    "words"
   ]
  },
  {
   "cell_type": "code",
   "execution_count": 45,
   "id": "8e70102a-81d2-458a-8244-035dd6522f6e",
   "metadata": {},
   "outputs": [],
   "source": [
    "n = 4"
   ]
  },
  {
   "cell_type": "code",
   "execution_count": 46,
   "id": "576df58e-9414-4d86-9676-38d5e0951fe0",
   "metadata": {},
   "outputs": [],
   "source": [
    "removed_word = words.pop(n - 1)"
   ]
  },
  {
   "cell_type": "code",
   "execution_count": 47,
   "id": "e38c5581-d9fa-4e26-83d4-2b15021863de",
   "metadata": {},
   "outputs": [
    {
     "data": {
      "text/plain": [
       "'example'"
      ]
     },
     "execution_count": 47,
     "metadata": {},
     "output_type": "execute_result"
    }
   ],
   "source": [
    "removed_word"
   ]
  },
  {
   "cell_type": "code",
   "execution_count": 48,
   "id": "e9bd1ffe-d200-4c2e-93c2-84b650c072bb",
   "metadata": {},
   "outputs": [],
   "source": [
    "modified_string = ' '.join(words)"
   ]
  },
  {
   "cell_type": "code",
   "execution_count": 49,
   "id": "196a52ae-8906-4833-a9ac-6ec351fe94fc",
   "metadata": {},
   "outputs": [
    {
     "data": {
      "text/plain": [
       "'this is an sentence to test the function.'"
      ]
     },
     "execution_count": 49,
     "metadata": {},
     "output_type": "execute_result"
    }
   ],
   "source": [
    "modified_string"
   ]
  },
  {
   "cell_type": "code",
   "execution_count": 50,
   "id": "9366c497-2068-436d-9639-755a825e2e63",
   "metadata": {},
   "outputs": [
    {
     "name": "stdout",
     "output_type": "stream",
     "text": [
      "Original string: this is an example sentence to test the function.\n"
     ]
    }
   ],
   "source": [
    "print(\"Original string:\", s1)"
   ]
  },
  {
   "cell_type": "code",
   "execution_count": 51,
   "id": "6ed95f90-cc5a-4a2d-9b8b-58044602f402",
   "metadata": {},
   "outputs": [
    {
     "name": "stdout",
     "output_type": "stream",
     "text": [
      "Modified string: this is an sentence to test the function.\n"
     ]
    }
   ],
   "source": [
    "print(\"Modified string:\", modified_string)"
   ]
  },
  {
   "cell_type": "code",
   "execution_count": 52,
   "id": "d88b1771-4033-4328-829e-41bd1ce5966c",
   "metadata": {},
   "outputs": [
    {
     "name": "stdout",
     "output_type": "stream",
     "text": [
      "Removed word: example\n"
     ]
    }
   ],
   "source": [
    "print(\"Removed word:\", removed_word)"
   ]
  },
  {
   "cell_type": "code",
   "execution_count": 53,
   "id": "c47f5ce0-9bfe-4a60-abbb-9cb1f4872a64",
   "metadata": {},
   "outputs": [
    {
     "data": {
      "text/plain": [
       "'this is an example sentence to test the function.'"
      ]
     },
     "execution_count": 53,
     "metadata": {},
     "output_type": "execute_result"
    }
   ],
   "source": [
    "s1"
   ]
  },
  {
   "cell_type": "code",
   "execution_count": 54,
   "id": "7b1a8032-7b13-4f42-bf49-78bd836e841f",
   "metadata": {},
   "outputs": [],
   "source": [
    "n = 3"
   ]
  },
  {
   "cell_type": "code",
   "execution_count": 58,
   "id": "cf4d4424-560f-42e3-a934-ed4fbde1c2dc",
   "metadata": {},
   "outputs": [],
   "source": [
    "words = s1.split()"
   ]
  },
  {
   "cell_type": "code",
   "execution_count": 59,
   "id": "033b1d24-10c0-4afd-81de-8d64f3fbf390",
   "metadata": {},
   "outputs": [
    {
     "data": {
      "text/plain": [
       "['this', 'is', 'an', 'example', 'sentence', 'to', 'test', 'the', 'function.']"
      ]
     },
     "execution_count": 59,
     "metadata": {},
     "output_type": "execute_result"
    }
   ],
   "source": [
    "words"
   ]
  },
  {
   "cell_type": "code",
   "execution_count": 63,
   "id": "ba6a1cb4-f9c1-4789-9c5e-9aad29310a70",
   "metadata": {},
   "outputs": [],
   "source": [
    "words.insert(3, 'rashmi')"
   ]
  },
  {
   "cell_type": "code",
   "execution_count": 64,
   "id": "20ba9586-f46f-45e5-bc00-39d02e798f04",
   "metadata": {},
   "outputs": [
    {
     "data": {
      "text/plain": [
       "['this',\n",
       " 'is',\n",
       " 'an',\n",
       " 'rashmi',\n",
       " 'example',\n",
       " 'sentence',\n",
       " 'to',\n",
       " 'test',\n",
       " 'the',\n",
       " 'function.']"
      ]
     },
     "execution_count": 64,
     "metadata": {},
     "output_type": "execute_result"
    }
   ],
   "source": [
    "words"
   ]
  },
  {
   "cell_type": "code",
   "execution_count": 65,
   "id": "98ef1b3a-bb1f-401c-a715-48e951a48637",
   "metadata": {},
   "outputs": [],
   "source": [
    "modified_str = ' '.join(words)"
   ]
  },
  {
   "cell_type": "code",
   "execution_count": 66,
   "id": "fc29d1a6-21ac-4ca6-9e75-01e8916d46fe",
   "metadata": {},
   "outputs": [
    {
     "data": {
      "text/plain": [
       "'this is an rashmi example sentence to test the function.'"
      ]
     },
     "execution_count": 66,
     "metadata": {},
     "output_type": "execute_result"
    }
   ],
   "source": [
    "modified_str"
   ]
  },
  {
   "cell_type": "code",
   "execution_count": 67,
   "id": "026e0f7e-d9ae-4956-8210-105c56b94079",
   "metadata": {},
   "outputs": [
    {
     "name": "stdout",
     "output_type": "stream",
     "text": [
      "Original string: this is an example sentence to test the function.\n"
     ]
    }
   ],
   "source": [
    "print(\"Original string:\", s1)"
   ]
  },
  {
   "cell_type": "code",
   "execution_count": 68,
   "id": "d46a1052-5ba6-48d7-a6cf-df86024458c1",
   "metadata": {},
   "outputs": [
    {
     "name": "stdout",
     "output_type": "stream",
     "text": [
      "Modified string: this is an rashmi example sentence to test the function.\n"
     ]
    }
   ],
   "source": [
    "print(\"Modified string:\", modified_str)"
   ]
  },
  {
   "cell_type": "code",
   "execution_count": 69,
   "id": "81b47634-09d5-4452-af14-d68d81146f01",
   "metadata": {},
   "outputs": [],
   "source": [
    "csv_data = \"Name, Age, Country\\nJohn, 25, USA\\nA1ice, 30, Canada\\nBob, 22, UK\""
   ]
  },
  {
   "cell_type": "code",
   "execution_count": 71,
   "id": "905a20eb-9101-481f-831c-0ae17b73a5e0",
   "metadata": {},
   "outputs": [],
   "source": [
    "lines = csv_data.split()"
   ]
  },
  {
   "cell_type": "code",
   "execution_count": 72,
   "id": "fa9b847c-c879-4940-8045-e960afbb27c3",
   "metadata": {},
   "outputs": [
    {
     "data": {
      "text/plain": [
       "['Name,',\n",
       " 'Age,',\n",
       " 'Country',\n",
       " 'John,',\n",
       " '25,',\n",
       " 'USA',\n",
       " 'A1ice,',\n",
       " '30,',\n",
       " 'Canada',\n",
       " 'Bob,',\n",
       " '22,',\n",
       " 'UK']"
      ]
     },
     "execution_count": 72,
     "metadata": {},
     "output_type": "execute_result"
    }
   ],
   "source": [
    "lines"
   ]
  },
  {
   "cell_type": "code",
   "execution_count": 78,
   "id": "e16ab75f-1ebd-4a7c-9385-2e198ce8e4c5",
   "metadata": {},
   "outputs": [],
   "source": [
    "list_of_lists = list(csv_data)"
   ]
  },
  {
   "cell_type": "code",
   "execution_count": null,
   "id": "4beb12cc-abf8-4831-88b8-4493ddb5b929",
   "metadata": {},
   "outputs": [],
   "source": [
    "list_of_lists"
   ]
  }
 ],
 "metadata": {
  "kernelspec": {
   "display_name": "Python 3 (ipykernel)",
   "language": "python",
   "name": "python3"
  },
  "language_info": {
   "codemirror_mode": {
    "name": "ipython",
    "version": 3
   },
   "file_extension": ".py",
   "mimetype": "text/x-python",
   "name": "python",
   "nbconvert_exporter": "python",
   "pygments_lexer": "ipython3",
   "version": "3.10.8"
  }
 },
 "nbformat": 4,
 "nbformat_minor": 5
}
