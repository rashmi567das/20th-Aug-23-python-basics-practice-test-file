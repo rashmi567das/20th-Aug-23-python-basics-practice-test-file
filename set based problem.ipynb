{
 "cells": [
  {
   "cell_type": "code",
   "execution_count": 1,
   "id": "0dfd0cd0-b0d1-49a3-aef0-f4eede70a4dc",
   "metadata": {},
   "outputs": [
    {
     "ename": "NameError",
     "evalue": "name 's1' is not defined",
     "output_type": "error",
     "traceback": [
      "\u001b[0;31m---------------------------------------------------------------------------\u001b[0m",
      "\u001b[0;31mNameError\u001b[0m                                 Traceback (most recent call last)",
      "Cell \u001b[0;32mIn[1], line 1\u001b[0m\n\u001b[0;32m----> 1\u001b[0m \u001b[43ms1\u001b[49m\n",
      "\u001b[0;31mNameError\u001b[0m: name 's1' is not defined"
     ]
    }
   ],
   "source": [
    "s1"
   ]
  },
  {
   "cell_type": "code",
   "execution_count": null,
   "id": "6d44efa0-ffa7-400b-b147-4173e6856c49",
   "metadata": {},
   "outputs": [],
   "source": [
    "s2 = {1, 3, 5, 7, 9}"
   ]
  },
  {
   "cell_type": "code",
   "execution_count": null,
   "id": "7bf04fac-5d3f-49e7-b6a8-453631af3a4d",
   "metadata": {},
   "outputs": [],
   "source": [
    "s2"
   ]
  },
  {
   "cell_type": "code",
   "execution_count": null,
   "id": "944bb0a0-d7e6-41c7-b8a3-e7b269bf2ca4",
   "metadata": {},
   "outputs": [],
   "source": [
    "element_to_check = int(7)"
   ]
  },
  {
   "cell_type": "code",
   "execution_count": null,
   "id": "0de08c3f-7d90-4d95-9a54-1708278f2548",
   "metadata": {},
   "outputs": [],
   "source": [
    "element_to_check"
   ]
  },
  {
   "cell_type": "code",
   "execution_count": null,
   "id": "d442f4d8-94a2-4089-9515-cfeecfb0a48e",
   "metadata": {},
   "outputs": [],
   "source": [
    "print(\"7 exixts in the set\")"
   ]
  },
  {
   "cell_type": "code",
   "execution_count": null,
   "id": "655ae94c-1543-41ec-9ac2-f8a17819f8d2",
   "metadata": {},
   "outputs": [],
   "source": [
    "s2 = {1, 2, 3, 4, 5}"
   ]
  },
  {
   "cell_type": "code",
   "execution_count": null,
   "id": "bb7143b0-07ee-4476-8102-698aec2850b2",
   "metadata": {},
   "outputs": [],
   "source": [
    "s2"
   ]
  },
  {
   "cell_type": "code",
   "execution_count": null,
   "id": "6918f1ef-a2eb-4bb8-9fd5-82eb6fa7b882",
   "metadata": {},
   "outputs": [],
   "source": [
    "count = 0"
   ]
  },
  {
   "cell_type": "code",
   "execution_count": null,
   "id": "2eca5754-336f-400a-94e2-89f67b42d1aa",
   "metadata": {},
   "outputs": [],
   "source": [
    "count += 1"
   ]
  },
  {
   "cell_type": "code",
   "execution_count": null,
   "id": "0da2496d-0991-49d2-bef4-e81f87e596ba",
   "metadata": {},
   "outputs": [],
   "source": [
    "count = 5"
   ]
  },
  {
   "cell_type": "code",
   "execution_count": null,
   "id": "eee0145e-5b8e-4243-842a-7d3ad5bac6ae",
   "metadata": {},
   "outputs": [],
   "source": [
    "print(\"length of the set:\", count)"
   ]
  },
  {
   "cell_type": "code",
   "execution_count": null,
   "id": "cff80946-a520-4e16-bd4e-499a62c60c16",
   "metadata": {},
   "outputs": [],
   "source": [
    "s2"
   ]
  },
  {
   "cell_type": "code",
   "execution_count": null,
   "id": "67c933aa-1b50-42e0-88e3-d39651b6f8a0",
   "metadata": {},
   "outputs": [],
   "source": [
    "s2.clear()"
   ]
  },
  {
   "cell_type": "code",
   "execution_count": null,
   "id": "41583e15-3df3-4ea3-b228-14307454382b",
   "metadata": {},
   "outputs": [],
   "source": [
    "s2"
   ]
  },
  {
   "cell_type": "code",
   "execution_count": null,
   "id": "5c9bbf36-19ed-4876-bda2-011cc87125d0",
   "metadata": {},
   "outputs": [],
   "source": [
    "even_numbers_set = set()"
   ]
  },
  {
   "cell_type": "code",
   "execution_count": null,
   "id": "a388f068-ce0c-4c39-b197-232f0cdff2e8",
   "metadata": {},
   "outputs": [],
   "source": [
    "1 % 2 == 0"
   ]
  },
  {
   "cell_type": "code",
   "execution_count": null,
   "id": "972cca7f-e5ce-47c3-8754-dc9c6e7dbee2",
   "metadata": {},
   "outputs": [],
   "source": [
    "2 %2 == 0"
   ]
  },
  {
   "cell_type": "code",
   "execution_count": null,
   "id": "78b0fb95-d4dc-4e2b-908d-fd12f0bfb867",
   "metadata": {},
   "outputs": [],
   "source": [
    "3 % 2 == 0"
   ]
  },
  {
   "cell_type": "code",
   "execution_count": null,
   "id": "3add384c-a835-46dc-997b-39891b170215",
   "metadata": {},
   "outputs": [],
   "source": [
    "4 % 2 == 0"
   ]
  },
  {
   "cell_type": "code",
   "execution_count": null,
   "id": "19e2d5a1-5510-4fbf-94bd-dd2ce133bb4e",
   "metadata": {},
   "outputs": [],
   "source": [
    "5 % 2 == 0"
   ]
  },
  {
   "cell_type": "code",
   "execution_count": null,
   "id": "27c104b6-354a-455e-b8dc-7dacd198a220",
   "metadata": {},
   "outputs": [],
   "source": [
    "6 % 2 == 0"
   ]
  },
  {
   "cell_type": "code",
   "execution_count": null,
   "id": "75827f82-d166-4ade-b8ff-42ffd823dcd6",
   "metadata": {},
   "outputs": [],
   "source": [
    "7 % 2 == 0"
   ]
  },
  {
   "cell_type": "code",
   "execution_count": null,
   "id": "880c12fc-ff23-4343-ae10-4d4711caa402",
   "metadata": {},
   "outputs": [],
   "source": [
    "8 % 2 == 0"
   ]
  },
  {
   "cell_type": "code",
   "execution_count": null,
   "id": "7aa10257-ff50-4b5c-9a15-cc1961a28d69",
   "metadata": {},
   "outputs": [],
   "source": [
    "9 % 2 == 0"
   ]
  },
  {
   "cell_type": "code",
   "execution_count": null,
   "id": "9d5d7fb7-2e77-4fdc-8b03-ccc02600186c",
   "metadata": {},
   "outputs": [],
   "source": [
    "10 % 2 == 0"
   ]
  },
  {
   "cell_type": "code",
   "execution_count": null,
   "id": "46f890d4-08db-4335-9be5-8025f18149ee",
   "metadata": {},
   "outputs": [],
   "source": [
    "even_numbers_set = {2, 4, 6, 8, 10}"
   ]
  },
  {
   "cell_type": "code",
   "execution_count": null,
   "id": "ec5548e1-3aa3-4d53-a5a4-9682650e9e58",
   "metadata": {},
   "outputs": [],
   "source": [
    "even_numbers_set"
   ]
  },
  {
   "cell_type": "code",
   "execution_count": null,
   "id": "10328aa0-3368-43cf-99f4-13833b836451",
   "metadata": {},
   "outputs": [],
   "source": [
    "odd_numbers_set = set()"
   ]
  },
  {
   "cell_type": "code",
   "execution_count": 2,
   "id": "4d8e578a-80a3-4c7d-9869-324358ac6a7d",
   "metadata": {},
   "outputs": [
    {
     "data": {
      "text/plain": [
       "True"
      ]
     },
     "execution_count": 2,
     "metadata": {},
     "output_type": "execute_result"
    }
   ],
   "source": [
    "1 % 2 != 0"
   ]
  },
  {
   "cell_type": "code",
   "execution_count": 3,
   "id": "4bc066ea-4724-4d81-a95b-9a3fd76aa2c7",
   "metadata": {},
   "outputs": [
    {
     "data": {
      "text/plain": [
       "False"
      ]
     },
     "execution_count": 3,
     "metadata": {},
     "output_type": "execute_result"
    }
   ],
   "source": [
    "2 % 2 != 0"
   ]
  },
  {
   "cell_type": "code",
   "execution_count": 4,
   "id": "bae7dd84-cf5e-4112-bea4-06d8ac160f28",
   "metadata": {},
   "outputs": [
    {
     "data": {
      "text/plain": [
       "True"
      ]
     },
     "execution_count": 4,
     "metadata": {},
     "output_type": "execute_result"
    }
   ],
   "source": [
    "3 % 2 != 0"
   ]
  },
  {
   "cell_type": "code",
   "execution_count": 5,
   "id": "9b3f93e6-1755-4e32-b4bd-02557037a2d2",
   "metadata": {},
   "outputs": [
    {
     "data": {
      "text/plain": [
       "False"
      ]
     },
     "execution_count": 5,
     "metadata": {},
     "output_type": "execute_result"
    }
   ],
   "source": [
    "4 % 2 != 0"
   ]
  },
  {
   "cell_type": "code",
   "execution_count": 6,
   "id": "0e7362c0-5c25-4993-bbd8-8f4a61b79616",
   "metadata": {},
   "outputs": [
    {
     "data": {
      "text/plain": [
       "True"
      ]
     },
     "execution_count": 6,
     "metadata": {},
     "output_type": "execute_result"
    }
   ],
   "source": [
    "5 % 2 != 0"
   ]
  },
  {
   "cell_type": "code",
   "execution_count": 7,
   "id": "d9f51a4d-b81b-46f7-8697-c30949e107b3",
   "metadata": {},
   "outputs": [
    {
     "data": {
      "text/plain": [
       "False"
      ]
     },
     "execution_count": 7,
     "metadata": {},
     "output_type": "execute_result"
    }
   ],
   "source": [
    "6 % 2 != 0"
   ]
  },
  {
   "cell_type": "code",
   "execution_count": 8,
   "id": "066b1163-b848-46bb-be31-fd73e932e0cb",
   "metadata": {},
   "outputs": [
    {
     "data": {
      "text/plain": [
       "True"
      ]
     },
     "execution_count": 8,
     "metadata": {},
     "output_type": "execute_result"
    }
   ],
   "source": [
    "7 % 2 != 0"
   ]
  },
  {
   "cell_type": "code",
   "execution_count": 9,
   "id": "ebf48079-fabc-4c10-8dd7-e50bb79f2ad2",
   "metadata": {},
   "outputs": [
    {
     "data": {
      "text/plain": [
       "False"
      ]
     },
     "execution_count": 9,
     "metadata": {},
     "output_type": "execute_result"
    }
   ],
   "source": [
    "8 % 2 != 0"
   ]
  },
  {
   "cell_type": "code",
   "execution_count": 10,
   "id": "9dd9918c-b229-4f05-9fb9-19cd421c5ce0",
   "metadata": {},
   "outputs": [
    {
     "data": {
      "text/plain": [
       "True"
      ]
     },
     "execution_count": 10,
     "metadata": {},
     "output_type": "execute_result"
    }
   ],
   "source": [
    "9 % 2 != 0"
   ]
  },
  {
   "cell_type": "code",
   "execution_count": 11,
   "id": "3c0cb467-c064-41bb-ba22-8fc2e19b2f39",
   "metadata": {},
   "outputs": [
    {
     "data": {
      "text/plain": [
       "False"
      ]
     },
     "execution_count": 11,
     "metadata": {},
     "output_type": "execute_result"
    }
   ],
   "source": [
    "10 % 2 != 0"
   ]
  },
  {
   "cell_type": "code",
   "execution_count": 12,
   "id": "bdad2bef-b377-4d57-bc57-58c7755edf22",
   "metadata": {},
   "outputs": [],
   "source": [
    "odd_numbers_set = {1, 3, 5, 7, 9}"
   ]
  },
  {
   "cell_type": "code",
   "execution_count": 13,
   "id": "24e04b5e-1773-4147-83b0-d4a05f7446bf",
   "metadata": {},
   "outputs": [
    {
     "data": {
      "text/plain": [
       "{1, 3, 5, 7, 9}"
      ]
     },
     "execution_count": 13,
     "metadata": {},
     "output_type": "execute_result"
    }
   ],
   "source": [
    "odd_numbers_set"
   ]
  },
  {
   "cell_type": "code",
   "execution_count": 14,
   "id": "c46a716a-bfc0-4ca4-a042-c207a8d85a0b",
   "metadata": {},
   "outputs": [],
   "source": [
    "set1 = {1, 2, 3, 4, 5}"
   ]
  },
  {
   "cell_type": "code",
   "execution_count": 15,
   "id": "0213bc90-2b34-4c8a-b986-7aa594c22247",
   "metadata": {},
   "outputs": [],
   "source": [
    "set2 = {4, 5, 6, 7, 8}"
   ]
  },
  {
   "cell_type": "code",
   "execution_count": 16,
   "id": "c6a90cc6-64cd-402c-98f3-cf3c6648deb4",
   "metadata": {},
   "outputs": [],
   "source": [
    "union_results = set1.union(set2)"
   ]
  },
  {
   "cell_type": "code",
   "execution_count": 17,
   "id": "e4ba68b9-8257-4108-b160-a5209a9b1393",
   "metadata": {},
   "outputs": [
    {
     "data": {
      "text/plain": [
       "{1, 2, 3, 4, 5}"
      ]
     },
     "execution_count": 17,
     "metadata": {},
     "output_type": "execute_result"
    }
   ],
   "source": [
    "set1"
   ]
  },
  {
   "cell_type": "code",
   "execution_count": 18,
   "id": "92fbb613-7c9e-4ba2-92ed-e041d7580a35",
   "metadata": {},
   "outputs": [
    {
     "data": {
      "text/plain": [
       "{4, 5, 6, 7, 8}"
      ]
     },
     "execution_count": 18,
     "metadata": {},
     "output_type": "execute_result"
    }
   ],
   "source": [
    "set2"
   ]
  },
  {
   "cell_type": "code",
   "execution_count": 19,
   "id": "974dfb2e-7ebe-4075-afb9-10e8bb572598",
   "metadata": {},
   "outputs": [
    {
     "data": {
      "text/plain": [
       "{1, 2, 3, 4, 5, 6, 7, 8}"
      ]
     },
     "execution_count": 19,
     "metadata": {},
     "output_type": "execute_result"
    }
   ],
   "source": [
    "union_results"
   ]
  },
  {
   "cell_type": "code",
   "execution_count": 20,
   "id": "98522c5a-5dec-4486-a28b-2793bb3660bf",
   "metadata": {},
   "outputs": [
    {
     "data": {
      "text/plain": [
       "{1, 2, 3, 4, 5}"
      ]
     },
     "execution_count": 20,
     "metadata": {},
     "output_type": "execute_result"
    }
   ],
   "source": [
    "set1"
   ]
  },
  {
   "cell_type": "code",
   "execution_count": 21,
   "id": "53bdabac-3c5c-48a1-8dca-44d79feff740",
   "metadata": {},
   "outputs": [
    {
     "data": {
      "text/plain": [
       "{4, 5, 6, 7, 8}"
      ]
     },
     "execution_count": 21,
     "metadata": {},
     "output_type": "execute_result"
    }
   ],
   "source": [
    "set2"
   ]
  },
  {
   "cell_type": "code",
   "execution_count": 22,
   "id": "5a1ba985-92e8-411a-9f29-6cf68746d337",
   "metadata": {},
   "outputs": [],
   "source": [
    "intersection_result = set1.intersection(set2)"
   ]
  },
  {
   "cell_type": "code",
   "execution_count": 23,
   "id": "19654c75-15ae-47b6-90e6-9e65eefd03d1",
   "metadata": {},
   "outputs": [
    {
     "data": {
      "text/plain": [
       "{4, 5}"
      ]
     },
     "execution_count": 23,
     "metadata": {},
     "output_type": "execute_result"
    }
   ],
   "source": [
    "intersection_result"
   ]
  },
  {
   "cell_type": "code",
   "execution_count": 24,
   "id": "310f0df4-8e12-4fa8-a70d-6bd2bb874992",
   "metadata": {},
   "outputs": [
    {
     "data": {
      "text/plain": [
       "{1, 2, 3, 4, 5}"
      ]
     },
     "execution_count": 24,
     "metadata": {},
     "output_type": "execute_result"
    }
   ],
   "source": [
    "set1"
   ]
  },
  {
   "cell_type": "code",
   "execution_count": 25,
   "id": "a29cd17f-e168-4768-9d3b-9e03dcc24316",
   "metadata": {},
   "outputs": [
    {
     "data": {
      "text/plain": [
       "{4, 5, 6, 7, 8}"
      ]
     },
     "execution_count": 25,
     "metadata": {},
     "output_type": "execute_result"
    }
   ],
   "source": [
    "set2"
   ]
  },
  {
   "cell_type": "code",
   "execution_count": 26,
   "id": "5287c9d4-04c7-4809-a7a8-b5a9fa30552c",
   "metadata": {},
   "outputs": [],
   "source": [
    "difference_set = set1.difference(set2)"
   ]
  },
  {
   "cell_type": "code",
   "execution_count": 27,
   "id": "25f5b153-9dd7-4321-9291-8ff0a5e53f96",
   "metadata": {},
   "outputs": [
    {
     "data": {
      "text/plain": [
       "{1, 2, 3}"
      ]
     },
     "execution_count": 27,
     "metadata": {},
     "output_type": "execute_result"
    }
   ],
   "source": [
    "difference_set"
   ]
  },
  {
   "cell_type": "code",
   "execution_count": 28,
   "id": "a09a19ec-8fd6-46cb-bcb7-1889eb3def87",
   "metadata": {},
   "outputs": [],
   "source": [
    "set1 = {1, 2, 3}"
   ]
  },
  {
   "cell_type": "code",
   "execution_count": 29,
   "id": "577b992b-0c3c-4561-9804-27086aba78a6",
   "metadata": {},
   "outputs": [],
   "source": [
    "set2 = {1, 2, 3, 4, 5}"
   ]
  },
  {
   "cell_type": "code",
   "execution_count": 30,
   "id": "4a2b194b-cd1e-41c0-abf1-12e8580511f1",
   "metadata": {},
   "outputs": [
    {
     "data": {
      "text/plain": [
       "{1, 2, 3}"
      ]
     },
     "execution_count": 30,
     "metadata": {},
     "output_type": "execute_result"
    }
   ],
   "source": [
    "set1"
   ]
  },
  {
   "cell_type": "code",
   "execution_count": 31,
   "id": "972e20de-711e-4678-b23e-0b639a5c4023",
   "metadata": {},
   "outputs": [
    {
     "data": {
      "text/plain": [
       "{1, 2, 3, 4, 5}"
      ]
     },
     "execution_count": 31,
     "metadata": {},
     "output_type": "execute_result"
    }
   ],
   "source": [
    "set2"
   ]
  },
  {
   "cell_type": "code",
   "execution_count": 32,
   "id": "3b503032-f240-467d-af10-692218747acd",
   "metadata": {},
   "outputs": [],
   "source": [
    "is_a_subset = set1.issubset(set2)"
   ]
  },
  {
   "cell_type": "code",
   "execution_count": 33,
   "id": "41e60890-f901-44b9-b106-cb66dccdc61b",
   "metadata": {},
   "outputs": [
    {
     "data": {
      "text/plain": [
       "True"
      ]
     },
     "execution_count": 33,
     "metadata": {},
     "output_type": "execute_result"
    }
   ],
   "source": [
    "is_a_subset"
   ]
  },
  {
   "cell_type": "code",
   "execution_count": 34,
   "id": "5c53c252-1800-49e3-aed3-ef10ec6b4c2e",
   "metadata": {},
   "outputs": [],
   "source": [
    "set1 ={1, 2, 3, 4, 5, 6}"
   ]
  },
  {
   "cell_type": "code",
   "execution_count": 35,
   "id": "079c860b-c0a0-4b7f-9105-4577b52a006c",
   "metadata": {},
   "outputs": [],
   "source": [
    "set2 = {3, 4}"
   ]
  },
  {
   "cell_type": "code",
   "execution_count": 36,
   "id": "fd1bfa9f-8557-458b-aad8-13701618d6b2",
   "metadata": {},
   "outputs": [
    {
     "data": {
      "text/plain": [
       "{1, 2, 3, 4, 5, 6}"
      ]
     },
     "execution_count": 36,
     "metadata": {},
     "output_type": "execute_result"
    }
   ],
   "source": [
    "set1"
   ]
  },
  {
   "cell_type": "code",
   "execution_count": 37,
   "id": "4e990b90-53ee-4b5a-9013-fa5fd743e91e",
   "metadata": {},
   "outputs": [
    {
     "data": {
      "text/plain": [
       "{3, 4}"
      ]
     },
     "execution_count": 37,
     "metadata": {},
     "output_type": "execute_result"
    }
   ],
   "source": [
    "set2"
   ]
  },
  {
   "cell_type": "code",
   "execution_count": 38,
   "id": "da314cf4-8881-4d3a-902c-374626630915",
   "metadata": {},
   "outputs": [],
   "source": [
    "is_a_superset = set1.issuperset(set2)"
   ]
  },
  {
   "cell_type": "code",
   "execution_count": 39,
   "id": "210ed90f-4d87-4d0c-a3b5-ed6168993ef8",
   "metadata": {},
   "outputs": [
    {
     "data": {
      "text/plain": [
       "True"
      ]
     },
     "execution_count": 39,
     "metadata": {},
     "output_type": "execute_result"
    }
   ],
   "source": [
    "is_a_superset"
   ]
  },
  {
   "cell_type": "code",
   "execution_count": 40,
   "id": "c54969e7-a16f-492e-9b81-0d65bfac9ecf",
   "metadata": {},
   "outputs": [
    {
     "name": "stdout",
     "output_type": "stream",
     "text": [
      "set1 is a superset of set2\n"
     ]
    }
   ],
   "source": [
    "print(\"set1 is a superset of set2\")"
   ]
  },
  {
   "cell_type": "code",
   "execution_count": 41,
   "id": "f2439371-da04-41c2-b77c-89fe1d42fd06",
   "metadata": {},
   "outputs": [],
   "source": [
    "s1 = {1, 2, 3, 4, 5} "
   ]
  },
  {
   "cell_type": "code",
   "execution_count": 42,
   "id": "7aeda0c7-cb50-4de7-92ae-6b2e09946d24",
   "metadata": {},
   "outputs": [
    {
     "data": {
      "text/plain": [
       "{1, 2, 3, 4, 5}"
      ]
     },
     "execution_count": 42,
     "metadata": {},
     "output_type": "execute_result"
    }
   ],
   "source": [
    "s1"
   ]
  },
  {
   "cell_type": "code",
   "execution_count": 43,
   "id": "b27de9cd-86ce-4b6d-890d-b82e09a5cbd1",
   "metadata": {},
   "outputs": [],
   "source": [
    "l1 = list(s1)"
   ]
  },
  {
   "cell_type": "code",
   "execution_count": 44,
   "id": "20f6dfb8-419e-4c3b-b26a-8bf3e2b16ec1",
   "metadata": {},
   "outputs": [
    {
     "data": {
      "text/plain": [
       "[1, 2, 3, 4, 5]"
      ]
     },
     "execution_count": 44,
     "metadata": {},
     "output_type": "execute_result"
    }
   ],
   "source": [
    "l1"
   ]
  },
  {
   "cell_type": "code",
   "execution_count": 45,
   "id": "2a2c2b7f-2187-4df9-9161-8ffc2fbe0615",
   "metadata": {},
   "outputs": [],
   "source": [
    "l2 = [1, 2, 3, 4, \"rashmi\", True, 34.5]"
   ]
  },
  {
   "cell_type": "code",
   "execution_count": 46,
   "id": "2be87847-efbf-4435-94a2-519e1692b30f",
   "metadata": {},
   "outputs": [
    {
     "data": {
      "text/plain": [
       "[1, 2, 3, 4, 'rashmi', True, 34.5]"
      ]
     },
     "execution_count": 46,
     "metadata": {},
     "output_type": "execute_result"
    }
   ],
   "source": [
    "l2"
   ]
  },
  {
   "cell_type": "code",
   "execution_count": 47,
   "id": "da74c617-826a-4f2d-b18f-2b8486c5fb19",
   "metadata": {},
   "outputs": [],
   "source": [
    "s2 = set(l2)"
   ]
  },
  {
   "cell_type": "code",
   "execution_count": 48,
   "id": "140a6f24-e1f5-4924-abce-f1d84771ea8c",
   "metadata": {},
   "outputs": [
    {
     "data": {
      "text/plain": [
       "{1, 2, 3, 34.5, 4, 'rashmi'}"
      ]
     },
     "execution_count": 48,
     "metadata": {},
     "output_type": "execute_result"
    }
   ],
   "source": [
    "s2"
   ]
  },
  {
   "cell_type": "code",
   "execution_count": 49,
   "id": "4bc2b18a-76b2-436b-80e4-561ca9b38729",
   "metadata": {},
   "outputs": [],
   "source": [
    "my_set = {1, 2, 3, 4, 5}"
   ]
  },
  {
   "cell_type": "code",
   "execution_count": 50,
   "id": "d6785ae6-675b-464b-b8dd-9b91fe6ef083",
   "metadata": {},
   "outputs": [
    {
     "data": {
      "text/plain": [
       "{1, 2, 3, 4, 5}"
      ]
     },
     "execution_count": 50,
     "metadata": {},
     "output_type": "execute_result"
    }
   ],
   "source": [
    "my_set"
   ]
  },
  {
   "cell_type": "code",
   "execution_count": 51,
   "id": "38e63e00-1ca7-44f8-9eb6-0eda8440fcf6",
   "metadata": {},
   "outputs": [],
   "source": [
    "my_list = list(my_set)"
   ]
  },
  {
   "cell_type": "code",
   "execution_count": 52,
   "id": "9c9b331c-d3f2-4e7a-a04e-d646353ff9d3",
   "metadata": {},
   "outputs": [
    {
     "data": {
      "text/plain": [
       "[1, 2, 3, 4, 5]"
      ]
     },
     "execution_count": 52,
     "metadata": {},
     "output_type": "execute_result"
    }
   ],
   "source": [
    "my_list"
   ]
  },
  {
   "cell_type": "code",
   "execution_count": 53,
   "id": "f6988050-93af-4d45-b6b5-36d61dfcd293",
   "metadata": {},
   "outputs": [],
   "source": [
    "random_element = 4"
   ]
  },
  {
   "cell_type": "code",
   "execution_count": 54,
   "id": "29e73bb0-708f-4034-928e-4d4805a35222",
   "metadata": {},
   "outputs": [
    {
     "data": {
      "text/plain": [
       "4"
      ]
     },
     "execution_count": 54,
     "metadata": {},
     "output_type": "execute_result"
    }
   ],
   "source": [
    "random_element"
   ]
  },
  {
   "cell_type": "code",
   "execution_count": 55,
   "id": "1ae5a17b-bf73-41e2-a381-6b23e7336daa",
   "metadata": {},
   "outputs": [],
   "source": [
    "my_Set = {1, 2, 3, 4, 5}"
   ]
  },
  {
   "cell_type": "code",
   "execution_count": 56,
   "id": "37f5c65c-48cd-4b7b-847d-aafab3846fc8",
   "metadata": {},
   "outputs": [],
   "source": [
    "my_set.remove(4)"
   ]
  },
  {
   "cell_type": "code",
   "execution_count": 57,
   "id": "933a0259-6171-490d-b008-466a83bc88e2",
   "metadata": {},
   "outputs": [
    {
     "data": {
      "text/plain": [
       "{1, 2, 3, 5}"
      ]
     },
     "execution_count": 57,
     "metadata": {},
     "output_type": "execute_result"
    }
   ],
   "source": [
    "my_set"
   ]
  },
  {
   "cell_type": "code",
   "execution_count": 58,
   "id": "87ea310b-7326-4f66-a9a2-e544e970d479",
   "metadata": {},
   "outputs": [],
   "source": [
    "s1 ={1, 2, 3, 4, 5}"
   ]
  },
  {
   "cell_type": "code",
   "execution_count": 59,
   "id": "29ce2c18-5f84-4e5a-a00d-9a3e183bab71",
   "metadata": {},
   "outputs": [
    {
     "data": {
      "text/plain": [
       "{1, 2, 3, 4, 5}"
      ]
     },
     "execution_count": 59,
     "metadata": {},
     "output_type": "execute_result"
    }
   ],
   "source": [
    "s1"
   ]
  },
  {
   "cell_type": "code",
   "execution_count": 60,
   "id": "fdb205bf-6803-4ecb-a8bf-69bce84c984e",
   "metadata": {},
   "outputs": [],
   "source": [
    "popped_element = s1.pop()"
   ]
  },
  {
   "cell_type": "code",
   "execution_count": 61,
   "id": "4ddb6103-b49f-4434-b348-bb357912bed6",
   "metadata": {},
   "outputs": [
    {
     "data": {
      "text/plain": [
       "1"
      ]
     },
     "execution_count": 61,
     "metadata": {},
     "output_type": "execute_result"
    }
   ],
   "source": [
    "popped_element"
   ]
  },
  {
   "cell_type": "code",
   "execution_count": 62,
   "id": "2e3e23b3-6968-4692-9078-4e1887578ad2",
   "metadata": {},
   "outputs": [
    {
     "data": {
      "text/plain": [
       "{2, 3, 4, 5}"
      ]
     },
     "execution_count": 62,
     "metadata": {},
     "output_type": "execute_result"
    }
   ],
   "source": [
    "s1"
   ]
  },
  {
   "cell_type": "code",
   "execution_count": 63,
   "id": "de73d684-43bf-4fc0-9606-b996c1fb55bf",
   "metadata": {},
   "outputs": [],
   "source": [
    "s2 = {1, 2, 3, 4}"
   ]
  },
  {
   "cell_type": "code",
   "execution_count": 64,
   "id": "312ad8a6-a09c-4067-abd1-7891960fff98",
   "metadata": {},
   "outputs": [],
   "source": [
    "s3 = {5, 6, 7, 8}"
   ]
  },
  {
   "cell_type": "code",
   "execution_count": 65,
   "id": "ff45b359-93d7-4b2d-a4d8-5e8eac9ff9a2",
   "metadata": {},
   "outputs": [],
   "source": [
    "common_element = s2.intersection(s3)"
   ]
  },
  {
   "cell_type": "code",
   "execution_count": 66,
   "id": "a1b19e6e-c7f9-4fe6-acf0-b8867d77b282",
   "metadata": {},
   "outputs": [
    {
     "data": {
      "text/plain": [
       "set()"
      ]
     },
     "execution_count": 66,
     "metadata": {},
     "output_type": "execute_result"
    }
   ],
   "source": [
    "common_element"
   ]
  },
  {
   "cell_type": "code",
   "execution_count": 67,
   "id": "7d59844f-e92f-4464-857a-8db5b821ed0e",
   "metadata": {},
   "outputs": [
    {
     "name": "stdout",
     "output_type": "stream",
     "text": [
      "The two set have no element in common\n"
     ]
    }
   ],
   "source": [
    "print(\"The two set have no element in common\")"
   ]
  },
  {
   "cell_type": "code",
   "execution_count": 68,
   "id": "72792b7f-3b38-43e7-80eb-bdd1bb39cc28",
   "metadata": {},
   "outputs": [],
   "source": [
    "s1 = {1, 2, 3, 4, 5}"
   ]
  },
  {
   "cell_type": "code",
   "execution_count": 69,
   "id": "8f1594d5-952e-4320-801c-4264f28bfc73",
   "metadata": {},
   "outputs": [],
   "source": [
    "s2 = {4, 5, 6, 7, 8}"
   ]
  },
  {
   "cell_type": "code",
   "execution_count": 70,
   "id": "30ffb90b-c4bd-4c27-93c3-e6534c92673a",
   "metadata": {},
   "outputs": [],
   "source": [
    "symmetric_difference = s1 ^ s2"
   ]
  },
  {
   "cell_type": "code",
   "execution_count": 71,
   "id": "600500cb-32eb-4570-bc8c-7edeb5d82be1",
   "metadata": {},
   "outputs": [
    {
     "data": {
      "text/plain": [
       "{1, 2, 3, 6, 7, 8}"
      ]
     },
     "execution_count": 71,
     "metadata": {},
     "output_type": "execute_result"
    }
   ],
   "source": [
    "symmetric_difference"
   ]
  },
  {
   "cell_type": "code",
   "execution_count": 72,
   "id": "cfa1720e-17be-4f85-9110-91cc3d857a07",
   "metadata": {},
   "outputs": [],
   "source": [
    "set1 = {1, 2, 3}"
   ]
  },
  {
   "cell_type": "code",
   "execution_count": 73,
   "id": "840f30ae-b281-4e3e-91b9-8f647864c104",
   "metadata": {},
   "outputs": [],
   "source": [
    "set2 = {3, 4, 5}"
   ]
  },
  {
   "cell_type": "code",
   "execution_count": 74,
   "id": "92992035-caf4-4fc3-ba4c-6b3fce434bc7",
   "metadata": {},
   "outputs": [],
   "source": [
    "set1.update(set2)"
   ]
  },
  {
   "cell_type": "code",
   "execution_count": 75,
   "id": "af166ad4-9274-47c2-961f-4d2ada4476a3",
   "metadata": {},
   "outputs": [
    {
     "data": {
      "text/plain": [
       "{1, 2, 3, 4, 5}"
      ]
     },
     "execution_count": 75,
     "metadata": {},
     "output_type": "execute_result"
    }
   ],
   "source": [
    "set1"
   ]
  },
  {
   "cell_type": "code",
   "execution_count": 76,
   "id": "aa7c6685-78dd-4bd0-8d27-b5077139acdd",
   "metadata": {},
   "outputs": [],
   "source": [
    "prime_set = set()"
   ]
  },
  {
   "cell_type": "code",
   "execution_count": 77,
   "id": "adaa71e8-8d5b-46c1-bf0d-0bb68d66c1ba",
   "metadata": {},
   "outputs": [],
   "source": [
    "prime_set.add(2)"
   ]
  },
  {
   "cell_type": "code",
   "execution_count": 78,
   "id": "b37279b4-adb0-4e19-a183-78e31eb95798",
   "metadata": {},
   "outputs": [],
   "source": [
    "prime_set.add(3)"
   ]
  },
  {
   "cell_type": "code",
   "execution_count": 79,
   "id": "b14ed532-69f9-4180-8468-6112317b68c8",
   "metadata": {},
   "outputs": [],
   "source": [
    "prime_set.add(5)"
   ]
  },
  {
   "cell_type": "code",
   "execution_count": 80,
   "id": "d9321f6c-420e-4ec4-967c-38ccdfb05b9b",
   "metadata": {},
   "outputs": [],
   "source": [
    "prime_set.add(7)"
   ]
  },
  {
   "cell_type": "code",
   "execution_count": 81,
   "id": "66f16fc5-7373-4f5c-b31b-e9ac33c58ca4",
   "metadata": {},
   "outputs": [],
   "source": [
    "prime_set.add(11)"
   ]
  },
  {
   "cell_type": "code",
   "execution_count": 82,
   "id": "d1ef5cd5-be3f-4edf-83dc-229ec4fabc6c",
   "metadata": {},
   "outputs": [
    {
     "data": {
      "text/plain": [
       "{2, 3, 5, 7, 11}"
      ]
     },
     "execution_count": 82,
     "metadata": {},
     "output_type": "execute_result"
    }
   ],
   "source": [
    "prime_set"
   ]
  },
  {
   "cell_type": "code",
   "execution_count": 83,
   "id": "f6e2a657-5dbb-4781-9b57-53976a20cef3",
   "metadata": {},
   "outputs": [
    {
     "name": "stdout",
     "output_type": "stream",
     "text": [
      "Set of the first 5 prime numbers: {2, 3, 5, 7, 11}\n"
     ]
    }
   ],
   "source": [
    "print(\"Set of the first 5 prime numbers:\", prime_set)"
   ]
  },
  {
   "cell_type": "code",
   "execution_count": 84,
   "id": "3a374b62-ef16-4344-b497-12796d6b2f0c",
   "metadata": {},
   "outputs": [],
   "source": [
    "set1 = {1, 2, 3, 4, 5}"
   ]
  },
  {
   "cell_type": "code",
   "execution_count": 85,
   "id": "f41f56cf-65ac-4e24-81d1-e1f5bd7bcc89",
   "metadata": {},
   "outputs": [],
   "source": [
    "set2 = {3, 1, 5, 2, 4}"
   ]
  },
  {
   "cell_type": "code",
   "execution_count": 86,
   "id": "d6dcd4ed-7b29-4c5f-a427-1de840a72b92",
   "metadata": {},
   "outputs": [
    {
     "data": {
      "text/plain": [
       "True"
      ]
     },
     "execution_count": 86,
     "metadata": {},
     "output_type": "execute_result"
    }
   ],
   "source": [
    "set1 == set2"
   ]
  },
  {
   "cell_type": "code",
   "execution_count": 87,
   "id": "d9c33a56-6137-4c1e-bd66-b3cc1ddf7465",
   "metadata": {},
   "outputs": [
    {
     "name": "stdout",
     "output_type": "stream",
     "text": [
      "The sets are identical.\n"
     ]
    }
   ],
   "source": [
    "print(\"The sets are identical.\")"
   ]
  },
  {
   "cell_type": "code",
   "execution_count": 88,
   "id": "ccdd0b15-86d9-466e-95fd-83011ab3cd44",
   "metadata": {},
   "outputs": [],
   "source": [
    "elements = [1, 2, 3, 4, 5]"
   ]
  },
  {
   "cell_type": "code",
   "execution_count": 89,
   "id": "1bd2e7d6-0d4b-4696-9501-44108aaad02f",
   "metadata": {},
   "outputs": [],
   "source": [
    "my_frozen_set = frozenset(elements)"
   ]
  },
  {
   "cell_type": "code",
   "execution_count": 90,
   "id": "b45a65e5-90bc-4f71-a820-64a9aef3d8b2",
   "metadata": {},
   "outputs": [
    {
     "data": {
      "text/plain": [
       "frozenset({1, 2, 3, 4, 5})"
      ]
     },
     "execution_count": 90,
     "metadata": {},
     "output_type": "execute_result"
    }
   ],
   "source": [
    "my_frozen_set"
   ]
  },
  {
   "cell_type": "code",
   "execution_count": 91,
   "id": "d8618ca0-4516-41e6-bd85-d3276d1f3a3d",
   "metadata": {},
   "outputs": [],
   "source": [
    "set1 = {1, 2, 3, 4}"
   ]
  },
  {
   "cell_type": "code",
   "execution_count": 92,
   "id": "c9683144-4a69-4847-b644-4b500b63f310",
   "metadata": {},
   "outputs": [],
   "source": [
    "set2 = {5, 6, 7, 8}"
   ]
  },
  {
   "cell_type": "code",
   "execution_count": null,
   "id": "cb0cd689-d922-4b06-bccd-1cf7c215f8c2",
   "metadata": {},
   "outputs": [],
   "source": [
    "disjoint_status = set1.isdisjoint(set2)"
   ]
  },
  {
   "cell_type": "code",
   "execution_count": null,
   "id": "62951a0f-70b8-4306-83b1-34d81f1ef9ff",
   "metadata": {},
   "outputs": [],
   "source": [
    "disjoint_status"
   ]
  },
  {
   "cell_type": "code",
   "execution_count": null,
   "id": "130d24f1-ceb8-4796-b8d6-312a0bf4899a",
   "metadata": {},
   "outputs": [],
   "source": [
    "print(\"The sets are disjoint\")"
   ]
  },
  {
   "cell_type": "code",
   "execution_count": null,
   "id": "7797d780-3052-40a6-ba8c-b626eda1f728",
   "metadata": {},
   "outputs": [],
   "source": [
    "squares_set = set()"
   ]
  },
  {
   "cell_type": "code",
   "execution_count": null,
   "id": "eff0c456-f412-427c-bbc0-ef4839eb347e",
   "metadata": {},
   "outputs": [],
   "source": [
    "squares =(1 ** 2, 2 ** 2, 3 ** 2, 4 ** 2, 5 ** 2)"
   ]
  },
  {
   "cell_type": "code",
   "execution_count": null,
   "id": "c36b25bf-633e-4645-9a45-b44b3422ad0b",
   "metadata": {},
   "outputs": [],
   "source": [
    "squares"
   ]
  },
  {
   "cell_type": "code",
   "execution_count": null,
   "id": "730a44f9-dedd-48ca-b38f-1ecc305e51c4",
   "metadata": {},
   "outputs": [],
   "source": [
    "squares_set.add(squares)"
   ]
  },
  {
   "cell_type": "code",
   "execution_count": null,
   "id": "a531846b-2001-46bd-9caa-3e3def1ba1a3",
   "metadata": {},
   "outputs": [],
   "source": [
    "squares_set"
   ]
  },
  {
   "cell_type": "code",
   "execution_count": null,
   "id": "baee525d-ffce-4cc1-a05d-af3bc103b7f6",
   "metadata": {},
   "outputs": [],
   "source": [
    "original_set = {1, 2, 3, 4, 5}"
   ]
  },
  {
   "cell_type": "code",
   "execution_count": null,
   "id": "f0252cf0-c7e9-412d-9f7a-a40690bcb236",
   "metadata": {},
   "outputs": [],
   "source": [
    "even_numbers_set = set()"
   ]
  },
  {
   "cell_type": "code",
   "execution_count": null,
   "id": "0c8960a5-3350-4aad-8d30-fdea5bf66786",
   "metadata": {},
   "outputs": [],
   "source": [
    "1 % 2 == 0"
   ]
  },
  {
   "cell_type": "code",
   "execution_count": null,
   "id": "fcceb268-95c4-4855-aa34-2635d16ce3a7",
   "metadata": {},
   "outputs": [],
   "source": [
    "2 % 2 == 0"
   ]
  },
  {
   "cell_type": "code",
   "execution_count": null,
   "id": "48fafe6a-e466-41be-a5c5-04950f66ecf8",
   "metadata": {},
   "outputs": [],
   "source": [
    "3 % 2 == 0"
   ]
  },
  {
   "cell_type": "code",
   "execution_count": null,
   "id": "055ef8be-b1d9-4e3c-b1ed-201990d90e9c",
   "metadata": {},
   "outputs": [],
   "source": [
    "4 % 2 == 0"
   ]
  },
  {
   "cell_type": "code",
   "execution_count": null,
   "id": "bdc99eee-a2a7-45ea-95a9-230a0acdd14a",
   "metadata": {},
   "outputs": [],
   "source": [
    "5 % 2 == 0"
   ]
  },
  {
   "cell_type": "code",
   "execution_count": null,
   "id": "e12ac234-1645-4e04-b6b6-6d6d2fab2b7e",
   "metadata": {},
   "outputs": [],
   "source": [
    "even_number = (2, 4)"
   ]
  },
  {
   "cell_type": "code",
   "execution_count": null,
   "id": "fabe774b-eadd-4b74-b863-91508ba729be",
   "metadata": {},
   "outputs": [],
   "source": [
    "even_numbers_set = {2, 4}"
   ]
  },
  {
   "cell_type": "code",
   "execution_count": null,
   "id": "06a93377-73c2-411a-b101-107160ffeaa1",
   "metadata": {},
   "outputs": [],
   "source": [
    "original_set"
   ]
  },
  {
   "cell_type": "code",
   "execution_count": null,
   "id": "1a12806d-7022-4a44-ac31-a9e17287eb3f",
   "metadata": {},
   "outputs": [],
   "source": [
    "even_numbers_set"
   ]
  },
  {
   "cell_type": "code",
   "execution_count": null,
   "id": "c1da8d73-ecae-4215-a421-780a465af57c",
   "metadata": {},
   "outputs": [],
   "source": [
    "original_set = {1, 2, 3, 4, 5}"
   ]
  },
  {
   "cell_type": "code",
   "execution_count": null,
   "id": "f73f43df-36cf-4680-a552-929a6d317106",
   "metadata": {},
   "outputs": [],
   "source": [
    "multiplied_set = set()"
   ]
  },
  {
   "cell_type": "code",
   "execution_count": null,
   "id": "b1642e27-cd12-4bea-aa87-c887e17d2482",
   "metadata": {},
   "outputs": [],
   "source": [
    "multiplied_num = (1 *2, 2 * 2, 3 * 2, 4 * 2, 5 * 2)"
   ]
  },
  {
   "cell_type": "code",
   "execution_count": null,
   "id": "37921174-53fe-4813-9556-2e144a01e5ef",
   "metadata": {},
   "outputs": [],
   "source": [
    "multiplied_num"
   ]
  },
  {
   "cell_type": "code",
   "execution_count": null,
   "id": "bca1a81c-9f39-418e-aa61-98a07c538215",
   "metadata": {},
   "outputs": [],
   "source": [
    "multiplied_set = {2, 4, 6, 8, 10}"
   ]
  },
  {
   "cell_type": "code",
   "execution_count": null,
   "id": "edf71050-1722-421d-8782-49cebe602478",
   "metadata": {},
   "outputs": [],
   "source": [
    "original_set"
   ]
  },
  {
   "cell_type": "code",
   "execution_count": null,
   "id": "e42743d0-a427-45ab-ac1d-65813241971f",
   "metadata": {},
   "outputs": [],
   "source": [
    "multiplied_set"
   ]
  },
  {
   "cell_type": "code",
   "execution_count": null,
   "id": "08df335f-f6ba-4ab8-8699-2bff81e0c568",
   "metadata": {},
   "outputs": [],
   "source": [
    "num_random_numbers = 5"
   ]
  },
  {
   "cell_type": "code",
   "execution_count": null,
   "id": "a82e34d8-be68-4736-80dc-0ef3d5f67e27",
   "metadata": {},
   "outputs": [],
   "source": [
    "random_number_set = set()"
   ]
  },
  {
   "cell_type": "code",
   "execution_count": null,
   "id": "5bfe5c0c-903a-41e4-bbd5-03d253e203dd",
   "metadata": {},
   "outputs": [],
   "source": [
    "random_number_set = {64, 4, 42, 56, 29}"
   ]
  },
  {
   "cell_type": "code",
   "execution_count": null,
   "id": "14bf8b9c-2ca0-4276-a65e-b4664d0160b9",
   "metadata": {},
   "outputs": [],
   "source": [
    "random_number_set"
   ]
  },
  {
   "cell_type": "code",
   "execution_count": null,
   "id": "2ee3bbfe-c145-4dd6-a62f-f973651289aa",
   "metadata": {},
   "outputs": [],
   "source": [
    "my_set = set()"
   ]
  },
  {
   "cell_type": "code",
   "execution_count": null,
   "id": "0e981725-0736-4263-9cb1-83e9a576217e",
   "metadata": {},
   "outputs": [],
   "source": [
    "my_set"
   ]
  },
  {
   "cell_type": "code",
   "execution_count": null,
   "id": "3facb538-7cc1-4162-8154-785a00320649",
   "metadata": {},
   "outputs": [],
   "source": [
    "print(\"The set is empty.\")"
   ]
  },
  {
   "cell_type": "code",
   "execution_count": null,
   "id": "047327da-5bcb-461c-8912-e84229bcb017",
   "metadata": {},
   "outputs": [],
   "source": [
    "set1 = {1, 2, 3, 4, 5}"
   ]
  },
  {
   "cell_type": "code",
   "execution_count": null,
   "id": "f3498e24-5872-487b-97f7-3acdb7819b9b",
   "metadata": {},
   "outputs": [],
   "source": [
    "set2 = {6, 7, 8, 9, 10}"
   ]
  },
  {
   "cell_type": "code",
   "execution_count": null,
   "id": "d3036b9c-1820-4116-a1d5-b1e2860ddfdd",
   "metadata": {},
   "outputs": [],
   "source": [
    "frozen_set1 = frozenset(set1)"
   ]
  },
  {
   "cell_type": "code",
   "execution_count": null,
   "id": "2d7f681e-d411-4467-b9f7-5c7372c77537",
   "metadata": {},
   "outputs": [],
   "source": [
    "frozen_set2 = frozenset(set2)"
   ]
  },
  {
   "cell_type": "code",
   "execution_count": null,
   "id": "ec20f7d0-e92e-4f50-8cb1-ab95c486077e",
   "metadata": {},
   "outputs": [],
   "source": [
    "nested_set = {frozen_set1, frozen_set2}"
   ]
  },
  {
   "cell_type": "code",
   "execution_count": null,
   "id": "02f5077f-1edc-4bf4-a826-5f6165ebb095",
   "metadata": {},
   "outputs": [],
   "source": [
    "nested_set"
   ]
  },
  {
   "cell_type": "code",
   "execution_count": null,
   "id": "0d9bc268-2620-4d57-8e7f-7622b1d7c26d",
   "metadata": {},
   "outputs": [],
   "source": [
    "my_set = {1, 2, 3, 4, 5}"
   ]
  },
  {
   "cell_type": "code",
   "execution_count": null,
   "id": "baf13d7f-5a98-4ebc-ab37-b96da9bcbb88",
   "metadata": {},
   "outputs": [],
   "source": [
    "my_set"
   ]
  },
  {
   "cell_type": "code",
   "execution_count": null,
   "id": "a3b32f61-7b37-4adf-9cf4-251b2ed02e0f",
   "metadata": {},
   "outputs": [],
   "source": [
    "element_to_remove = 4"
   ]
  },
  {
   "cell_type": "code",
   "execution_count": null,
   "id": "f166507a-0ccb-482d-8768-28e0dc72831e",
   "metadata": {},
   "outputs": [],
   "source": [
    "my_set.discard(4)"
   ]
  },
  {
   "cell_type": "code",
   "execution_count": null,
   "id": "e877c3c9-8b5c-4603-a9e1-35e5c04d5581",
   "metadata": {},
   "outputs": [],
   "source": [
    "my_set"
   ]
  },
  {
   "cell_type": "code",
   "execution_count": null,
   "id": "47615d14-61df-4c22-b15b-ce0e43700547",
   "metadata": {},
   "outputs": [],
   "source": [
    "set1 = {1, 2, 3, 4, 5}"
   ]
  },
  {
   "cell_type": "code",
   "execution_count": null,
   "id": "b34ac8fe-08f9-40d6-8acd-3f8d3c65342d",
   "metadata": {},
   "outputs": [],
   "source": [
    "set2 = {4, 5, 6, 7, 8}"
   ]
  },
  {
   "cell_type": "code",
   "execution_count": null,
   "id": "9f493ace-6e36-4f57-9ccd-8f79a9e12946",
   "metadata": {},
   "outputs": [],
   "source": [
    "is_subset = set1.issubset(set2)"
   ]
  },
  {
   "cell_type": "code",
   "execution_count": null,
   "id": "a9e19d76-0d84-4884-bc06-1dccf36c4e00",
   "metadata": {},
   "outputs": [],
   "source": [
    "is_superset = set1.issuperset(set2)"
   ]
  },
  {
   "cell_type": "code",
   "execution_count": null,
   "id": "b1481101-eb89-473a-b97a-a0f10d37d7b0",
   "metadata": {},
   "outputs": [],
   "source": [
    "intersection = set1.intersection(set2)"
   ]
  },
  {
   "cell_type": "code",
   "execution_count": null,
   "id": "ddef80e7-68d8-4880-9bba-2bd358c60873",
   "metadata": {},
   "outputs": [],
   "source": [
    "union = set1.union(set2)"
   ]
  },
  {
   "cell_type": "code",
   "execution_count": null,
   "id": "2b635e81-9847-4d1c-b7e7-15740774ab18",
   "metadata": {},
   "outputs": [],
   "source": [
    "difference1 = set1.difference(set2)"
   ]
  },
  {
   "cell_type": "code",
   "execution_count": null,
   "id": "cc95f517-87af-4a96-b557-1ea6edb0360a",
   "metadata": {},
   "outputs": [],
   "source": [
    "difference2 = set2.difference(set1)"
   ]
  },
  {
   "cell_type": "code",
   "execution_count": null,
   "id": "64ab1584-5429-4b15-9f7a-72c3dddf7182",
   "metadata": {},
   "outputs": [],
   "source": [
    "set1"
   ]
  },
  {
   "cell_type": "code",
   "execution_count": null,
   "id": "35d85135-136f-402c-91a6-e0b31f030a99",
   "metadata": {},
   "outputs": [],
   "source": [
    "set2"
   ]
  },
  {
   "cell_type": "code",
   "execution_count": null,
   "id": "bcc4c4a9-fc24-4a01-a2ba-314d239c620e",
   "metadata": {},
   "outputs": [],
   "source": [
    "is_subset"
   ]
  },
  {
   "cell_type": "code",
   "execution_count": null,
   "id": "9ea5f484-2501-4319-960d-6cd305863165",
   "metadata": {},
   "outputs": [],
   "source": [
    "is_superset"
   ]
  },
  {
   "cell_type": "code",
   "execution_count": null,
   "id": "eb0ab540-5bd5-473d-ae92-73428ef35ae1",
   "metadata": {},
   "outputs": [],
   "source": [
    "intersection"
   ]
  },
  {
   "cell_type": "code",
   "execution_count": null,
   "id": "9851341d-b3f4-4806-b6c4-e29febdfab18",
   "metadata": {},
   "outputs": [],
   "source": [
    "union"
   ]
  },
  {
   "cell_type": "code",
   "execution_count": null,
   "id": "58332d2d-ffb5-4e46-935a-4fd13e7da910",
   "metadata": {},
   "outputs": [],
   "source": [
    "difference1"
   ]
  },
  {
   "cell_type": "code",
   "execution_count": null,
   "id": "b371c3b7-9efb-4e56-b2e7-73dee3a81082",
   "metadata": {},
   "outputs": [],
   "source": [
    "difference2"
   ]
  },
  {
   "cell_type": "code",
   "execution_count": null,
   "id": "105b50d9-76e6-4c69-bc57-2a197c74d465",
   "metadata": {},
   "outputs": [],
   "source": [
    "s = \"rashmi\""
   ]
  },
  {
   "cell_type": "code",
   "execution_count": null,
   "id": "881e320c-1999-4ef2-9b94-577f5046bc83",
   "metadata": {},
   "outputs": [],
   "source": [
    "s"
   ]
  },
  {
   "cell_type": "code",
   "execution_count": null,
   "id": "33efd3ec-3732-4cf5-b7d9-92f5f984e6dd",
   "metadata": {},
   "outputs": [],
   "source": [
    "my_list = list(s)"
   ]
  },
  {
   "cell_type": "code",
   "execution_count": null,
   "id": "5ff1ff1c-295a-4390-8d1f-26e3d0b2aa33",
   "metadata": {},
   "outputs": [],
   "source": [
    "my_list"
   ]
  },
  {
   "cell_type": "code",
   "execution_count": null,
   "id": "7117433b-1271-47c7-87a0-f782a60315fb",
   "metadata": {},
   "outputs": [],
   "source": [
    "char_set = set(my_list)"
   ]
  },
  {
   "cell_type": "code",
   "execution_count": null,
   "id": "ee748514-a349-476e-823f-4c5aa8d6794d",
   "metadata": {},
   "outputs": [],
   "source": [
    "string_set = {\"123\", \"456\", \"789\"}"
   ]
  },
  {
   "cell_type": "code",
   "execution_count": null,
   "id": "0a61de95-ca6c-47a2-b017-38273e9a42c6",
   "metadata": {},
   "outputs": [],
   "source": [
    "integer_set = {}"
   ]
  },
  {
   "cell_type": "code",
   "execution_count": null,
   "id": "cf0b5a21-be7e-4799-953b-a510d8f9298b",
   "metadata": {},
   "outputs": [],
   "source": [
    "int(\"123\")"
   ]
  },
  {
   "cell_type": "code",
   "execution_count": null,
   "id": "48a7c1ed-376c-4460-bc69-ab46c3a9a128",
   "metadata": {},
   "outputs": [],
   "source": [
    "int(\"456\")"
   ]
  },
  {
   "cell_type": "code",
   "execution_count": null,
   "id": "c5d3bddf-1b69-485e-96b4-ca7b46675548",
   "metadata": {},
   "outputs": [],
   "source": [
    "int(\"789\")"
   ]
  },
  {
   "cell_type": "code",
   "execution_count": null,
   "id": "99801996-53c9-49bf-9a84-f2bd1b5c969f",
   "metadata": {},
   "outputs": [],
   "source": [
    "integer_set = {123, 456, 789}"
   ]
  },
  {
   "cell_type": "code",
   "execution_count": null,
   "id": "8cd85c6b-6004-4e2b-87cc-fbb5c3a8ebaf",
   "metadata": {},
   "outputs": [],
   "source": [
    "integer_set"
   ]
  },
  {
   "cell_type": "code",
   "execution_count": null,
   "id": "33f957dc-6775-4d81-b9c7-eaa5927274a9",
   "metadata": {},
   "outputs": [],
   "source": [
    "integer_set = {1, 2, 3, 4, 5}"
   ]
  },
  {
   "cell_type": "code",
   "execution_count": null,
   "id": "c633837c-d2a4-43ce-b264-beec7d29765e",
   "metadata": {},
   "outputs": [],
   "source": [
    "string_set = {}"
   ]
  },
  {
   "cell_type": "code",
   "execution_count": null,
   "id": "60f1b750-35c1-47ff-81f6-e42375c93780",
   "metadata": {},
   "outputs": [],
   "source": [
    "num_str = str(1)"
   ]
  },
  {
   "cell_type": "code",
   "execution_count": null,
   "id": "5d0d984f-e6e1-4975-bbf3-d34cb2544976",
   "metadata": {},
   "outputs": [],
   "source": [
    "t = (1, 2, 3, 4, 5)"
   ]
  },
  {
   "cell_type": "code",
   "execution_count": null,
   "id": "458ff47a-e550-4c7e-ae51-309edd9c2b82",
   "metadata": {},
   "outputs": [],
   "source": [
    "t"
   ]
  },
  {
   "cell_type": "code",
   "execution_count": null,
   "id": "e4528363-b0ba-40b1-946d-76bbfa6086d3",
   "metadata": {},
   "outputs": [],
   "source": [
    "set(t)"
   ]
  },
  {
   "cell_type": "code",
   "execution_count": null,
   "id": "baeaef64-e80b-4397-a89b-fc3ade246d18",
   "metadata": {},
   "outputs": [],
   "source": [
    "s1 = {1, 2, 3, 4, 5}"
   ]
  },
  {
   "cell_type": "code",
   "execution_count": null,
   "id": "9d3a0e5b-4943-4b89-8465-69059d15ebbb",
   "metadata": {},
   "outputs": [],
   "source": [
    "s1"
   ]
  },
  {
   "cell_type": "code",
   "execution_count": null,
   "id": "3d1f9ca5-70ec-44c8-9e6a-e3b5f48e024c",
   "metadata": {},
   "outputs": [],
   "source": [
    "output_tuple = tuple(s1)"
   ]
  },
  {
   "cell_type": "code",
   "execution_count": null,
   "id": "11445dc7-61e9-4afd-a15e-977addac725d",
   "metadata": {},
   "outputs": [],
   "source": [
    "output_tuple"
   ]
  },
  {
   "cell_type": "code",
   "execution_count": null,
   "id": "bffeb5f8-48e6-4d0e-a4c4-c4a75e402c93",
   "metadata": {},
   "outputs": [],
   "source": [
    "my_set = {15, 7, 22, 13, 8}"
   ]
  },
  {
   "cell_type": "code",
   "execution_count": null,
   "id": "ac109ea6-9b44-4b12-8dba-b16c661c9eb7",
   "metadata": {},
   "outputs": [],
   "source": [
    "my_set"
   ]
  },
  {
   "cell_type": "code",
   "execution_count": null,
   "id": "39a647ae-7d86-444a-a725-86eedcd35c6a",
   "metadata": {},
   "outputs": [],
   "source": [
    "max_value = 22"
   ]
  },
  {
   "cell_type": "code",
   "execution_count": null,
   "id": "8e46c3bf-afe0-4894-9278-fe8c5df361b7",
   "metadata": {},
   "outputs": [],
   "source": [
    "max_value"
   ]
  },
  {
   "cell_type": "code",
   "execution_count": null,
   "id": "d963f83c-0436-4e1b-b05a-075d64876991",
   "metadata": {},
   "outputs": [],
   "source": [
    "my_set"
   ]
  },
  {
   "cell_type": "code",
   "execution_count": null,
   "id": "04e1c8c7-fba1-4bf5-bbf8-d432911f4610",
   "metadata": {},
   "outputs": [],
   "source": [
    "min_value = 7"
   ]
  },
  {
   "cell_type": "code",
   "execution_count": null,
   "id": "e6b29332-fe07-42a8-975b-86e6ad36aaf7",
   "metadata": {},
   "outputs": [],
   "source": [
    "min_value"
   ]
  },
  {
   "cell_type": "code",
   "execution_count": null,
   "id": "b771de4b-c4df-4f20-8893-0e7106e1f72b",
   "metadata": {},
   "outputs": [],
   "source": [
    "user_set = set()"
   ]
  },
  {
   "cell_type": "code",
   "execution_count": null,
   "id": "98615b11-e86c-4ad0-9146-278cc24d76bd",
   "metadata": {},
   "outputs": [],
   "source": [
    "user_input = input()"
   ]
  },
  {
   "cell_type": "code",
   "execution_count": null,
   "id": "c75d75fb-762f-45c5-85e9-c535553de44a",
   "metadata": {},
   "outputs": [],
   "source": [
    "user_input"
   ]
  },
  {
   "cell_type": "code",
   "execution_count": null,
   "id": "901cfbf9-433d-4436-89e8-33ab0b97461b",
   "metadata": {},
   "outputs": [],
   "source": [
    "user_set.add(user_input)"
   ]
  },
  {
   "cell_type": "code",
   "execution_count": null,
   "id": "c7c3eb32-1007-4cda-96d8-c0fac87945b9",
   "metadata": {},
   "outputs": [],
   "source": [
    "print(\"finalset:\", user_set)"
   ]
  },
  {
   "cell_type": "code",
   "execution_count": null,
   "id": "b9a2b0cc-ea0d-41e2-830c-698a390a58a3",
   "metadata": {},
   "outputs": [],
   "source": [
    "set1 =  {1, 2, 3, 4, 5}"
   ]
  },
  {
   "cell_type": "code",
   "execution_count": null,
   "id": "294f8add-724d-477f-ab49-cef327e05743",
   "metadata": {},
   "outputs": [],
   "source": [
    "set2 = {4, 5, 6, 7, 8}"
   ]
  },
  {
   "cell_type": "code",
   "execution_count": null,
   "id": "ddcf74c7-dc1d-4f2e-83b7-bb5919a22509",
   "metadata": {},
   "outputs": [],
   "source": [
    "intersection_result = set1.intersection(set2)"
   ]
  },
  {
   "cell_type": "code",
   "execution_count": null,
   "id": "e58ef04b-ec6a-48dc-9697-52d24d3ef509",
   "metadata": {},
   "outputs": [],
   "source": [
    "intersection_result"
   ]
  },
  {
   "cell_type": "code",
   "execution_count": null,
   "id": "9bb74313-852a-4193-af09-8876cd691d66",
   "metadata": {},
   "outputs": [],
   "source": [
    "print(\"The intersection of the two sets is not empty.\")"
   ]
  },
  {
   "cell_type": "code",
   "execution_count": null,
   "id": "c8480f24-d122-4632-abed-f8f1206ce3d8",
   "metadata": {},
   "outputs": [],
   "source": [
    "fibonacci_set = set()"
   ]
  },
  {
   "cell_type": "code",
   "execution_count": null,
   "id": "54172e8c-c52d-4395-9f46-e237817fba6d",
   "metadata": {},
   "outputs": [],
   "source": [
    "a, b = 0, 1"
   ]
  },
  {
   "cell_type": "code",
   "execution_count": null,
   "id": "6c1b5f42-7436-40ec-8684-f8c3cebc6a35",
   "metadata": {},
   "outputs": [],
   "source": [
    "a, b = b, a + b"
   ]
  },
  {
   "cell_type": "code",
   "execution_count": null,
   "id": "bb3e8111-5072-4656-b356-190a90e709f2",
   "metadata": {},
   "outputs": [],
   "source": [
    "a,b"
   ]
  },
  {
   "cell_type": "code",
   "execution_count": null,
   "id": "a53fd263-01c2-427a-8804-359b286c902d",
   "metadata": {},
   "outputs": [],
   "source": [
    "a, b = b, a + b"
   ]
  },
  {
   "cell_type": "code",
   "execution_count": null,
   "id": "99beaac6-0f83-4789-86c6-92881db58061",
   "metadata": {},
   "outputs": [],
   "source": [
    "a, b"
   ]
  },
  {
   "cell_type": "code",
   "execution_count": null,
   "id": "20fa3b61-e7b5-4b41-8c15-8531118fb177",
   "metadata": {},
   "outputs": [],
   "source": [
    "a, b = b, a + b"
   ]
  },
  {
   "cell_type": "code",
   "execution_count": null,
   "id": "faee0c7d-1a27-4aa3-ac8b-89bd641cdb7d",
   "metadata": {},
   "outputs": [],
   "source": [
    "a, b"
   ]
  },
  {
   "cell_type": "code",
   "execution_count": null,
   "id": "c2bb57d8-8ac3-470c-9b86-40b5574b119d",
   "metadata": {},
   "outputs": [],
   "source": [
    "fibonacci_numbers = (0, 1, 2, 3, 5)"
   ]
  },
  {
   "cell_type": "code",
   "execution_count": null,
   "id": "5dc941a0-2c4b-4022-8adb-33a8bf1c92cd",
   "metadata": {},
   "outputs": [],
   "source": [
    "fibonacci_numbers"
   ]
  },
  {
   "cell_type": "code",
   "execution_count": null,
   "id": "2e3947b7-9d28-4387-a336-d08f50cf70ff",
   "metadata": {},
   "outputs": [],
   "source": [
    "fibonacci_set = set(fibonacci_numbers)"
   ]
  },
  {
   "cell_type": "code",
   "execution_count": null,
   "id": "e686eaed-f5eb-49d4-96f9-5eb13461e009",
   "metadata": {},
   "outputs": [],
   "source": [
    "fibonacci_set"
   ]
  },
  {
   "cell_type": "code",
   "execution_count": null,
   "id": "4dc7ad51-a4a7-4de3-90cb-652ab811c5b3",
   "metadata": {},
   "outputs": [],
   "source": [
    "print(\"Set of the first 5 fibonacci numbers:\", fibonacci_set)"
   ]
  },
  {
   "cell_type": "code",
   "execution_count": null,
   "id": "cfe0f5f1-6e77-4eaa-9f27-5b9733b5e091",
   "metadata": {},
   "outputs": [],
   "source": [
    "original_list = [2, 4, 6, 8, 4, 10, 6, 12, 14, 8]"
   ]
  },
  {
   "cell_type": "code",
   "execution_count": null,
   "id": "d0712ae4-121c-4b13-b365-3f5965d492c3",
   "metadata": {},
   "outputs": [],
   "source": [
    "unique_set = set(original_list)"
   ]
  },
  {
   "cell_type": "code",
   "execution_count": null,
   "id": "2c176a20-1b09-4a23-ab70-520ee1c96dca",
   "metadata": {},
   "outputs": [],
   "source": [
    "unique_set"
   ]
  },
  {
   "cell_type": "code",
   "execution_count": null,
   "id": "5ae0dc8f-fad8-43d7-8452-1a24d4ef6bb1",
   "metadata": {},
   "outputs": [],
   "source": [
    "unique_list = list(unique_set)"
   ]
  },
  {
   "cell_type": "code",
   "execution_count": null,
   "id": "8b5a8940-f78b-46b7-868a-760c23f196d9",
   "metadata": {},
   "outputs": [],
   "source": [
    "unique_list"
   ]
  },
  {
   "cell_type": "code",
   "execution_count": null,
   "id": "422304d7-2357-47bf-b21a-79a61354e81f",
   "metadata": {},
   "outputs": [],
   "source": [
    "print(\"Original list:\", original_list)"
   ]
  },
  {
   "cell_type": "code",
   "execution_count": null,
   "id": "c363195d-f330-42e3-95be-b6009eba0584",
   "metadata": {},
   "outputs": [],
   "source": [
    "print(\"List with duplicates removed:\", unique_list)"
   ]
  },
  {
   "cell_type": "code",
   "execution_count": null,
   "id": "142a2d9e-a4a8-459b-9437-a342d46a5a60",
   "metadata": {},
   "outputs": [],
   "source": [
    "set1 = {1, 2, 3, 2, 1}"
   ]
  },
  {
   "cell_type": "code",
   "execution_count": null,
   "id": "a348d47e-6ac3-45dc-bbe3-38eeebcb7226",
   "metadata": {},
   "outputs": [],
   "source": [
    "set2 = {3, 1, 2}"
   ]
  },
  {
   "cell_type": "code",
   "execution_count": null,
   "id": "bc38067e-539c-44dc-be92-2a74092f8073",
   "metadata": {},
   "outputs": [],
   "source": [
    "have_same_elements = {1, 2, 3}"
   ]
  },
  {
   "cell_type": "code",
   "execution_count": null,
   "id": "59a833c6-25fa-477d-ad93-dc35475e9958",
   "metadata": {},
   "outputs": [],
   "source": [
    "print(\"The set have the same elemnts\")"
   ]
  },
  {
   "cell_type": "code",
   "execution_count": null,
   "id": "32a41923-2a29-4544-b6f7-4c78c5a8787a",
   "metadata": {},
   "outputs": [],
   "source": [
    "powers_of_2 = set()"
   ]
  },
  {
   "cell_type": "code",
   "execution_count": null,
   "id": "a97c7ab1-8f73-4ba9-97a8-2a65f406ec6d",
   "metadata": {},
   "outputs": [],
   "source": [
    "powers_of_2"
   ]
  },
  {
   "cell_type": "code",
   "execution_count": null,
   "id": "2b46fc1a-df55-468b-bccd-08979810ec35",
   "metadata": {},
   "outputs": [],
   "source": [
    "n = 5"
   ]
  },
  {
   "cell_type": "code",
   "execution_count": null,
   "id": "ba1b7d28-d2f0-47de-bc27-6a9f66ea0bff",
   "metadata": {},
   "outputs": [],
   "source": [
    "powers = (2 ** 0, 2 ** 1, 2 ** 2, 2 ** 3, 2 ** 4)"
   ]
  },
  {
   "cell_type": "code",
   "execution_count": null,
   "id": "e2312f7d-1b3b-48a1-8000-ecb296f42ebe",
   "metadata": {},
   "outputs": [],
   "source": [
    "powers"
   ]
  },
  {
   "cell_type": "code",
   "execution_count": 4,
   "id": "13ae5cd9-ca75-4557-881f-51bd1062efa5",
   "metadata": {},
   "outputs": [],
   "source": [
    "powers_set = {1, 2, 4, 8, 16}"
   ]
  },
  {
   "cell_type": "code",
   "execution_count": 5,
   "id": "24668b88-e837-46cf-9b5f-576bddb2a9e8",
   "metadata": {},
   "outputs": [
    {
     "data": {
      "text/plain": [
       "{1, 2, 4, 8, 16}"
      ]
     },
     "execution_count": 5,
     "metadata": {},
     "output_type": "execute_result"
    }
   ],
   "source": [
    "powers_set"
   ]
  },
  {
   "cell_type": "code",
   "execution_count": 6,
   "id": "20d1ad90-3e9a-43ec-a3b8-264da5edbd75",
   "metadata": {},
   "outputs": [],
   "source": [
    "my_set ={3, 7, 9, 12, 15}"
   ]
  },
  {
   "cell_type": "code",
   "execution_count": 7,
   "id": "a78d6d48-d4fd-49bb-867c-fa80d4e6be21",
   "metadata": {},
   "outputs": [],
   "source": [
    "my_list = [7, 12, 5, 9]"
   ]
  },
  {
   "cell_type": "code",
   "execution_count": null,
   "id": "43d364d1-cb3f-45c4-9097-139c1bac59a5",
   "metadata": {},
   "outputs": [],
   "source": [
    "list_to_set = set(my_list)"
   ]
  },
  {
   "cell_type": "code",
   "execution_count": null,
   "id": "f8384641-e0b1-4006-ae22-bc903dba7b42",
   "metadata": {},
   "outputs": [],
   "source": [
    "list_to_set"
   ]
  },
  {
   "cell_type": "code",
   "execution_count": null,
   "id": "cb9711f5-2ccc-4b48-9103-8f54e8c3e3eb",
   "metadata": {},
   "outputs": [],
   "source": [
    "common_element = []"
   ]
  },
  {
   "cell_type": "code",
   "execution_count": null,
   "id": "011b9fc0-40db-4984-9b68-eddbce0c03e5",
   "metadata": {},
   "outputs": [],
   "source": [
    "common_element.append(element)"
   ]
  },
  {
   "cell_type": "code",
   "execution_count": null,
   "id": "be8d3756-8d0e-4dda-9fcb-038a37ad9928",
   "metadata": {},
   "outputs": [],
   "source": [
    "common_element"
   ]
  },
  {
   "cell_type": "code",
   "execution_count": null,
   "id": "6606fa6a-11e1-4ca4-9d49-16b31d02989d",
   "metadata": {},
   "outputs": [],
   "source": [
    "print(\"Common elements:\", common_elements)"
   ]
  },
  {
   "cell_type": "code",
   "execution_count": null,
   "id": "39fa504a-b10f-4cce-994c-41b495b84186",
   "metadata": {},
   "outputs": [],
   "source": [
    "triangular_numbers = set()"
   ]
  },
  {
   "cell_type": "code",
   "execution_count": null,
   "id": "59ef2273-3152-4cfa-981c-166de28796cd",
   "metadata": {},
   "outputs": [],
   "source": [
    "triangular_number = i * (i + 1) //2"
   ]
  },
  {
   "cell_type": "code",
   "execution_count": null,
   "id": "9387d53e-e727-4185-afb7-d45c3d8a57a5",
   "metadata": {},
   "outputs": [],
   "source": [
    "1 * (1 + 1)//2"
   ]
  },
  {
   "cell_type": "code",
   "execution_count": null,
   "id": "12d5441f-c98c-47f1-b7ba-57557088145b",
   "metadata": {},
   "outputs": [],
   "source": [
    "2 * (2 + 1)//2"
   ]
  },
  {
   "cell_type": "code",
   "execution_count": null,
   "id": "ae500a87-b26b-44c4-addf-95504fec927c",
   "metadata": {},
   "outputs": [],
   "source": [
    "3 * (3 + 1)//2"
   ]
  },
  {
   "cell_type": "code",
   "execution_count": null,
   "id": "9207c7f6-8232-4f04-8c29-a6942529cc3f",
   "metadata": {},
   "outputs": [],
   "source": [
    "4 * (4 + 1)//2"
   ]
  },
  {
   "cell_type": "code",
   "execution_count": null,
   "id": "210f3933-f0df-4f16-bc5c-ad4bd77a857f",
   "metadata": {},
   "outputs": [],
   "source": [
    "5 * (5 + 1)//2"
   ]
  },
  {
   "cell_type": "code",
   "execution_count": null,
   "id": "9146e81e-d718-49c6-ba8d-57d36d08533c",
   "metadata": {},
   "outputs": [],
   "source": [
    "6 * (6 + 1)//2"
   ]
  },
  {
   "cell_type": "code",
   "execution_count": null,
   "id": "7da6e397-5627-4428-bbe3-47c1c9afd0de",
   "metadata": {},
   "outputs": [],
   "source": [
    "7 * (7 + 1)//2"
   ]
  },
  {
   "cell_type": "code",
   "execution_count": null,
   "id": "56d9d2d2-3a94-4408-ae49-26fbe8fba39f",
   "metadata": {},
   "outputs": [],
   "source": [
    "8 * (8 + 1)//2"
   ]
  },
  {
   "cell_type": "code",
   "execution_count": null,
   "id": "9f125abc-9107-4ff4-a52e-ad7b0c094a5e",
   "metadata": {},
   "outputs": [],
   "source": [
    "9 * (9 + 1)//2"
   ]
  },
  {
   "cell_type": "code",
   "execution_count": null,
   "id": "1f6d71be-ad49-4f52-8cc1-2649757705e5",
   "metadata": {},
   "outputs": [],
   "source": [
    "10 * (10 + 1)//2"
   ]
  },
  {
   "cell_type": "code",
   "execution_count": null,
   "id": "03aa3d9c-7669-440c-824e-eda8ae22e4f6",
   "metadata": {},
   "outputs": [],
   "source": [
    "set1 = {1, 2, 3, 4, 5}"
   ]
  },
  {
   "cell_type": "code",
   "execution_count": null,
   "id": "82aeafb3-e750-4acf-8911-fb0d1152f1ee",
   "metadata": {},
   "outputs": [],
   "source": [
    "set2 = {3, 4}"
   ]
  },
  {
   "cell_type": "code",
   "execution_count": null,
   "id": "22adf722-fdd4-4f16-af35-86f4d915e47e",
   "metadata": {},
   "outputs": [],
   "source": [
    "is_subset = set2.issubset(set1)"
   ]
  },
  {
   "cell_type": "code",
   "execution_count": null,
   "id": "7ee68440-8755-4468-a1d9-6f48bba73cb7",
   "metadata": {},
   "outputs": [],
   "source": [
    "is_subset"
   ]
  },
  {
   "cell_type": "code",
   "execution_count": null,
   "id": "6e44836f-3db0-43be-a70d-7f17801f9b27",
   "metadata": {},
   "outputs": [],
   "source": [
    "print(\"Set2 is a subset of set1\")"
   ]
  },
  {
   "cell_type": "code",
   "execution_count": null,
   "id": "4bd54e9b-b654-4ce7-9de9-90b1c50fc309",
   "metadata": {},
   "outputs": [],
   "source": [
    "set1 = {1, 2, 3}"
   ]
  },
  {
   "cell_type": "code",
   "execution_count": null,
   "id": "24703da0-6f82-498a-8e55-ec544c648590",
   "metadata": {},
   "outputs": [],
   "source": [
    "set2 = {3, 4, 5}"
   ]
  },
  {
   "cell_type": "code",
   "execution_count": null,
   "id": "71cbad56-7aa3-4578-8f01-80f51cf76dd2",
   "metadata": {},
   "outputs": [],
   "source": [
    "set3 = {5, 6, 7}"
   ]
  },
  {
   "cell_type": "code",
   "execution_count": null,
   "id": "af9af94f-b4df-46b7-b143-8c5abbe0bd7e",
   "metadata": {},
   "outputs": [],
   "source": [
    "merged_set = set1.union(set2, set3)"
   ]
  },
  {
   "cell_type": "code",
   "execution_count": null,
   "id": "8ef5b1a1-dabc-447d-bdfd-b57b711429c6",
   "metadata": {},
   "outputs": [],
   "source": [
    "merged_set = set1 | set2 | set3"
   ]
  },
  {
   "cell_type": "code",
   "execution_count": null,
   "id": "13b229f2-c1f2-442a-a8ee-39fbce300be7",
   "metadata": {},
   "outputs": [],
   "source": [
    "print(\"merged set:\", merged_set)"
   ]
  },
  {
   "cell_type": "code",
   "execution_count": null,
   "id": "27a79f79-4fc1-4037-a8ef-874f670054df",
   "metadata": {},
   "outputs": [],
   "source": []
  }
 ],
 "metadata": {
  "kernelspec": {
   "display_name": "Python 3 (ipykernel)",
   "language": "python",
   "name": "python3"
  },
  "language_info": {
   "codemirror_mode": {
    "name": "ipython",
    "version": 3
   },
   "file_extension": ".py",
   "mimetype": "text/x-python",
   "name": "python",
   "nbconvert_exporter": "python",
   "pygments_lexer": "ipython3",
   "version": "3.10.8"
  }
 },
 "nbformat": 4,
 "nbformat_minor": 5
}
