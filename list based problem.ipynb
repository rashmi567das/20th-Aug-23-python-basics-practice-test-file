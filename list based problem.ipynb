{
 "cells": [
  {
   "cell_type": "code",
   "execution_count": 1,
   "id": "dd90010a-e7ec-459d-8014-8e3f54b2743d",
   "metadata": {},
   "outputs": [],
   "source": [
    "l = [1,2,3,4,5,6,7,8,9,10]"
   ]
  },
  {
   "cell_type": "code",
   "execution_count": 2,
   "id": "96577932-1b64-40fe-b589-d7bcfddc69c8",
   "metadata": {},
   "outputs": [
    {
     "data": {
      "text/plain": [
       "[1, 2, 3, 4, 5, 6, 7, 8, 9, 10]"
      ]
     },
     "execution_count": 2,
     "metadata": {},
     "output_type": "execute_result"
    }
   ],
   "source": [
    "l"
   ]
  },
  {
   "cell_type": "code",
   "execution_count": 1,
   "id": "64634ed5-7f0b-49c4-8ea2-b4065d4d30c5",
   "metadata": {},
   "outputs": [],
   "source": [
    "my_list = [10, 20, 30, 40, 50]"
   ]
  },
  {
   "cell_type": "code",
   "execution_count": 5,
   "id": "fb213545-9f76-4dd7-bc42-b0b0fc87342d",
   "metadata": {},
   "outputs": [],
   "source": [
    "custom_len = len"
   ]
  },
  {
   "cell_type": "code",
   "execution_count": 6,
   "id": "f2b86016-0f74-4ffb-bf50-7d5f262a88b1",
   "metadata": {},
   "outputs": [],
   "source": [
    "length = custom_len(my_list)"
   ]
  },
  {
   "cell_type": "code",
   "execution_count": 7,
   "id": "4f109511-3170-4f5c-8c60-79e9dfa31c37",
   "metadata": {},
   "outputs": [
    {
     "data": {
      "text/plain": [
       "5"
      ]
     },
     "execution_count": 7,
     "metadata": {},
     "output_type": "execute_result"
    }
   ],
   "source": [
    "length"
   ]
  },
  {
   "cell_type": "code",
   "execution_count": 3,
   "id": "fb6f38a9-9fb3-43c9-9d3f-a8964a64dc83",
   "metadata": {},
   "outputs": [],
   "source": [
    "l2 = [10,20,30,40]"
   ]
  },
  {
   "cell_type": "code",
   "execution_count": 4,
   "id": "0c990375-d1f2-4481-bfd8-afbcfabd4e25",
   "metadata": {},
   "outputs": [
    {
     "data": {
      "text/plain": [
       "[10, 20, 30, 40]"
      ]
     },
     "execution_count": 4,
     "metadata": {},
     "output_type": "execute_result"
    }
   ],
   "source": [
    "l2"
   ]
  },
  {
   "cell_type": "code",
   "execution_count": 5,
   "id": "4cbb92dd-12c5-4c5f-b272-774698d22a28",
   "metadata": {},
   "outputs": [],
   "source": [
    "l2.append(234)"
   ]
  },
  {
   "cell_type": "code",
   "execution_count": 6,
   "id": "a283619d-d843-49c6-98e5-a6604439da40",
   "metadata": {},
   "outputs": [
    {
     "data": {
      "text/plain": [
       "[10, 20, 30, 40, 234]"
      ]
     },
     "execution_count": 6,
     "metadata": {},
     "output_type": "execute_result"
    }
   ],
   "source": [
    "l2"
   ]
  },
  {
   "cell_type": "code",
   "execution_count": 7,
   "id": "5ca6e8e1-5801-41e6-be31-0b7a27b807b3",
   "metadata": {},
   "outputs": [
    {
     "data": {
      "text/plain": [
       "[10, 20, 30, 40, 234]"
      ]
     },
     "execution_count": 7,
     "metadata": {},
     "output_type": "execute_result"
    }
   ],
   "source": [
    "l2"
   ]
  },
  {
   "cell_type": "code",
   "execution_count": 8,
   "id": "88c1f5cf-3c05-48ea-8062-4743dcd9339d",
   "metadata": {},
   "outputs": [],
   "source": [
    "l2.insert(3,\"rashmi\")"
   ]
  },
  {
   "cell_type": "code",
   "execution_count": 9,
   "id": "6cb8436d-0b45-4b76-a860-16b1a606adc5",
   "metadata": {},
   "outputs": [
    {
     "data": {
      "text/plain": [
       "[10, 20, 30, 'rashmi', 40, 234]"
      ]
     },
     "execution_count": 9,
     "metadata": {},
     "output_type": "execute_result"
    }
   ],
   "source": [
    "l2"
   ]
  },
  {
   "cell_type": "code",
   "execution_count": 10,
   "id": "d53ed16b-714d-48f8-80b0-98a9e143caa4",
   "metadata": {},
   "outputs": [],
   "source": [
    "l2.remove(30)"
   ]
  },
  {
   "cell_type": "code",
   "execution_count": 11,
   "id": "04f56286-8c5d-48b1-a1e2-22a068b77ea6",
   "metadata": {},
   "outputs": [
    {
     "data": {
      "text/plain": [
       "[10, 20, 'rashmi', 40, 234]"
      ]
     },
     "execution_count": 11,
     "metadata": {},
     "output_type": "execute_result"
    }
   ],
   "source": [
    "l2"
   ]
  },
  {
   "cell_type": "code",
   "execution_count": 12,
   "id": "6959289b-2bc0-4cf0-834b-d43b8728af1c",
   "metadata": {},
   "outputs": [],
   "source": [
    "l3 = [1,2,3,4,\"rani\",[1,3,4,6],56,78,\"rashmi\"]"
   ]
  },
  {
   "cell_type": "code",
   "execution_count": 13,
   "id": "361dfc85-6e69-493d-9aa5-b184141ad523",
   "metadata": {},
   "outputs": [
    {
     "data": {
      "text/plain": [
       "'rani'"
      ]
     },
     "execution_count": 13,
     "metadata": {},
     "output_type": "execute_result"
    }
   ],
   "source": [
    "l3.pop(4)"
   ]
  },
  {
   "cell_type": "code",
   "execution_count": 14,
   "id": "d1c0ad32-8443-4d7c-832b-24eb3215869b",
   "metadata": {},
   "outputs": [
    {
     "data": {
      "text/plain": [
       "[1, 2, 3, 4, [1, 3, 4, 6], 56, 78, 'rashmi']"
      ]
     },
     "execution_count": 14,
     "metadata": {},
     "output_type": "execute_result"
    }
   ],
   "source": [
    "l3"
   ]
  },
  {
   "cell_type": "code",
   "execution_count": 8,
   "id": "98985461-5e49-4e16-bf49-031b103b1d59",
   "metadata": {},
   "outputs": [],
   "source": [
    "my_list = [10, 20, 30, 40, 50]"
   ]
  },
  {
   "cell_type": "code",
   "execution_count": 9,
   "id": "918b2ba5-c1f8-4bfe-812f-664fc99892d0",
   "metadata": {},
   "outputs": [],
   "source": [
    "element_to_check = 30"
   ]
  },
  {
   "cell_type": "code",
   "execution_count": 10,
   "id": "d28dc64a-cd6f-49a9-9465-8034fe1e58c2",
   "metadata": {},
   "outputs": [
    {
     "name": "stdout",
     "output_type": "stream",
     "text": [
      "30 exists in the list\n"
     ]
    }
   ],
   "source": [
    "print(\"30 exists in the list\")"
   ]
  },
  {
   "cell_type": "code",
   "execution_count": 11,
   "id": "d0d470ce-44cd-4036-a07f-ec2982c6958d",
   "metadata": {},
   "outputs": [],
   "source": [
    "my_list = [10, 20, 30, 40, 50, 30]"
   ]
  },
  {
   "cell_type": "code",
   "execution_count": 12,
   "id": "12706d39-ac37-4da9-ac61-ec7f597591d4",
   "metadata": {},
   "outputs": [],
   "source": [
    "element_to_find = 30"
   ]
  },
  {
   "cell_type": "code",
   "execution_count": 13,
   "id": "be4ffcea-f89e-4373-a091-a984c6f4881c",
   "metadata": {},
   "outputs": [],
   "source": [
    "index = my_list.index(30)"
   ]
  },
  {
   "cell_type": "code",
   "execution_count": 14,
   "id": "64c9f8b3-326f-401f-a798-f51f81a08ebd",
   "metadata": {},
   "outputs": [
    {
     "data": {
      "text/plain": [
       "2"
      ]
     },
     "execution_count": 14,
     "metadata": {},
     "output_type": "execute_result"
    }
   ],
   "source": [
    "index"
   ]
  },
  {
   "cell_type": "code",
   "execution_count": 15,
   "id": "620c2bd9-024d-4d10-bca4-92dbab061795",
   "metadata": {},
   "outputs": [
    {
     "name": "stdout",
     "output_type": "stream",
     "text": [
      "The index of 30 is 2\n"
     ]
    }
   ],
   "source": [
    "print(\"The index of 30 is 2\")"
   ]
  },
  {
   "cell_type": "code",
   "execution_count": 16,
   "id": "c46afee4-8139-411d-9f63-762de4be6955",
   "metadata": {},
   "outputs": [],
   "source": [
    "l1 = [10, 20, 30, 40, 50, 30, 30]"
   ]
  },
  {
   "cell_type": "code",
   "execution_count": 17,
   "id": "0f8a0b9c-70ca-435e-977b-f95fbe1757cf",
   "metadata": {},
   "outputs": [],
   "source": [
    "element_to_count = 30"
   ]
  },
  {
   "cell_type": "code",
   "execution_count": 18,
   "id": "999a3886-cc81-483d-9f98-3942a957466c",
   "metadata": {},
   "outputs": [],
   "source": [
    "count = l1.count(element_to_count)"
   ]
  },
  {
   "cell_type": "code",
   "execution_count": 19,
   "id": "ca954202-61ab-46aa-b7ac-3118aca19ea3",
   "metadata": {},
   "outputs": [
    {
     "data": {
      "text/plain": [
       "3"
      ]
     },
     "execution_count": 19,
     "metadata": {},
     "output_type": "execute_result"
    }
   ],
   "source": [
    "count"
   ]
  },
  {
   "cell_type": "code",
   "execution_count": 20,
   "id": "e6fb3deb-d150-440a-ae94-7867d0956a34",
   "metadata": {},
   "outputs": [
    {
     "name": "stdout",
     "output_type": "stream",
     "text": [
      "The element 30 occurs 3 times in the list\n"
     ]
    }
   ],
   "source": [
    "print(\"The element 30 occurs 3 times in the list\")"
   ]
  },
  {
   "cell_type": "code",
   "execution_count": 21,
   "id": "76b0ddf8-9898-439b-b697-9ea0f225dc91",
   "metadata": {},
   "outputs": [],
   "source": [
    "l3 = [1, 2, 3, 4, [1, 3, 4, 6], 56, 78, 'rashmi']"
   ]
  },
  {
   "cell_type": "code",
   "execution_count": 17,
   "id": "be0e6aca-d89b-4838-bccd-b3917e62273d",
   "metadata": {},
   "outputs": [],
   "source": [
    "l3.reverse()"
   ]
  },
  {
   "cell_type": "code",
   "execution_count": 18,
   "id": "0581a5b4-f7d7-4046-9012-359ba8729dca",
   "metadata": {},
   "outputs": [
    {
     "data": {
      "text/plain": [
       "['rashmi', 78, 56, [1, 3, 4, 6], 4, 3, 2, 1]"
      ]
     },
     "execution_count": 18,
     "metadata": {},
     "output_type": "execute_result"
    }
   ],
   "source": [
    "l3"
   ]
  },
  {
   "cell_type": "code",
   "execution_count": 19,
   "id": "22fdedff-3c6e-433a-9cd1-4515acd55c90",
   "metadata": {},
   "outputs": [],
   "source": [
    "l4 = [4,5,3,4,8,2,9,1]"
   ]
  },
  {
   "cell_type": "code",
   "execution_count": 20,
   "id": "58af8508-1dd2-4448-81b4-66a37c8f249a",
   "metadata": {},
   "outputs": [
    {
     "data": {
      "text/plain": [
       "[4, 5, 3, 4, 8, 2, 9, 1]"
      ]
     },
     "execution_count": 20,
     "metadata": {},
     "output_type": "execute_result"
    }
   ],
   "source": [
    "l4"
   ]
  },
  {
   "cell_type": "code",
   "execution_count": 21,
   "id": "85234058-a0b8-4c9a-868c-a10389b1a2c8",
   "metadata": {},
   "outputs": [],
   "source": [
    "l4.sort()"
   ]
  },
  {
   "cell_type": "code",
   "execution_count": 22,
   "id": "2d8bd2df-8519-41d5-bac5-9d136c32cc75",
   "metadata": {},
   "outputs": [
    {
     "data": {
      "text/plain": [
       "[1, 2, 3, 4, 4, 5, 8, 9]"
      ]
     },
     "execution_count": 22,
     "metadata": {},
     "output_type": "execute_result"
    }
   ],
   "source": [
    "l4"
   ]
  },
  {
   "cell_type": "code",
   "execution_count": 24,
   "id": "222e13ec-c8f2-4064-9b6d-7eadba245fb3",
   "metadata": {},
   "outputs": [],
   "source": [
    "my_list = [50, 10, 30, 40, 20]"
   ]
  },
  {
   "cell_type": "code",
   "execution_count": 25,
   "id": "ce510e52-486d-4ff5-ada5-eca74ccdbcaa",
   "metadata": {},
   "outputs": [],
   "source": [
    "my_list.sort(reverse=True)"
   ]
  },
  {
   "cell_type": "code",
   "execution_count": 26,
   "id": "0ee40234-5fd9-41a3-9766-2fdd250a3db1",
   "metadata": {},
   "outputs": [
    {
     "data": {
      "text/plain": [
       "[50, 40, 30, 20, 10]"
      ]
     },
     "execution_count": 26,
     "metadata": {},
     "output_type": "execute_result"
    }
   ],
   "source": [
    "my_list"
   ]
  },
  {
   "cell_type": "code",
   "execution_count": 27,
   "id": "acc40aff-25c8-4596-81a8-7f0e7c446fac",
   "metadata": {},
   "outputs": [
    {
     "name": "stdout",
     "output_type": "stream",
     "text": [
      "Sorted list in descending order: [50, 40, 30, 20, 10]\n"
     ]
    }
   ],
   "source": [
    "print(\"Sorted list in descending order:\", my_list)"
   ]
  },
  {
   "cell_type": "code",
   "execution_count": 28,
   "id": "17b6895e-ef11-4f24-8238-db5968e86740",
   "metadata": {},
   "outputs": [],
   "source": [
    "l5 = [2,4,6,8,10,12,14,16,18,20]"
   ]
  },
  {
   "cell_type": "code",
   "execution_count": 29,
   "id": "9f52e8de-e890-4903-9765-5066255be134",
   "metadata": {},
   "outputs": [
    {
     "data": {
      "text/plain": [
       "[2, 4, 6, 8, 10, 12, 14, 16, 18, 20]"
      ]
     },
     "execution_count": 29,
     "metadata": {},
     "output_type": "execute_result"
    }
   ],
   "source": [
    "l5"
   ]
  },
  {
   "cell_type": "code",
   "execution_count": 30,
   "id": "057806c3-ddbb-4550-86a0-c7983c5eb62f",
   "metadata": {},
   "outputs": [],
   "source": [
    "l6 = [1,3,5,7,9,11,13,15,17,19]"
   ]
  },
  {
   "cell_type": "code",
   "execution_count": 31,
   "id": "f13d2271-671d-4a7f-bddf-4b05efc411f3",
   "metadata": {},
   "outputs": [
    {
     "data": {
      "text/plain": [
       "[1, 3, 5, 7, 9, 11, 13, 15, 17, 19]"
      ]
     },
     "execution_count": 31,
     "metadata": {},
     "output_type": "execute_result"
    }
   ],
   "source": [
    "l6"
   ]
  },
  {
   "cell_type": "code",
   "execution_count": 29,
   "id": "93f5a87c-be79-43ad-9dda-1a8de5651187",
   "metadata": {},
   "outputs": [],
   "source": [
    "l7 = [1,4,6,8,3]"
   ]
  },
  {
   "cell_type": "code",
   "execution_count": 30,
   "id": "ce2f59ea-73c5-4663-aa07-32e6b8dde96e",
   "metadata": {},
   "outputs": [],
   "source": [
    "total_sum = sum(l7)"
   ]
  },
  {
   "cell_type": "code",
   "execution_count": 31,
   "id": "66516335-dd5d-41ac-9172-5531d82087c2",
   "metadata": {},
   "outputs": [
    {
     "data": {
      "text/plain": [
       "22"
      ]
     },
     "execution_count": 31,
     "metadata": {},
     "output_type": "execute_result"
    }
   ],
   "source": [
    "total_sum"
   ]
  },
  {
   "cell_type": "code",
   "execution_count": 32,
   "id": "64ca7f28-5bed-4820-b6a4-8e6dcbf8a942",
   "metadata": {},
   "outputs": [
    {
     "name": "stdout",
     "output_type": "stream",
     "text": [
      "Sum of elements: 22\n"
     ]
    }
   ],
   "source": [
    "print(\"Sum of elements:\", total_sum)"
   ]
  },
  {
   "cell_type": "code",
   "execution_count": 38,
   "id": "250082e5-7f6a-4eb4-b1cd-0721332409a8",
   "metadata": {},
   "outputs": [],
   "source": [
    "l8 = [10,20,30,40,50]"
   ]
  },
  {
   "cell_type": "code",
   "execution_count": 39,
   "id": "19413515-f84f-4fe8-acc6-f7ea4a1191dc",
   "metadata": {},
   "outputs": [],
   "source": [
    "max_value = max(l8)"
   ]
  },
  {
   "cell_type": "code",
   "execution_count": 40,
   "id": "e4566ecd-15bb-41d5-9bff-be80e2910c08",
   "metadata": {},
   "outputs": [
    {
     "data": {
      "text/plain": [
       "50"
      ]
     },
     "execution_count": 40,
     "metadata": {},
     "output_type": "execute_result"
    }
   ],
   "source": [
    "max_value"
   ]
  },
  {
   "cell_type": "code",
   "execution_count": 33,
   "id": "b9b03a16-a0d7-494a-8376-e5ddef8044f2",
   "metadata": {},
   "outputs": [],
   "source": [
    "my_list = [10, 20, 30, 40, 50]"
   ]
  },
  {
   "cell_type": "code",
   "execution_count": 34,
   "id": "e7eb8f09-aac6-4bfd-86ad-a3febbc81a9b",
   "metadata": {},
   "outputs": [],
   "source": [
    "min_value = min(my_list)"
   ]
  },
  {
   "cell_type": "code",
   "execution_count": 35,
   "id": "ec7893d1-ecce-48e4-82d4-2e57b867e35f",
   "metadata": {},
   "outputs": [
    {
     "data": {
      "text/plain": [
       "10"
      ]
     },
     "execution_count": 35,
     "metadata": {},
     "output_type": "execute_result"
    }
   ],
   "source": [
    "min_value"
   ]
  },
  {
   "cell_type": "code",
   "execution_count": 37,
   "id": "5532595f-eaaf-4c0f-919d-df5fe5dbd923",
   "metadata": {},
   "outputs": [],
   "source": [
    "list_of_squares = [1 **2, 2 ** 2, 3 ** 2, 4 ** 2, 5 ** 2, 6 **2, 7 ** 2, 8 ** 2, 9 ** 2, 10 ** 2]"
   ]
  },
  {
   "cell_type": "code",
   "execution_count": 38,
   "id": "aca40967-0ce5-44a9-abcc-7855fbad19c9",
   "metadata": {},
   "outputs": [
    {
     "data": {
      "text/plain": [
       "[1, 4, 9, 16, 25, 36, 49, 64, 81, 100]"
      ]
     },
     "execution_count": 38,
     "metadata": {},
     "output_type": "execute_result"
    }
   ],
   "source": [
    "list_of_squares"
   ]
  },
  {
   "cell_type": "code",
   "execution_count": 39,
   "id": "8cf786fe-a7d5-496f-a0fc-6236ffb55415",
   "metadata": {},
   "outputs": [],
   "source": [
    "random = []"
   ]
  },
  {
   "cell_type": "code",
   "execution_count": 44,
   "id": "87c37dab-263c-4461-9d10-7d275c9010a0",
   "metadata": {},
   "outputs": [],
   "source": [
    "list_of_random_integers = [18, 70, 27, 94, 47, 97, 7, 11, 42, 41]"
   ]
  },
  {
   "cell_type": "code",
   "execution_count": 45,
   "id": "14ba81a9-c101-44ef-b3a3-355186200bed",
   "metadata": {},
   "outputs": [
    {
     "data": {
      "text/plain": [
       "[18, 70, 27, 94, 47, 97, 7, 11, 42, 41]"
      ]
     },
     "execution_count": 45,
     "metadata": {},
     "output_type": "execute_result"
    }
   ],
   "source": [
    "list_of_random_integers"
   ]
  },
  {
   "cell_type": "code",
   "execution_count": 46,
   "id": "330b824e-28a4-4f63-bc10-1d0c60b7c4ba",
   "metadata": {},
   "outputs": [],
   "source": [
    "my_list = [1,2,3,4,5,5,6,7,3,3,9,444]"
   ]
  },
  {
   "cell_type": "code",
   "execution_count": 47,
   "id": "e3ca1f08-98ec-4d3d-bf45-6aec3d3fc9ce",
   "metadata": {},
   "outputs": [
    {
     "data": {
      "text/plain": [
       "[1, 2, 3, 4, 5, 5, 6, 7, 3, 3, 9, 444]"
      ]
     },
     "execution_count": 47,
     "metadata": {},
     "output_type": "execute_result"
    }
   ],
   "source": [
    "my_list"
   ]
  },
  {
   "cell_type": "code",
   "execution_count": 48,
   "id": "07046b6d-6315-4f9b-843e-978e0885279c",
   "metadata": {},
   "outputs": [],
   "source": [
    "unique_list = list(set(my_list))"
   ]
  },
  {
   "cell_type": "code",
   "execution_count": 49,
   "id": "ff6ef270-99fe-4d5f-9425-8b7239c3b094",
   "metadata": {},
   "outputs": [
    {
     "data": {
      "text/plain": [
       "[1, 2, 3, 4, 5, 6, 7, 9, 444]"
      ]
     },
     "execution_count": 49,
     "metadata": {},
     "output_type": "execute_result"
    }
   ],
   "source": [
    "unique_list"
   ]
  },
  {
   "cell_type": "code",
   "execution_count": 50,
   "id": "9b9d386d-f85d-4a3b-86b6-aa31cb0b50ac",
   "metadata": {},
   "outputs": [
    {
     "name": "stdout",
     "output_type": "stream",
     "text": [
      "List without duplicate: [1, 2, 3, 4, 5, 6, 7, 9, 444]\n"
     ]
    }
   ],
   "source": [
    "print(\"List without duplicate:\", unique_list)"
   ]
  },
  {
   "cell_type": "code",
   "execution_count": 52,
   "id": "d647e263-7ac4-46f3-beaf-7b3e1af09bc7",
   "metadata": {},
   "outputs": [],
   "source": [
    "l1 = [2,7,4,9,66,43,56,1,2,3]"
   ]
  },
  {
   "cell_type": "code",
   "execution_count": 53,
   "id": "ccd08883-b820-4896-8b72-027baa796631",
   "metadata": {},
   "outputs": [],
   "source": [
    "l2 =[2,3,56,87,4,34,0,1]"
   ]
  },
  {
   "cell_type": "code",
   "execution_count": 54,
   "id": "da90c434-3fdc-4ebd-b18c-d395eb142e38",
   "metadata": {},
   "outputs": [
    {
     "data": {
      "text/plain": [
       "[2, 7, 4, 9, 66, 43, 56, 1, 2, 3]"
      ]
     },
     "execution_count": 54,
     "metadata": {},
     "output_type": "execute_result"
    }
   ],
   "source": [
    "l1"
   ]
  },
  {
   "cell_type": "code",
   "execution_count": 55,
   "id": "adf9a8ae-160a-4b15-9594-31dccccd8dfc",
   "metadata": {},
   "outputs": [
    {
     "data": {
      "text/plain": [
       "[2, 3, 56, 87, 4, 34, 0, 1]"
      ]
     },
     "execution_count": 55,
     "metadata": {},
     "output_type": "execute_result"
    }
   ],
   "source": [
    "l2"
   ]
  },
  {
   "cell_type": "code",
   "execution_count": 56,
   "id": "e69c25bf-df14-493d-a37b-242e521794a1",
   "metadata": {},
   "outputs": [],
   "source": [
    "commom_element = [1,2,3,4,56]"
   ]
  },
  {
   "cell_type": "code",
   "execution_count": 57,
   "id": "cb05f4f5-06a1-43b2-9cba-477ce342f6a6",
   "metadata": {},
   "outputs": [
    {
     "data": {
      "text/plain": [
       "[1, 2, 3, 4, 56]"
      ]
     },
     "execution_count": 57,
     "metadata": {},
     "output_type": "execute_result"
    }
   ],
   "source": [
    "commom_element"
   ]
  },
  {
   "cell_type": "code",
   "execution_count": 9,
   "id": "70856b6d-d441-4d69-96fc-01ac8987d397",
   "metadata": {},
   "outputs": [],
   "source": [
    "l1 = [10,20,30,40,50]"
   ]
  },
  {
   "cell_type": "code",
   "execution_count": 10,
   "id": "21e3d364-c372-47ab-890a-1b96022b591d",
   "metadata": {},
   "outputs": [],
   "source": [
    "l2 = [30,40,50,60,70]"
   ]
  },
  {
   "cell_type": "code",
   "execution_count": 11,
   "id": "5c056707-0927-4b70-a197-7e551139b6ba",
   "metadata": {},
   "outputs": [
    {
     "data": {
      "text/plain": [
       "[10, 20, 30, 40, 50]"
      ]
     },
     "execution_count": 11,
     "metadata": {},
     "output_type": "execute_result"
    }
   ],
   "source": [
    "l1"
   ]
  },
  {
   "cell_type": "code",
   "execution_count": 12,
   "id": "7b9f02be-7259-4b4a-834b-f17d073f3fb3",
   "metadata": {},
   "outputs": [
    {
     "data": {
      "text/plain": [
       "[30, 40, 50, 60, 70]"
      ]
     },
     "execution_count": 12,
     "metadata": {},
     "output_type": "execute_result"
    }
   ],
   "source": [
    "l2"
   ]
  },
  {
   "cell_type": "code",
   "execution_count": 13,
   "id": "50654fbe-cb61-4f45-93ba-3ed8246f43b0",
   "metadata": {},
   "outputs": [],
   "source": [
    "difference = list(set(l1).difference(l2))"
   ]
  },
  {
   "cell_type": "code",
   "execution_count": 14,
   "id": "633729ef-9bf2-4cd8-a48c-83fa5a2588e8",
   "metadata": {},
   "outputs": [
    {
     "data": {
      "text/plain": [
       "{10, 20}"
      ]
     },
     "execution_count": 14,
     "metadata": {},
     "output_type": "execute_result"
    }
   ],
   "source": [
    "set(l1).difference(l2)"
   ]
  },
  {
   "cell_type": "code",
   "execution_count": 15,
   "id": "382e1da1-0792-4c7e-b32e-9547d0e3a186",
   "metadata": {},
   "outputs": [
    {
     "data": {
      "text/plain": [
       "[20, 10]"
      ]
     },
     "execution_count": 15,
     "metadata": {},
     "output_type": "execute_result"
    }
   ],
   "source": [
    "list(set(l1).difference(l2))"
   ]
  },
  {
   "cell_type": "code",
   "execution_count": 16,
   "id": "e27302a6-8c76-4022-b776-3dd12f84d145",
   "metadata": {},
   "outputs": [
    {
     "data": {
      "text/plain": [
       "[20, 10]"
      ]
     },
     "execution_count": 16,
     "metadata": {},
     "output_type": "execute_result"
    }
   ],
   "source": [
    "difference"
   ]
  },
  {
   "cell_type": "code",
   "execution_count": 17,
   "id": "5add9474-16df-4728-80d7-0091ae47ae27",
   "metadata": {},
   "outputs": [],
   "source": [
    "l1 = [1,2,3,4,5]"
   ]
  },
  {
   "cell_type": "code",
   "execution_count": 20,
   "id": "0f39d652-8b0b-4e4d-950c-b9501495685b",
   "metadata": {},
   "outputs": [],
   "source": [
    "l2 = [9,7,6,4,34,'rashmi']"
   ]
  },
  {
   "cell_type": "code",
   "execution_count": 21,
   "id": "ec5570ff-32d6-48de-9e8d-339f57aa7cc9",
   "metadata": {},
   "outputs": [],
   "source": [
    "merge_list = l1 + l2"
   ]
  },
  {
   "cell_type": "code",
   "execution_count": 22,
   "id": "070ecb7e-d624-4a56-8d96-c2afcf659f82",
   "metadata": {},
   "outputs": [
    {
     "data": {
      "text/plain": [
       "[1, 2, 3, 4, 5, 9, 7, 6, 4, 34, 'rashmi']"
      ]
     },
     "execution_count": 22,
     "metadata": {},
     "output_type": "execute_result"
    }
   ],
   "source": [
    "l1 + l2"
   ]
  },
  {
   "cell_type": "code",
   "execution_count": 23,
   "id": "65d8de74-25ea-4833-95d5-5a393ba844e8",
   "metadata": {},
   "outputs": [
    {
     "data": {
      "text/plain": [
       "[1, 2, 3, 4, 5, 9, 7, 6, 4, 34, 'rashmi']"
      ]
     },
     "execution_count": 23,
     "metadata": {},
     "output_type": "execute_result"
    }
   ],
   "source": [
    "merge_list"
   ]
  },
  {
   "cell_type": "code",
   "execution_count": 1,
   "id": "fcb186b7-a748-4cd2-850b-d22ba5b4e9e9",
   "metadata": {},
   "outputs": [],
   "source": [
    "my_list = [10, 20, 30, 40, 50, 60]"
   ]
  },
  {
   "cell_type": "code",
   "execution_count": 2,
   "id": "d245e110-14b6-480f-ac3b-f4b6ff1cc4fd",
   "metadata": {},
   "outputs": [],
   "source": [
    "multiplied_list = [10 * 2, 20 * 2, 30 * 2, 40 * 2, 50 * 2, 60 * 2]"
   ]
  },
  {
   "cell_type": "code",
   "execution_count": 3,
   "id": "af4d1701-1dd6-488d-9dff-3e3949236d50",
   "metadata": {},
   "outputs": [
    {
     "data": {
      "text/plain": [
       "[20, 40, 60, 80, 100, 120]"
      ]
     },
     "execution_count": 3,
     "metadata": {},
     "output_type": "execute_result"
    }
   ],
   "source": [
    "multiplied_list"
   ]
  },
  {
   "cell_type": "code",
   "execution_count": 42,
   "id": "97bf90af-a6e9-407f-931f-dc869cee7d9d",
   "metadata": {},
   "outputs": [],
   "source": [
    "l1 = [10,20,15,25,30,40,35,45]"
   ]
  },
  {
   "cell_type": "code",
   "execution_count": 43,
   "id": "87022512-18e5-4381-a00c-eaaa5eb4faa8",
   "metadata": {},
   "outputs": [
    {
     "data": {
      "text/plain": [
       "[10, 20, 15, 25, 30, 40, 35, 45]"
      ]
     },
     "execution_count": 43,
     "metadata": {},
     "output_type": "execute_result"
    }
   ],
   "source": [
    "l1"
   ]
  },
  {
   "cell_type": "code",
   "execution_count": 58,
   "id": "f2e88f22-8d07-403a-aecb-825fa8119069",
   "metadata": {},
   "outputs": [
    {
     "data": {
      "text/plain": [
       "False"
      ]
     },
     "execution_count": 58,
     "metadata": {},
     "output_type": "execute_result"
    }
   ],
   "source": [
    "10 % 2 != 0"
   ]
  },
  {
   "cell_type": "code",
   "execution_count": 60,
   "id": "d4fa12cd-8e36-423a-b7ac-72c323d0ab55",
   "metadata": {},
   "outputs": [
    {
     "data": {
      "text/plain": [
       "False"
      ]
     },
     "execution_count": 60,
     "metadata": {},
     "output_type": "execute_result"
    }
   ],
   "source": [
    "20 % 2 != 0"
   ]
  },
  {
   "cell_type": "code",
   "execution_count": 61,
   "id": "7dc0ad0b-04c6-4488-9344-49f59dd3be81",
   "metadata": {},
   "outputs": [
    {
     "data": {
      "text/plain": [
       "True"
      ]
     },
     "execution_count": 61,
     "metadata": {},
     "output_type": "execute_result"
    }
   ],
   "source": [
    "15 % 2 != 0"
   ]
  },
  {
   "cell_type": "code",
   "execution_count": 62,
   "id": "6400166f-10b5-4f47-aa8e-ad409ddb6259",
   "metadata": {},
   "outputs": [
    {
     "data": {
      "text/plain": [
       "True"
      ]
     },
     "execution_count": 62,
     "metadata": {},
     "output_type": "execute_result"
    }
   ],
   "source": [
    "25 % 2 != 0"
   ]
  },
  {
   "cell_type": "code",
   "execution_count": 63,
   "id": "4a46e4ee-cd43-4401-a309-95674533a95c",
   "metadata": {},
   "outputs": [
    {
     "data": {
      "text/plain": [
       "False"
      ]
     },
     "execution_count": 63,
     "metadata": {},
     "output_type": "execute_result"
    }
   ],
   "source": [
    "30 % 2 != 0"
   ]
  },
  {
   "cell_type": "code",
   "execution_count": 64,
   "id": "1ba443f6-6710-4143-bb10-c0235e5239b8",
   "metadata": {},
   "outputs": [
    {
     "data": {
      "text/plain": [
       "False"
      ]
     },
     "execution_count": 64,
     "metadata": {},
     "output_type": "execute_result"
    }
   ],
   "source": [
    "40 % 2 != 0"
   ]
  },
  {
   "cell_type": "code",
   "execution_count": 65,
   "id": "54096b60-31fb-416f-8672-d7c731d7da7f",
   "metadata": {},
   "outputs": [
    {
     "data": {
      "text/plain": [
       "True"
      ]
     },
     "execution_count": 65,
     "metadata": {},
     "output_type": "execute_result"
    }
   ],
   "source": [
    "35 % 2 != 0"
   ]
  },
  {
   "cell_type": "code",
   "execution_count": 66,
   "id": "f5b9a784-ae17-453b-860d-19f08f82cc76",
   "metadata": {},
   "outputs": [
    {
     "data": {
      "text/plain": [
       "True"
      ]
     },
     "execution_count": 66,
     "metadata": {},
     "output_type": "execute_result"
    }
   ],
   "source": [
    "45 % 2 != 0"
   ]
  },
  {
   "cell_type": "code",
   "execution_count": 46,
   "id": "11ef6624-7dee-4f23-b279-e8f3b02248c2",
   "metadata": {},
   "outputs": [],
   "source": [
    "filtered_list = [15,25,35,45]"
   ]
  },
  {
   "cell_type": "code",
   "execution_count": 47,
   "id": "8a0a6898-3c16-4855-8f08-7e2009448a03",
   "metadata": {},
   "outputs": [
    {
     "data": {
      "text/plain": [
       "[15, 25, 35, 45]"
      ]
     },
     "execution_count": 47,
     "metadata": {},
     "output_type": "execute_result"
    }
   ],
   "source": [
    "filtered_list"
   ]
  },
  {
   "cell_type": "code",
   "execution_count": 48,
   "id": "f69960ed-022b-483b-a857-df1fab3e8ade",
   "metadata": {},
   "outputs": [],
   "source": [
    "s1 = [\"10\", \"20\", \"30\", \"40\", \"50\"]"
   ]
  },
  {
   "cell_type": "code",
   "execution_count": 57,
   "id": "8823b5a9-927c-4917-b04d-89998ab7c128",
   "metadata": {},
   "outputs": [
    {
     "data": {
      "text/plain": [
       "10"
      ]
     },
     "execution_count": 57,
     "metadata": {},
     "output_type": "execute_result"
    }
   ],
   "source": [
    "int(\"10\")"
   ]
  },
  {
   "cell_type": "code",
   "execution_count": 58,
   "id": "4eb200d8-6219-4ea3-880f-fd454ef23e91",
   "metadata": {},
   "outputs": [
    {
     "data": {
      "text/plain": [
       "20"
      ]
     },
     "execution_count": 58,
     "metadata": {},
     "output_type": "execute_result"
    }
   ],
   "source": [
    "int(\"20\")"
   ]
  },
  {
   "cell_type": "code",
   "execution_count": 59,
   "id": "a1b2acdc-55a9-4fc0-937b-f129f709e27b",
   "metadata": {},
   "outputs": [
    {
     "data": {
      "text/plain": [
       "30"
      ]
     },
     "execution_count": 59,
     "metadata": {},
     "output_type": "execute_result"
    }
   ],
   "source": [
    "int(\"30\")"
   ]
  },
  {
   "cell_type": "code",
   "execution_count": 60,
   "id": "b2fd5da0-e500-4c66-b306-891d9f8c16d0",
   "metadata": {},
   "outputs": [
    {
     "data": {
      "text/plain": [
       "40"
      ]
     },
     "execution_count": 60,
     "metadata": {},
     "output_type": "execute_result"
    }
   ],
   "source": [
    "int(\"40\")"
   ]
  },
  {
   "cell_type": "code",
   "execution_count": 61,
   "id": "aeb50248-c7e3-4dd8-81af-e1306cbcdb96",
   "metadata": {},
   "outputs": [
    {
     "data": {
      "text/plain": [
       "50"
      ]
     },
     "execution_count": 61,
     "metadata": {},
     "output_type": "execute_result"
    }
   ],
   "source": [
    "int(\"50\")"
   ]
  },
  {
   "cell_type": "code",
   "execution_count": 67,
   "id": "ff1e75a6-7af1-44ef-912e-1a6699cb06ed",
   "metadata": {},
   "outputs": [],
   "source": [
    "int_list = [10, 20, 30, 40, 50]"
   ]
  },
  {
   "cell_type": "code",
   "execution_count": 68,
   "id": "27c5f455-177d-4d11-9516-fbde5329b036",
   "metadata": {},
   "outputs": [
    {
     "data": {
      "text/plain": [
       "[10, 20, 30, 40, 50]"
      ]
     },
     "execution_count": 68,
     "metadata": {},
     "output_type": "execute_result"
    }
   ],
   "source": [
    "int_list"
   ]
  },
  {
   "cell_type": "code",
   "execution_count": 69,
   "id": "eb062f6c-4c81-4f36-be91-af0ec146a103",
   "metadata": {},
   "outputs": [],
   "source": [
    "l1 = [10, 20, 30, 40, 50]"
   ]
  },
  {
   "cell_type": "code",
   "execution_count": 70,
   "id": "dd24d5d5-fd1b-4ca3-b844-899ea4d04754",
   "metadata": {},
   "outputs": [
    {
     "data": {
      "text/plain": [
       "[10, 20, 30, 40, 50]"
      ]
     },
     "execution_count": 70,
     "metadata": {},
     "output_type": "execute_result"
    }
   ],
   "source": [
    "l1"
   ]
  },
  {
   "cell_type": "code",
   "execution_count": 8,
   "id": "9bbd15be-c2a0-40d3-b1bb-6c56feb2e76a",
   "metadata": {},
   "outputs": [
    {
     "data": {
      "text/plain": [
       "'10'"
      ]
     },
     "execution_count": 8,
     "metadata": {},
     "output_type": "execute_result"
    }
   ],
   "source": [
    "str(10)"
   ]
  },
  {
   "cell_type": "code",
   "execution_count": 9,
   "id": "d89a7b0a-8ea2-47e0-b26d-3bb50d2142dc",
   "metadata": {},
   "outputs": [
    {
     "data": {
      "text/plain": [
       "'20'"
      ]
     },
     "execution_count": 9,
     "metadata": {},
     "output_type": "execute_result"
    }
   ],
   "source": [
    "str(20)"
   ]
  },
  {
   "cell_type": "code",
   "execution_count": 10,
   "id": "44e31762-1124-49a3-98b1-a8adac000fc1",
   "metadata": {},
   "outputs": [
    {
     "data": {
      "text/plain": [
       "'30'"
      ]
     },
     "execution_count": 10,
     "metadata": {},
     "output_type": "execute_result"
    }
   ],
   "source": [
    "str(30)"
   ]
  },
  {
   "cell_type": "code",
   "execution_count": 11,
   "id": "9c824d89-fb10-4522-9c3f-25937786391e",
   "metadata": {},
   "outputs": [
    {
     "data": {
      "text/plain": [
       "'40'"
      ]
     },
     "execution_count": 11,
     "metadata": {},
     "output_type": "execute_result"
    }
   ],
   "source": [
    "str(40)"
   ]
  },
  {
   "cell_type": "code",
   "execution_count": 12,
   "id": "ae5d99be-bce7-4508-8aaa-28938e7f8ba5",
   "metadata": {},
   "outputs": [
    {
     "data": {
      "text/plain": [
       "'50'"
      ]
     },
     "execution_count": 12,
     "metadata": {},
     "output_type": "execute_result"
    }
   ],
   "source": [
    "str(50)"
   ]
  },
  {
   "cell_type": "code",
   "execution_count": 13,
   "id": "e49790a6-b473-4ee2-9e89-60bc142995f2",
   "metadata": {},
   "outputs": [],
   "source": [
    "str_list = ['10', '20', '30', '40', '50']"
   ]
  },
  {
   "cell_type": "code",
   "execution_count": 14,
   "id": "6d9aad17-5b47-469d-bd85-6f274807f80a",
   "metadata": {},
   "outputs": [
    {
     "data": {
      "text/plain": [
       "['10', '20', '30', '40', '50']"
      ]
     },
     "execution_count": 14,
     "metadata": {},
     "output_type": "execute_result"
    }
   ],
   "source": [
    "str_list"
   ]
  },
  {
   "cell_type": "code",
   "execution_count": 15,
   "id": "e5dab87f-bd75-43dd-8c8d-eb5497bdc807",
   "metadata": {},
   "outputs": [],
   "source": [
    "nested_list = [[1,2,3], [4,5], [6,7,8,9]]"
   ]
  },
  {
   "cell_type": "code",
   "execution_count": 24,
   "id": "55007d14-9d80-4c5d-9dac-7ecc6b1761b4",
   "metadata": {},
   "outputs": [],
   "source": [
    "flatten_list = nested_list"
   ]
  },
  {
   "cell_type": "code",
   "execution_count": 25,
   "id": "9af25b7e-f16d-4a87-a941-a1f3eab3f5e6",
   "metadata": {},
   "outputs": [],
   "source": [
    "flattened = []"
   ]
  },
  {
   "cell_type": "code",
   "execution_count": 27,
   "id": "de104e10-bdf4-40bc-ba99-88bb3f0714e8",
   "metadata": {},
   "outputs": [
    {
     "data": {
      "text/plain": [
       "[[1, 2, 3], [4, 5], [6, 7, 8, 9]]"
      ]
     },
     "execution_count": 27,
     "metadata": {},
     "output_type": "execute_result"
    }
   ],
   "source": [
    "flatten_list"
   ]
  },
  {
   "cell_type": "code",
   "execution_count": 4,
   "id": "c0ad454c-300a-4cba-a784-81cf36301db4",
   "metadata": {},
   "outputs": [],
   "source": [
    "fibonacci_list = [0, 1]"
   ]
  },
  {
   "cell_type": "code",
   "execution_count": 5,
   "id": "ddffa50f-42a3-45d8-ba53-02d813ee49d6",
   "metadata": {},
   "outputs": [],
   "source": [
    "next_fibonacci = fibonacci_list[1 - 1] + fibonacci_list[1 - 2]"
   ]
  },
  {
   "cell_type": "code",
   "execution_count": 6,
   "id": "d7781dd5-cd6f-4d87-84b7-2955a4db60be",
   "metadata": {},
   "outputs": [],
   "source": [
    "my_list = [4, 5, 9, 8, 7, 2, 4, 3, 6, 1]"
   ]
  },
  {
   "cell_type": "code",
   "execution_count": 7,
   "id": "42a43644-896c-498f-87f3-485432a5a816",
   "metadata": {},
   "outputs": [],
   "source": [
    "my_list.sort()"
   ]
  },
  {
   "cell_type": "code",
   "execution_count": 8,
   "id": "bdae6cc7-4dfb-4b07-aa2d-94b0346dff07",
   "metadata": {},
   "outputs": [
    {
     "data": {
      "text/plain": [
       "[1, 2, 3, 4, 4, 5, 6, 7, 8, 9]"
      ]
     },
     "execution_count": 8,
     "metadata": {},
     "output_type": "execute_result"
    }
   ],
   "source": [
    "my_list"
   ]
  },
  {
   "cell_type": "code",
   "execution_count": 10,
   "id": "c7a6a4f0-e8df-44dc-8eb9-8d67ef3370df",
   "metadata": {},
   "outputs": [],
   "source": [
    "my_list = [1, 2, 3, 4, 5, 6]"
   ]
  },
  {
   "cell_type": "code",
   "execution_count": 13,
   "id": "bd09a846-0c47-468c-9255-8e52343242bc",
   "metadata": {},
   "outputs": [],
   "source": [
    "n = 2 % len(my_list)"
   ]
  },
  {
   "cell_type": "code",
   "execution_count": 14,
   "id": "a8dccdf2-c949-45b6-bad7-2eaa349cff20",
   "metadata": {},
   "outputs": [
    {
     "data": {
      "text/plain": [
       "2"
      ]
     },
     "execution_count": 14,
     "metadata": {},
     "output_type": "execute_result"
    }
   ],
   "source": [
    "n"
   ]
  },
  {
   "cell_type": "code",
   "execution_count": 43,
   "id": "7dd37c26-70f1-4624-980b-9402a83c5e31",
   "metadata": {},
   "outputs": [],
   "source": [
    "prime_numbers = [2,3,5,7,11,13,17,19,29,31,37,41,47]"
   ]
  },
  {
   "cell_type": "code",
   "execution_count": 44,
   "id": "09320957-c931-4370-a6dd-83601d2e7d1d",
   "metadata": {},
   "outputs": [
    {
     "data": {
      "text/plain": [
       "[2, 3, 5, 7, 11, 13, 17, 19, 29, 31, 37, 41, 47]"
      ]
     },
     "execution_count": 44,
     "metadata": {},
     "output_type": "execute_result"
    }
   ],
   "source": [
    "prime_numbers"
   ]
  },
  {
   "cell_type": "code",
   "execution_count": 45,
   "id": "320056ea-2d41-41d4-8400-e4b57afbe6c7",
   "metadata": {},
   "outputs": [],
   "source": [
    "l2 = [10,5,20,15,30,25]"
   ]
  },
  {
   "cell_type": "code",
   "execution_count": 17,
   "id": "aa1eeaed-6d74-4662-94f7-8cc81bad680e",
   "metadata": {},
   "outputs": [
    {
     "ename": "NameError",
     "evalue": "name 'sieve_of_eratosthenes' is not defined",
     "output_type": "error",
     "traceback": [
      "\u001b[0;31m---------------------------------------------------------------------------\u001b[0m",
      "\u001b[0;31mNameError\u001b[0m                                 Traceback (most recent call last)",
      "Cell \u001b[0;32mIn[17], line 1\u001b[0m\n\u001b[0;32m----> 1\u001b[0m prime_number \u001b[38;5;241m=\u001b[39m \u001b[43msieve_of_eratosthenes\u001b[49m(\u001b[38;5;241m50\u001b[39m)\n",
      "\u001b[0;31mNameError\u001b[0m: name 'sieve_of_eratosthenes' is not defined"
     ]
    }
   ],
   "source": [
    "prime_number = sieve_of_eratosthenes(50)"
   ]
  },
  {
   "cell_type": "code",
   "execution_count": 46,
   "id": "77d6a755-e3c0-4e7f-ac4c-e4faed4a6524",
   "metadata": {},
   "outputs": [
    {
     "data": {
      "text/plain": [
       "[10, 5, 20, 15, 30, 25]"
      ]
     },
     "execution_count": 46,
     "metadata": {},
     "output_type": "execute_result"
    }
   ],
   "source": [
    "l2"
   ]
  },
  {
   "cell_type": "code",
   "execution_count": 47,
   "id": "81faceaa-c47c-4247-99c1-10cc48b8d060",
   "metadata": {},
   "outputs": [],
   "source": [
    "l2.sort()"
   ]
  },
  {
   "cell_type": "code",
   "execution_count": 49,
   "id": "ce563e41-7252-4ed3-a6a4-f8c11ea7f7ed",
   "metadata": {},
   "outputs": [
    {
     "data": {
      "text/plain": [
       "[5, 10, 15, 20, 25, 30]"
      ]
     },
     "execution_count": 49,
     "metadata": {},
     "output_type": "execute_result"
    }
   ],
   "source": [
    "l2"
   ]
  },
  {
   "cell_type": "code",
   "execution_count": 50,
   "id": "fa6efaf4-fbfa-4bfe-aa1c-d6a3d32bc789",
   "metadata": {},
   "outputs": [],
   "source": [
    "l2 = set(l2)"
   ]
  },
  {
   "cell_type": "code",
   "execution_count": 51,
   "id": "d0c130f1-5392-4ba5-ad67-4ba2e765d9cd",
   "metadata": {},
   "outputs": [
    {
     "data": {
      "text/plain": [
       "{5, 10, 15, 20, 25, 30}"
      ]
     },
     "execution_count": 51,
     "metadata": {},
     "output_type": "execute_result"
    }
   ],
   "source": [
    "l2"
   ]
  },
  {
   "cell_type": "code",
   "execution_count": 55,
   "id": "82bd4370-de92-45ac-a8c6-19afe479cbce",
   "metadata": {},
   "outputs": [],
   "source": [
    "l2 = list(l2)"
   ]
  },
  {
   "cell_type": "code",
   "execution_count": 56,
   "id": "3d431709-2db4-4232-ab24-4cb559cb93a6",
   "metadata": {},
   "outputs": [
    {
     "data": {
      "text/plain": [
       "[5, 10, 15, 20, 25, 30]"
      ]
     },
     "execution_count": 56,
     "metadata": {},
     "output_type": "execute_result"
    }
   ],
   "source": [
    "l2"
   ]
  },
  {
   "cell_type": "code",
   "execution_count": 57,
   "id": "1e60facb-82b3-4d24-9889-ff802a90aab7",
   "metadata": {},
   "outputs": [],
   "source": [
    "second_largest = l2[-2]"
   ]
  },
  {
   "cell_type": "code",
   "execution_count": 58,
   "id": "12b33a94-390a-479e-b06f-080f52753a53",
   "metadata": {},
   "outputs": [
    {
     "data": {
      "text/plain": [
       "25"
      ]
     },
     "execution_count": 58,
     "metadata": {},
     "output_type": "execute_result"
    }
   ],
   "source": [
    "second_largest"
   ]
  },
  {
   "cell_type": "code",
   "execution_count": 18,
   "id": "c067acb7-e546-4132-b2e3-4783dc888079",
   "metadata": {},
   "outputs": [],
   "source": [
    "my_list = [2, 4, 6, 8, 10]"
   ]
  },
  {
   "cell_type": "code",
   "execution_count": 20,
   "id": "d0901f22-4a2c-40ea-8605-14eb1f722e53",
   "metadata": {},
   "outputs": [],
   "source": [
    "squared_list = [4, 16, 36, 64, 100]"
   ]
  },
  {
   "cell_type": "code",
   "execution_count": 21,
   "id": "24108725-43e7-47a2-b6ca-9dd5d2d78c93",
   "metadata": {},
   "outputs": [
    {
     "data": {
      "text/plain": [
       "[4, 16, 36, 64, 100]"
      ]
     },
     "execution_count": 21,
     "metadata": {},
     "output_type": "execute_result"
    }
   ],
   "source": [
    "squared_list"
   ]
  },
  {
   "cell_type": "code",
   "execution_count": 64,
   "id": "634169a7-4a24-419a-a23a-02aaf0c27950",
   "metadata": {},
   "outputs": [],
   "source": [
    "l1 = ['apple', 'banana', 'cherry', 'date', 'elderberry']"
   ]
  },
  {
   "cell_type": "code",
   "execution_count": 65,
   "id": "7b166a22-3206-4984-949b-437f9ecad3ee",
   "metadata": {},
   "outputs": [
    {
     "data": {
      "text/plain": [
       "['apple', 'banana', 'cherry', 'date', 'elderberry']"
      ]
     },
     "execution_count": 65,
     "metadata": {},
     "output_type": "execute_result"
    }
   ],
   "source": [
    "l1"
   ]
  },
  {
   "cell_type": "code",
   "execution_count": 68,
   "id": "aa14f461-b7a5-48ad-bfb3-50dde50b0fe2",
   "metadata": {},
   "outputs": [],
   "source": [
    "my_dict = {'apple' :0, 'banana' :1, 'cherry' :2, 'date' :3, 'elderberry' :4}"
   ]
  },
  {
   "cell_type": "code",
   "execution_count": 69,
   "id": "19b09394-dc7d-4d1a-9e74-aaedf855afed",
   "metadata": {},
   "outputs": [
    {
     "data": {
      "text/plain": [
       "{'apple': 0, 'banana': 1, 'cherry': 2, 'date': 3, 'elderberry': 4}"
      ]
     },
     "execution_count": 69,
     "metadata": {},
     "output_type": "execute_result"
    }
   ],
   "source": [
    "my_dict"
   ]
  },
  {
   "cell_type": "code",
   "execution_count": 22,
   "id": "82ae8c73-0c9b-472a-be56-d61a5118081c",
   "metadata": {},
   "outputs": [],
   "source": [
    "l2 = [1, 2, 3, 4, 5, 6, 7, 8, 9, 10]"
   ]
  },
  {
   "cell_type": "code",
   "execution_count": 23,
   "id": "223cf0d9-5adf-435b-a471-78782f8de05e",
   "metadata": {},
   "outputs": [
    {
     "data": {
      "text/plain": [
       "[1, 2, 3, 4, 5, 6, 7, 8, 9, 10]"
      ]
     },
     "execution_count": 23,
     "metadata": {},
     "output_type": "execute_result"
    }
   ],
   "source": [
    "l2"
   ]
  },
  {
   "cell_type": "code",
   "execution_count": 24,
   "id": "1bbf034f-dbfb-4462-be2b-a479c219c4a0",
   "metadata": {},
   "outputs": [],
   "source": [
    "random =[]"
   ]
  },
  {
   "cell_type": "code",
   "execution_count": 25,
   "id": "0a0f9be2-fa86-4436-9f50-906c9e6ebfd8",
   "metadata": {},
   "outputs": [
    {
     "ename": "AttributeError",
     "evalue": "'list' object has no attribute 'shuffle'",
     "output_type": "error",
     "traceback": [
      "\u001b[0;31m---------------------------------------------------------------------------\u001b[0m",
      "\u001b[0;31mAttributeError\u001b[0m                            Traceback (most recent call last)",
      "Cell \u001b[0;32mIn[25], line 1\u001b[0m\n\u001b[0;32m----> 1\u001b[0m \u001b[43mrandom\u001b[49m\u001b[38;5;241;43m.\u001b[39;49m\u001b[43mshuffle\u001b[49m(my_list)\n",
      "\u001b[0;31mAttributeError\u001b[0m: 'list' object has no attribute 'shuffle'"
     ]
    }
   ],
   "source": [
    "random.shuffle(my_list)"
   ]
  },
  {
   "cell_type": "code",
   "execution_count": 26,
   "id": "34ddfcd0-0647-455d-ba3f-53fee0f88158",
   "metadata": {},
   "outputs": [],
   "source": [
    "factorial_numbers = [1, 1, 2, 6, 24, 120, 720, 5040, 40320, 362880]"
   ]
  },
  {
   "cell_type": "code",
   "execution_count": 27,
   "id": "e2db3de5-9e91-4d5a-9ef2-1e9c140bc47a",
   "metadata": {},
   "outputs": [
    {
     "data": {
      "text/plain": [
       "[1, 1, 2, 6, 24, 120, 720, 5040, 40320, 362880]"
      ]
     },
     "execution_count": 27,
     "metadata": {},
     "output_type": "execute_result"
    }
   ],
   "source": [
    "factorial_numbers"
   ]
  },
  {
   "cell_type": "code",
   "execution_count": 79,
   "id": "0ec496a3-c62e-4a17-af68-54cc448ec4ca",
   "metadata": {},
   "outputs": [],
   "source": [
    "l1 = [1,2,3,4,5]"
   ]
  },
  {
   "cell_type": "code",
   "execution_count": 80,
   "id": "47515180-c081-4241-a33d-fc4de4783921",
   "metadata": {},
   "outputs": [
    {
     "data": {
      "text/plain": [
       "[1, 2, 3, 4, 5]"
      ]
     },
     "execution_count": 80,
     "metadata": {},
     "output_type": "execute_result"
    }
   ],
   "source": [
    "l1"
   ]
  },
  {
   "cell_type": "code",
   "execution_count": 81,
   "id": "37c19f49-8871-49f0-8b1a-b5ed91cd1d8a",
   "metadata": {},
   "outputs": [],
   "source": [
    "l2 = [4,5,6,7,8]"
   ]
  },
  {
   "cell_type": "code",
   "execution_count": 82,
   "id": "7e263d36-1dea-48c0-836c-c884016c4f15",
   "metadata": {},
   "outputs": [
    {
     "data": {
      "text/plain": [
       "[4, 5, 6, 7, 8]"
      ]
     },
     "execution_count": 82,
     "metadata": {},
     "output_type": "execute_result"
    }
   ],
   "source": [
    "l2"
   ]
  },
  {
   "cell_type": "code",
   "execution_count": 83,
   "id": "d5fd5aa3-2786-4d33-bc6f-31f102903e97",
   "metadata": {},
   "outputs": [],
   "source": [
    "common_element = [4,5]"
   ]
  },
  {
   "cell_type": "code",
   "execution_count": 84,
   "id": "a9c11d2a-7675-4a56-bf71-f19940645926",
   "metadata": {},
   "outputs": [
    {
     "data": {
      "text/plain": [
       "[4, 5]"
      ]
     },
     "execution_count": 84,
     "metadata": {},
     "output_type": "execute_result"
    }
   ],
   "source": [
    "common_element"
   ]
  },
  {
   "cell_type": "code",
   "execution_count": 85,
   "id": "07c46b75-a5cd-4c0e-b43d-27cb27033704",
   "metadata": {},
   "outputs": [],
   "source": [
    "l3 = [1,2,3,4,5,6,7]"
   ]
  },
  {
   "cell_type": "code",
   "execution_count": 86,
   "id": "cfaee645-e960-42bd-a287-ce1faf57b4ff",
   "metadata": {},
   "outputs": [
    {
     "data": {
      "text/plain": [
       "[1, 2, 3, 4, 5, 6, 7]"
      ]
     },
     "execution_count": 86,
     "metadata": {},
     "output_type": "execute_result"
    }
   ],
   "source": [
    "l3"
   ]
  },
  {
   "cell_type": "code",
   "execution_count": 87,
   "id": "0a7e1b86-ede7-431f-9468-8911c0cc552b",
   "metadata": {},
   "outputs": [],
   "source": [
    "l3.clear()"
   ]
  },
  {
   "cell_type": "code",
   "execution_count": 88,
   "id": "07fc3a03-5b91-49d9-bc5f-f8e7c80f4f99",
   "metadata": {},
   "outputs": [
    {
     "data": {
      "text/plain": [
       "[]"
      ]
     },
     "execution_count": 88,
     "metadata": {},
     "output_type": "execute_result"
    }
   ],
   "source": [
    "l3"
   ]
  },
  {
   "cell_type": "code",
   "execution_count": 91,
   "id": "39d61548-b95d-47e9-ac86-8544ea5991fc",
   "metadata": {},
   "outputs": [],
   "source": [
    "l4 = [10, -5, 20, -15, 30, -25]"
   ]
  },
  {
   "cell_type": "code",
   "execution_count": 92,
   "id": "adbfd345-fdac-42aa-af29-32bb39b94ab2",
   "metadata": {},
   "outputs": [
    {
     "data": {
      "text/plain": [
       "[10, -5, 20, -15, 30, -25]"
      ]
     },
     "execution_count": 92,
     "metadata": {},
     "output_type": "execute_result"
    }
   ],
   "source": [
    "l4"
   ]
  },
  {
   "cell_type": "code",
   "execution_count": 94,
   "id": "8f9777e2-b535-4519-87ea-3dd1d31229c9",
   "metadata": {},
   "outputs": [],
   "source": [
    "replace_negative_list = [10, 0, 20, 0, 30, 0]"
   ]
  },
  {
   "cell_type": "code",
   "execution_count": 96,
   "id": "3c5464db-007a-4963-b099-54ddf1c1a847",
   "metadata": {},
   "outputs": [
    {
     "data": {
      "text/plain": [
       "[10, 0, 20, 0, 30, 0]"
      ]
     },
     "execution_count": 96,
     "metadata": {},
     "output_type": "execute_result"
    }
   ],
   "source": [
    "replace_negative_list"
   ]
  },
  {
   "cell_type": "code",
   "execution_count": 97,
   "id": "39923dda-d974-4c69-b30f-e11dcf7b073e",
   "metadata": {},
   "outputs": [],
   "source": [
    "s1 =\" Hello, this is a sample sentence\""
   ]
  },
  {
   "cell_type": "code",
   "execution_count": 98,
   "id": "b766677b-b669-4c76-9eeb-5aed384d4522",
   "metadata": {},
   "outputs": [
    {
     "data": {
      "text/plain": [
       "' Hello, this is a sample sentence'"
      ]
     },
     "execution_count": 98,
     "metadata": {},
     "output_type": "execute_result"
    }
   ],
   "source": [
    "s1"
   ]
  },
  {
   "cell_type": "code",
   "execution_count": 99,
   "id": "0b18ac2e-ae84-44fb-a257-2022011bcb2e",
   "metadata": {},
   "outputs": [
    {
     "data": {
      "text/plain": [
       "['Hello,', 'this', 'is', 'a', 'sample', 'sentence']"
      ]
     },
     "execution_count": 99,
     "metadata": {},
     "output_type": "execute_result"
    }
   ],
   "source": [
    "s1.split()"
   ]
  },
  {
   "cell_type": "code",
   "execution_count": 100,
   "id": "b0871131-f7f2-4b83-930b-17b241a254ab",
   "metadata": {},
   "outputs": [],
   "source": [
    "l5 = [\"Hello,\", \"this\", \"is\", \"a\", \"sample\", \"sentence\"]"
   ]
  },
  {
   "cell_type": "code",
   "execution_count": 101,
   "id": "0f42fba4-c1e1-4e9c-80d8-6fd03f26c5b4",
   "metadata": {},
   "outputs": [],
   "source": [
    "s = \" \".join(l5)"
   ]
  },
  {
   "cell_type": "code",
   "execution_count": 102,
   "id": "73fa1571-7c3b-42cd-8ff9-2e0d2aa38679",
   "metadata": {},
   "outputs": [
    {
     "data": {
      "text/plain": [
       "'Hello, this is a sample sentence'"
      ]
     },
     "execution_count": 102,
     "metadata": {},
     "output_type": "execute_result"
    }
   ],
   "source": [
    "s"
   ]
  },
  {
   "cell_type": "code",
   "execution_count": 103,
   "id": "bf7b87e8-6e5e-4051-a094-88ff366f5be9",
   "metadata": {},
   "outputs": [],
   "source": [
    "n = 5"
   ]
  },
  {
   "cell_type": "code",
   "execution_count": 108,
   "id": "0452553a-189b-4ed5-bd04-975a8e08a1a5",
   "metadata": {},
   "outputs": [],
   "source": [
    "power_list = [2**0, 2**1, 2**2, 2**3, 2**4]"
   ]
  },
  {
   "cell_type": "code",
   "execution_count": 109,
   "id": "47aab8aa-0dc0-4314-bbce-849243d09e38",
   "metadata": {},
   "outputs": [
    {
     "data": {
      "text/plain": [
       "[1, 2, 4, 8, 16]"
      ]
     },
     "execution_count": 109,
     "metadata": {},
     "output_type": "execute_result"
    }
   ],
   "source": [
    "power_list"
   ]
  },
  {
   "cell_type": "code",
   "execution_count": 110,
   "id": "ccf32720-c076-4100-bf0c-882000d7a780",
   "metadata": {},
   "outputs": [],
   "source": [
    "my_str = [\"apple\", \"banana\", \"cherry\", \"date\", \"elderberry\"]"
   ]
  },
  {
   "cell_type": "code",
   "execution_count": 111,
   "id": "93ab7f59-260b-40a0-befa-0e022623f0f0",
   "metadata": {},
   "outputs": [
    {
     "data": {
      "text/plain": [
       "['apple', 'banana', 'cherry', 'date', 'elderberry']"
      ]
     },
     "execution_count": 111,
     "metadata": {},
     "output_type": "execute_result"
    }
   ],
   "source": [
    "my_str"
   ]
  },
  {
   "cell_type": "code",
   "execution_count": 113,
   "id": "e1e0c764-d1a8-4f87-826f-3b51582aa8c0",
   "metadata": {},
   "outputs": [],
   "source": [
    "longest_string = \"elderberry\""
   ]
  },
  {
   "cell_type": "code",
   "execution_count": 114,
   "id": "de1f298f-9afd-4776-a248-846f14d6d183",
   "metadata": {},
   "outputs": [
    {
     "data": {
      "text/plain": [
       "10"
      ]
     },
     "execution_count": 114,
     "metadata": {},
     "output_type": "execute_result"
    }
   ],
   "source": [
    "len(longest_string)"
   ]
  },
  {
   "cell_type": "code",
   "execution_count": 115,
   "id": "8d6f0d8b-5fd3-4934-a85a-f8b12b7bfbb5",
   "metadata": {},
   "outputs": [
    {
     "data": {
      "text/plain": [
       "'elderberry'"
      ]
     },
     "execution_count": 115,
     "metadata": {},
     "output_type": "execute_result"
    }
   ],
   "source": [
    "longest_string"
   ]
  },
  {
   "cell_type": "code",
   "execution_count": 117,
   "id": "a97cb543-2b4d-4dbc-9aae-03d4a95f48c1",
   "metadata": {},
   "outputs": [],
   "source": [
    "s1 = [\"apple\", \"banana\", \"cherry\", \"date\", \"elderberry\"]"
   ]
  },
  {
   "cell_type": "code",
   "execution_count": 118,
   "id": "cbb117f6-ae5c-415e-99db-142cee21fea3",
   "metadata": {},
   "outputs": [],
   "source": [
    "shortest_str = \"date\""
   ]
  },
  {
   "cell_type": "code",
   "execution_count": 119,
   "id": "b75e23ec-dd0f-49c5-b544-227e988b8212",
   "metadata": {},
   "outputs": [
    {
     "data": {
      "text/plain": [
       "4"
      ]
     },
     "execution_count": 119,
     "metadata": {},
     "output_type": "execute_result"
    }
   ],
   "source": [
    "len(shortest_str)"
   ]
  },
  {
   "cell_type": "code",
   "execution_count": 120,
   "id": "30782c88-f41e-4ce6-8f14-7d739f5eb0dc",
   "metadata": {},
   "outputs": [
    {
     "data": {
      "text/plain": [
       "'date'"
      ]
     },
     "execution_count": 120,
     "metadata": {},
     "output_type": "execute_result"
    }
   ],
   "source": [
    "shortest_str"
   ]
  },
  {
   "cell_type": "code",
   "execution_count": 125,
   "id": "107cfe78-bef3-4e4f-a734-7d316f2b1b29",
   "metadata": {},
   "outputs": [],
   "source": [
    "n = 5"
   ]
  },
  {
   "cell_type": "code",
   "execution_count": 126,
   "id": "d52dcee6-c328-4af7-9903-85505799f93e",
   "metadata": {},
   "outputs": [],
   "source": [
    "n = 1"
   ]
  },
  {
   "cell_type": "code",
   "execution_count": 127,
   "id": "fac92a53-79a3-4e35-9804-faf00a0abc58",
   "metadata": {},
   "outputs": [
    {
     "data": {
      "text/plain": [
       "1"
      ]
     },
     "execution_count": 127,
     "metadata": {},
     "output_type": "execute_result"
    }
   ],
   "source": [
    "n*(n + 1)//2"
   ]
  },
  {
   "cell_type": "code",
   "execution_count": 128,
   "id": "1fdccc96-32b4-4110-9ab8-5111c45f4ea4",
   "metadata": {},
   "outputs": [],
   "source": [
    "n = 2"
   ]
  },
  {
   "cell_type": "code",
   "execution_count": 129,
   "id": "6b92a055-a6ad-4b3d-a434-83e75feb498d",
   "metadata": {},
   "outputs": [
    {
     "data": {
      "text/plain": [
       "3"
      ]
     },
     "execution_count": 129,
     "metadata": {},
     "output_type": "execute_result"
    }
   ],
   "source": [
    "n*(n + 1)//2"
   ]
  },
  {
   "cell_type": "code",
   "execution_count": 130,
   "id": "20308b59-dde1-46b3-9f74-d6acbc003c41",
   "metadata": {},
   "outputs": [],
   "source": [
    "n = 3"
   ]
  },
  {
   "cell_type": "code",
   "execution_count": 131,
   "id": "01ccfe21-0f0e-40ac-b1af-ba7f5e1d94e2",
   "metadata": {},
   "outputs": [
    {
     "data": {
      "text/plain": [
       "6"
      ]
     },
     "execution_count": 131,
     "metadata": {},
     "output_type": "execute_result"
    }
   ],
   "source": [
    "n*(n + 1)//2"
   ]
  },
  {
   "cell_type": "code",
   "execution_count": 132,
   "id": "4cccc720-004f-4617-83bb-893b8b1a5e85",
   "metadata": {},
   "outputs": [],
   "source": [
    "n = 4"
   ]
  },
  {
   "cell_type": "code",
   "execution_count": 133,
   "id": "d92d692d-37b8-4659-9562-77df6b5f8567",
   "metadata": {},
   "outputs": [
    {
     "data": {
      "text/plain": [
       "10"
      ]
     },
     "execution_count": 133,
     "metadata": {},
     "output_type": "execute_result"
    }
   ],
   "source": [
    "n*(n + 1)//2"
   ]
  },
  {
   "cell_type": "code",
   "execution_count": 134,
   "id": "4a1cea09-b723-4174-906e-3f9bd4a8cf49",
   "metadata": {},
   "outputs": [],
   "source": [
    "n = 5"
   ]
  },
  {
   "cell_type": "code",
   "execution_count": 135,
   "id": "f0141a4c-678b-4bdf-a74b-cd1d5581e1aa",
   "metadata": {},
   "outputs": [
    {
     "data": {
      "text/plain": [
       "15"
      ]
     },
     "execution_count": 135,
     "metadata": {},
     "output_type": "execute_result"
    }
   ],
   "source": [
    "n*(n + 1)//2"
   ]
  },
  {
   "cell_type": "code",
   "execution_count": 136,
   "id": "1be11fbe-33f1-4e33-a0d2-622d977c1b1a",
   "metadata": {},
   "outputs": [],
   "source": [
    "triangular_list = [1,3,6,10,15]"
   ]
  },
  {
   "cell_type": "code",
   "execution_count": 137,
   "id": "83d6d3a0-92c4-4daa-b88d-6e505ef56ecd",
   "metadata": {},
   "outputs": [
    {
     "data": {
      "text/plain": [
       "[1, 3, 6, 10, 15]"
      ]
     },
     "execution_count": 137,
     "metadata": {},
     "output_type": "execute_result"
    }
   ],
   "source": [
    "triangular_list"
   ]
  },
  {
   "cell_type": "code",
   "execution_count": 138,
   "id": "68cf44b7-5068-4ee3-b697-5f73dee4246c",
   "metadata": {},
   "outputs": [],
   "source": [
    "main_list = [1,2,3,4,5,6,7,8,9,10]"
   ]
  },
  {
   "cell_type": "code",
   "execution_count": 139,
   "id": "c06516f0-b9d0-464a-b9ce-fbcc42b51467",
   "metadata": {},
   "outputs": [],
   "source": [
    "subsequence = [3,5,8]"
   ]
  },
  {
   "cell_type": "code",
   "execution_count": 142,
   "id": "90f90498-e82a-46ad-b884-1b696141fd40",
   "metadata": {},
   "outputs": [
    {
     "data": {
      "text/plain": [
       "'main_list_contains_thesubsequence'"
      ]
     },
     "execution_count": 142,
     "metadata": {},
     "output_type": "execute_result"
    }
   ],
   "source": [
    "\"main_list_contains_thesubsequence\""
   ]
  },
  {
   "cell_type": "code",
   "execution_count": 29,
   "id": "e372e45f-f15b-4769-8dff-e9a877627c3a",
   "metadata": {},
   "outputs": [],
   "source": [
    "my_list = [1, 2, 3, 4, 5]"
   ]
  },
  {
   "cell_type": "code",
   "execution_count": 30,
   "id": "9e9c94b7-4825-428c-b896-d33e1879d571",
   "metadata": {},
   "outputs": [],
   "source": [
    "index1 = 1"
   ]
  },
  {
   "cell_type": "code",
   "execution_count": 31,
   "id": "6b57566c-4463-4b45-ad0f-981a2f0430a9",
   "metadata": {},
   "outputs": [],
   "source": [
    "index2 = 3"
   ]
  },
  {
   "cell_type": "code",
   "execution_count": 32,
   "id": "856f1d68-8a7f-4c09-97be-4afc875ce698",
   "metadata": {},
   "outputs": [],
   "source": [
    "temp = my_list[index1]"
   ]
  },
  {
   "cell_type": "code",
   "execution_count": 33,
   "id": "7196d207-6819-44a3-96b5-33cff2191ee1",
   "metadata": {},
   "outputs": [],
   "source": [
    "my_list[index1] = my_list[index2]"
   ]
  },
  {
   "cell_type": "code",
   "execution_count": 34,
   "id": "6cb24a1f-892f-40d3-b089-1dd8f3f896e9",
   "metadata": {},
   "outputs": [],
   "source": [
    "my_list[index2] = temp"
   ]
  },
  {
   "cell_type": "code",
   "execution_count": 35,
   "id": "d682ddfe-9223-49a5-8d45-1e0562226ecd",
   "metadata": {},
   "outputs": [
    {
     "data": {
      "text/plain": [
       "[1, 4, 3, 2, 5]"
      ]
     },
     "execution_count": 35,
     "metadata": {},
     "output_type": "execute_result"
    }
   ],
   "source": [
    "my_list"
   ]
  }
 ],
 "metadata": {
  "kernelspec": {
   "display_name": "Python 3 (ipykernel)",
   "language": "python",
   "name": "python3"
  },
  "language_info": {
   "codemirror_mode": {
    "name": "ipython",
    "version": 3
   },
   "file_extension": ".py",
   "mimetype": "text/x-python",
   "name": "python",
   "nbconvert_exporter": "python",
   "pygments_lexer": "ipython3",
   "version": "3.10.8"
  }
 },
 "nbformat": 4,
 "nbformat_minor": 5
}
